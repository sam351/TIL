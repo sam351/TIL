{
 "cells": [
  {
   "cell_type": "markdown",
   "metadata": {},
   "source": [
    "<h2> # 1000~1250 사이에서 소수 찾아 출력 </h2>"
   ]
  },
  {
   "cell_type": "code",
   "execution_count": 8,
   "metadata": {
    "scrolled": true
   },
   "outputs": [
    {
     "name": "stdout",
     "output_type": "stream",
     "text": [
      "1009, 1013, 1019, 1021, 1031, 1033, 1039, 1049, 1051, 1061, 1063, 1069, 1087, 1091, 1093, 1097, 1103, 1109, 1117, 1123, 1129, 1151, 1153, 1163, 1171, 1181, 1187, 1193, 1201, 1213, 1217, 1223, 1229, 1231, 1237, 1249, \n",
      " are prime numbers\n"
     ]
    }
   ],
   "source": [
    "for num in range(1000, 1251):\n",
    "    count = 0\n",
    "    for i in range(num):\n",
    "        tmp_deno = i+1\n",
    "        if num%tmp_deno == 0:\n",
    "            count = count+1\n",
    "            pass\n",
    "        pass\n",
    "    \n",
    "    if count == 2:\n",
    "        print(num, end=', ')\n",
    "        pass\n",
    "    pass\n",
    "\n",
    "print('\\n are prime numbers')"
   ]
  },
  {
   "cell_type": "markdown",
   "metadata": {},
   "source": [
    "<h2> # 1000~1250 사이에서 소수의 총 갯수 출력 </h2>"
   ]
  },
  {
   "cell_type": "code",
   "execution_count": 7,
   "metadata": {},
   "outputs": [
    {
     "name": "stdout",
     "output_type": "stream",
     "text": [
      "The number of prime numbers is 36\n"
     ]
    }
   ],
   "source": [
    "result = 0\n",
    "\n",
    "for num in range(1000, 1251):\n",
    "    count = 0\n",
    "    for i in range(num):\n",
    "        tmp_deno = i+1\n",
    "        if num%tmp_deno == 0:\n",
    "            count = count+1\n",
    "            pass\n",
    "        pass\n",
    "    \n",
    "    if count == 2:\n",
    "        result = result + 1\n",
    "        pass\n",
    "    pass\n",
    "\n",
    "print('The number of prime numbers is {}'.format(result))  # string formatting using place holder {}"
   ]
  },
  {
   "cell_type": "markdown",
   "metadata": {},
   "source": [
    "<h2> # 10번째까지의 피보나치 수열 출력 </h2>"
   ]
  },
  {
   "cell_type": "code",
   "execution_count": 10,
   "metadata": {},
   "outputs": [
    {
     "name": "stdout",
     "output_type": "stream",
     "text": [
      "0 1 1 2 3 5 8 13 21 34 55 89 "
     ]
    }
   ],
   "source": [
    "# 1번&2번 숫자 할당, tmp_bin 할당\n",
    "tmp_first = 0\n",
    "tmp_second = 1\n",
    "tmp_bin = 0\n",
    "\n",
    "# 1번, 2번 숫자 출력\n",
    "print(tmp_first, end=' ')\n",
    "print(tmp_second, end=' ')\n",
    "\n",
    "# 아래 작업 10번 반복\n",
    "for i in range(10):\n",
    "    ## 2번을 임시로 tmp_bin에 저장, 1번+2번을 2번에 저장, tmp_bin 값을 1번에 저장\n",
    "    tmp_bin = tmp_second\n",
    "    tmp_second = tmp_first + tmp_second\n",
    "    tmp_first = tmp_bin\n",
    "\n",
    "    ## 2번 숫차 출력\n",
    "    print(tmp_second, end=' ')"
   ]
  },
  {
   "cell_type": "markdown",
   "metadata": {},
   "source": [
    "<h2> # 포매팅 연습 </h2>"
   ]
  },
  {
   "cell_type": "code",
   "execution_count": 40,
   "metadata": {
    "scrolled": true
   },
   "outputs": [
    {
     "name": "stdout",
     "output_type": "stream",
     "text": [
      "2 * 1 = 2\n",
      "2 * 9 = 18\n"
     ]
    }
   ],
   "source": [
    "a=2\n",
    "b=1\n",
    "c=9\n",
    "print(f'{a} * {b} = {a*b}')\n",
    "print(f'{a} * {c} = {a*c}')"
   ]
  },
  {
   "cell_type": "markdown",
   "metadata": {},
   "source": [
    "<h2> # 문자열 메소드 연습 </h2>"
   ]
  },
  {
   "cell_type": "code",
   "execution_count": 46,
   "metadata": {},
   "outputs": [
    {
     "data": {
      "text/plain": [
       "'990001, addx, 17, 29, 16, 49, 43, 154, C, A, C'"
      ]
     },
     "execution_count": 46,
     "metadata": {},
     "output_type": "execute_result"
    }
   ],
   "source": [
    "line = '990001, addx, 17, 29, 16, 49, 43, 154, C, A, C'\n",
    "data = line.split(', ')\n",
    "line"
   ]
  },
  {
   "cell_type": "code",
   "execution_count": 50,
   "metadata": {},
   "outputs": [
    {
     "data": {
      "text/plain": [
       "46"
      ]
     },
     "execution_count": 50,
     "metadata": {},
     "output_type": "execute_result"
    }
   ],
   "source": [
    "data\n",
    "data[-1]\n",
    "data[2]+data[3]\n",
    "int(data[2]) + int(data[3])"
   ]
  },
  {
   "cell_type": "code",
   "execution_count": 54,
   "metadata": {},
   "outputs": [
    {
     "data": {
      "text/plain": [
       "['990001', 'addx', '17', '29', '16', '49', '43', '154', 'C', 'A', 'C']"
      ]
     },
     "execution_count": 54,
     "metadata": {},
     "output_type": "execute_result"
    }
   ],
   "source": [
    "data"
   ]
  },
  {
   "cell_type": "code",
   "execution_count": 69,
   "metadata": {},
   "outputs": [
    {
     "data": {
      "text/plain": [
       "['990001', 'addx', 17, 29, 16, 49, 43, 154, 'C', 'A', 'C']"
      ]
     },
     "execution_count": 69,
     "metadata": {},
     "output_type": "execute_result"
    }
   ],
   "source": [
    "data2 = data.copy()\n",
    "for idx in range(2,8):\n",
    "    data2[idx] = int(data2[idx])\n",
    "data2"
   ]
  },
  {
   "cell_type": "markdown",
   "metadata": {},
   "source": [
    "<h2> # 리스트 다루기 기초 </h2>"
   ]
  },
  {
   "cell_type": "code",
   "execution_count": 81,
   "metadata": {},
   "outputs": [
    {
     "data": {
      "text/plain": [
       "1"
      ]
     },
     "execution_count": 81,
     "metadata": {},
     "output_type": "execute_result"
    }
   ],
   "source": [
    "# 리스트 생성\n",
    "m_list = [1,2,3,4,5]\n",
    "\n",
    "# 리스트 인덱싱\n",
    "m_list[0]"
   ]
  },
  {
   "cell_type": "code",
   "execution_count": 83,
   "metadata": {},
   "outputs": [
    {
     "name": "stdout",
     "output_type": "stream",
     "text": [
      "1\t2\t3\t4\t5\t"
     ]
    }
   ],
   "source": [
    "# 원소 출력\n",
    "for elem in m_list:\n",
    "    print(elem, end='\\t')"
   ]
  },
  {
   "cell_type": "code",
   "execution_count": 86,
   "metadata": {},
   "outputs": [
    {
     "data": {
      "text/plain": [
       "[1, 2, 3, 4, 50, 6, 6]"
      ]
     },
     "execution_count": 86,
     "metadata": {},
     "output_type": "execute_result"
    }
   ],
   "source": [
    "# 원소 수정\n",
    "m_list[4] = 50\n",
    "\n",
    "# 원소 추가\n",
    "m_list.append(6)\n",
    "\n",
    "m_list"
   ]
  },
  {
   "cell_type": "code",
   "execution_count": 92,
   "metadata": {},
   "outputs": [
    {
     "data": {
      "text/plain": [
       "[1, 4, 50, 6, 6]"
      ]
     },
     "execution_count": 92,
     "metadata": {},
     "output_type": "execute_result"
    }
   ],
   "source": [
    "# 원소 삭제\n",
    "del m_list[1]  # 인덱스 기준 삭제\n",
    "m_list.remove(2)  # 원소값 기준 삭제\n",
    "\n",
    "m_list"
   ]
  },
  {
   "cell_type": "markdown",
   "metadata": {},
   "source": [
    "<h2> # 리스트 내림차순 정렬하기 </h2>\n",
    "\n",
    "핵심 포인트 : 첫 번째 자리에 대해 정렬하는 한 케이스의 알고리즘 구현한 후, for문으로 일반화"
   ]
  },
  {
   "cell_type": "code",
   "execution_count": 107,
   "metadata": {},
   "outputs": [
    {
     "data": {
      "text/plain": [
       "[92, 90, 87, 54, 34, 23, 20, 19, 3, 1]"
      ]
     },
     "execution_count": 107,
     "metadata": {},
     "output_type": "execute_result"
    }
   ],
   "source": [
    "list_a = [23, 87, 1, 92, 34, 54, 20, 19, 3, 90]\n",
    "\n",
    "# 전체 원소 길이만큼 실행\n",
    "for idx1 in range( len(list_a)-1 ):\n",
    "    ## list_a[idx1] 이후 원소의 길이만큼 실행\n",
    "    for idx2 in range( idx1+1, len(list_a) ):\n",
    "        ### list_a[idx1]와 list_a[idx2] 비교\n",
    "        if list_a[idx1] < list_a[idx2]:\n",
    "            ### 두 원소 교환  (+ tmp_bin 변수 할당해 사용)\n",
    "            tmp_bin = list_a[idx2]\n",
    "            list_a[idx2] = list_a[idx1]\n",
    "            list_a[idx1] = tmp_bin\n",
    "            pass\n",
    "        pass\n",
    "    pass\n",
    "\n",
    "list_a"
   ]
  },
  {
   "cell_type": "markdown",
   "metadata": {},
   "source": [
    "<h2> # 랜덤 패키지 </h2>"
   ]
  },
  {
   "cell_type": "code",
   "execution_count": 108,
   "metadata": {},
   "outputs": [],
   "source": [
    "import random as rnd"
   ]
  },
  {
   "cell_type": "code",
   "execution_count": 117,
   "metadata": {},
   "outputs": [
    {
     "data": {
      "text/plain": [
       "2"
      ]
     },
     "execution_count": 117,
     "metadata": {},
     "output_type": "execute_result"
    }
   ],
   "source": [
    "r = rnd.randint(1, 3)  # [1~3] 사이 정수 하나 랜덤 추출\n",
    "r"
   ]
  },
  {
   "cell_type": "code",
   "execution_count": 118,
   "metadata": {},
   "outputs": [
    {
     "name": "stdout",
     "output_type": "stream",
     "text": [
      "3\n",
      "52\n",
      "87\n",
      "97\n",
      "38\n",
      "71\n",
      "79\n",
      "14\n",
      "23\n",
      "47\n"
     ]
    }
   ],
   "source": [
    "for i in range(10):\n",
    "    r2 = rnd.randrange(100)  # [0~100) 사이 정수 랜덤 추출\n",
    "    print(r2)\n",
    "    pass"
   ]
  },
  {
   "cell_type": "code",
   "execution_count": 122,
   "metadata": {},
   "outputs": [
    {
     "data": {
      "text/plain": [
       "[47, 21, 91, 26, 39, 71, 74, 79, 21, 21]"
      ]
     },
     "execution_count": 122,
     "metadata": {},
     "output_type": "execute_result"
    }
   ],
   "source": [
    "# [0~100) 사이 정수 10개 복원추출\n",
    "list_b = []\n",
    "for i in range(10):\n",
    "    r2 = rnd.randrange(100)\n",
    "    list_b.append(r2)\n",
    "    pass\n",
    "list_b"
   ]
  },
  {
   "cell_type": "code",
   "execution_count": 128,
   "metadata": {},
   "outputs": [
    {
     "name": "stdout",
     "output_type": "stream",
     "text": [
      "63 is redundant\n",
      "11 is redundant\n"
     ]
    },
    {
     "data": {
      "text/plain": [
       "[60, 89, 63, 88, 92, 11, 34, 4]"
      ]
     },
     "execution_count": 128,
     "metadata": {},
     "output_type": "execute_result"
    }
   ],
   "source": [
    "# 10개 복원추출하되, 중복 제거\n",
    "list_b = []\n",
    "for i in range(10):\n",
    "    r2 = rnd.randrange(100)\n",
    "    if r2 not in list_b:\n",
    "        list_b.append(r2)\n",
    "#     else:\n",
    "#         print(f'{r2} is redundant')\n",
    "    pass\n",
    "list_b"
   ]
  },
  {
   "cell_type": "code",
   "execution_count": 131,
   "metadata": {},
   "outputs": [
    {
     "name": "stdout",
     "output_type": "stream",
     "text": [
      "65 is redundant\n",
      "40 is redundant\n",
      "77 is redundant\n"
     ]
    },
    {
     "data": {
      "text/plain": [
       "[44, 40, 75, 77, 66, 86, 65, 99, 8, 61]"
      ]
     },
     "execution_count": 131,
     "metadata": {},
     "output_type": "execute_result"
    }
   ],
   "source": [
    "# 10개 비복원 추출\n",
    "list_b = []\n",
    "while True:\n",
    "    r2 = rnd.randrange(100)\n",
    "    if r2 not in list_b:\n",
    "        list_b.append(r2)\n",
    "    else:\n",
    "        print(f'{r2} is redundant')\n",
    "        pass\n",
    "    \n",
    "    if len(list_b)==10:\n",
    "        break\n",
    "        pass\n",
    "    pass\n",
    "list_b"
   ]
  },
  {
   "cell_type": "markdown",
   "metadata": {},
   "source": [
    "<h2> # 10~99 사이의 hidden 숫자 만들어서 up&down 게임 </h2>"
   ]
  },
  {
   "cell_type": "code",
   "execution_count": 138,
   "metadata": {},
   "outputs": [
    {
     "name": "stdout",
     "output_type": "stream",
     "text": [
      "please input a number >> 55\n",
      "go down!\n",
      "please input a number >> 32\n",
      "go down!\n",
      "please input a number >> 21\n",
      "go down!\n",
      "please input a number >> 15\n",
      "go up!\n",
      "please input a number >> 18\n",
      "go up!\n",
      "please input a number >> 19\n",
      "correct!\n"
     ]
    }
   ],
   "source": [
    "hidden = rnd.randrange(10, 100)\n",
    "\n",
    "while True:\n",
    "    tmp_ans = input('please input a number >> ')  # 사용자에게 숫자 입력받기\n",
    "    tmp_ans = int(tmp_ans)\n",
    "\n",
    "    if tmp_ans == hidden:\n",
    "        print('correct!!!')\n",
    "        break\n",
    "    elif tmp_ans > hidden:\n",
    "        print('go down!')\n",
    "    else:\n",
    "        print('go up!')"
   ]
  },
  {
   "cell_type": "code",
   "execution_count": 142,
   "metadata": {},
   "outputs": [
    {
     "name": "stdout",
     "output_type": "stream",
     "text": [
      "please input a number >> 54\n",
      "go up!\n",
      "please input a number >> 72\n",
      "go up!\n",
      "please input a number >> 86\n",
      "go down!\n",
      "please input a number >> 79\n",
      "go down!\n",
      "please input a number >> 75\n",
      "go up!\n",
      "please input a number >> 77\n",
      "go down!\n",
      "the answer was 76... bye!\n"
     ]
    }
   ],
   "source": [
    "# 기회는 오직 6번\n",
    "hidden = rnd.randrange(10, 100)\n",
    "\n",
    "for i in range(6):\n",
    "    tmp_ans = input('please input a number >> ')  # 사용자에게 숫자 입력받기\n",
    "    tmp_ans = int(tmp_ans)\n",
    "\n",
    "    if tmp_ans == hidden:\n",
    "        print('correct!!!')\n",
    "        break\n",
    "    elif tmp_ans > hidden:\n",
    "        print('go down!')\n",
    "    else:\n",
    "        print('go up!')\n",
    "        pass\n",
    "    \n",
    "    if i==5:\n",
    "        print(f'the answer was {hidden}... bye!')\n",
    "        pass\n",
    "    pass"
   ]
  },
  {
   "cell_type": "markdown",
   "metadata": {},
   "source": [
    "<h2> # 함수 만들기 </h2>"
   ]
  },
  {
   "cell_type": "code",
   "execution_count": 143,
   "metadata": {},
   "outputs": [],
   "source": [
    "def plus(a,b):\n",
    "    c = a+b\n",
    "    return c"
   ]
  },
  {
   "cell_type": "code",
   "execution_count": 144,
   "metadata": {},
   "outputs": [
    {
     "data": {
      "text/plain": [
       "30"
      ]
     },
     "execution_count": 144,
     "metadata": {},
     "output_type": "execute_result"
    }
   ],
   "source": [
    "result = plus(10,20)\n",
    "result"
   ]
  },
  {
   "cell_type": "code",
   "execution_count": 147,
   "metadata": {},
   "outputs": [],
   "source": [
    "def plus2(a,b=20,c=30):\n",
    "    return a+b+c"
   ]
  },
  {
   "cell_type": "code",
   "execution_count": 150,
   "metadata": {},
   "outputs": [
    {
     "data": {
      "text/plain": [
       "60"
      ]
     },
     "execution_count": 150,
     "metadata": {},
     "output_type": "execute_result"
    }
   ],
   "source": [
    "plus2(10,20,30)\n",
    "plus2(10,20)\n",
    "plus2(10)"
   ]
  },
  {
   "cell_type": "code",
   "execution_count": 151,
   "metadata": {},
   "outputs": [
    {
     "data": {
      "text/plain": [
       "40"
      ]
     },
     "execution_count": 151,
     "metadata": {},
     "output_type": "execute_result"
    }
   ],
   "source": [
    "plus2(10,c=10)"
   ]
  },
  {
   "cell_type": "markdown",
   "metadata": {},
   "source": [
    "<h2> # 월(month) 입력하면 달력 출력하는 함수 만들기 </h2>"
   ]
  },
  {
   "cell_type": "code",
   "execution_count": 157,
   "metadata": {},
   "outputs": [],
   "source": [
    "def view_month(month):\n",
    "    # 일수(n_days) & 시작 공백(n_space) 계산\n",
    "    ## 일수, 시작 공백 초기화\n",
    "    n_days = 0\n",
    "    n_space = 2\n",
    "    ## 일수 확정할 때까지 시작 공백값 누적\n",
    "    for j in range(month):   # '0 ~ (month-1)까지 실행'\n",
    "        tmp_mon = j+1        # '1 ~ month 까지 실행'으로 변환\n",
    "        n_space = (n_space + n_days)%7\n",
    "\n",
    "        if tmp_mon == 2:\n",
    "            n_days = 28\n",
    "        elif tmp_mon < 8:\n",
    "            if tmp_mon%2 == 0:\n",
    "                n_days = 30\n",
    "            else:\n",
    "                n_days = 31\n",
    "        else:\n",
    "            if tmp_mon%2 == 0:\n",
    "                n_days = 31\n",
    "            else:\n",
    "                n_days = 30\n",
    "    pass\n",
    "\n",
    "    print('2019년 {}월\\n'.format(month))\n",
    "    print('일\\t월\\t화\\t수\\t목\\t금\\t토')\n",
    "    print('\\t'*n_space, end='')\n",
    "    # 날짜 하나씩 출력하되, 토요일마다 개행\n",
    "    for i in range(n_days):\n",
    "        day = i+1\n",
    "        print(day, end='\\t')\n",
    "        if (day + n_space)%7 == 0:\n",
    "            print()\n",
    "            pass\n",
    "        pass\n",
    "    pass"
   ]
  },
  {
   "cell_type": "code",
   "execution_count": 174,
   "metadata": {},
   "outputs": [],
   "source": [
    "def view_month_2(month):\n",
    "    space_list = [2, 5, 5, 1, 3, 6, 1, 4, 0, 2, 5, 0]\n",
    "    days_list =  [31, 28, 31, 30, 31, 30, 31, 31, 30, 31, 30, 31]\n",
    "    \n",
    "    n_days = days_list[month-1]\n",
    "    n_space = space_list[month-1]\n",
    "    \n",
    "    print('2019년 {}월\\n'.format(month))\n",
    "    print('일\\t월\\t화\\t수\\t목\\t금\\t토')\n",
    "    print('\\t'*n_space, end='')\n",
    "    # 날짜 하나씩 출력하되, 토요일마다 개행\n",
    "    for i in range(n_days):\n",
    "        day = i+1\n",
    "        print(day, end='\\t')\n",
    "        if (day + n_space)%7 == 0:\n",
    "            print()\n",
    "            pass\n",
    "        pass\n",
    "    pass"
   ]
  },
  {
   "cell_type": "code",
   "execution_count": 188,
   "metadata": {},
   "outputs": [
    {
     "name": "stdout",
     "output_type": "stream",
     "text": [
      "2019년 12월\n",
      "\n",
      "일\t월\t화\t수\t목\t금\t토\n",
      "1\t2\t3\t4\t5\t6\t7\t\n",
      "8\t9\t10\t11\t12\t13\t14\t\n",
      "15\t16\t17\t18\t19\t20\t21\t\n",
      "22\t23\t24\t25\t26\t27\t28\t\n",
      "29\t30\t31\t\n",
      "\n",
      "\n",
      "2019년 12월\n",
      "\n",
      "일\t월\t화\t수\t목\t금\t토\n",
      "1\t2\t3\t4\t5\t6\t7\t\n",
      "8\t9\t10\t11\t12\t13\t14\t\n",
      "15\t16\t17\t18\t19\t20\t21\t\n",
      "22\t23\t24\t25\t26\t27\t28\t\n",
      "29\t30\t31\t"
     ]
    }
   ],
   "source": [
    "month = 12\n",
    "view_month(month)\n",
    "print('\\n\\n')\n",
    "view_month_2(month)"
   ]
  },
  {
   "cell_type": "markdown",
   "metadata": {},
   "source": [
    "<h2> # 기존 코드 함수화하기 </h2>"
   ]
  },
  {
   "cell_type": "code",
   "execution_count": 193,
   "metadata": {},
   "outputs": [],
   "source": [
    "# 구구단 하나 출력\n",
    "def gugudan(dan):\n",
    "    for i in range(9):\n",
    "        step = i+1\n",
    "        print(f\"{dan} X {step} = {dan*step:>2}\")\n",
    "        pass"
   ]
  },
  {
   "cell_type": "code",
   "execution_count": 194,
   "metadata": {},
   "outputs": [
    {
     "name": "stdout",
     "output_type": "stream",
     "text": [
      "2 X 1 =  2\n",
      "2 X 2 =  4\n",
      "2 X 3 =  6\n",
      "2 X 4 =  8\n",
      "2 X 5 = 10\n",
      "2 X 6 = 12\n",
      "2 X 7 = 14\n",
      "2 X 8 = 16\n",
      "2 X 9 = 18\n"
     ]
    }
   ],
   "source": [
    "gugudan(2)"
   ]
  },
  {
   "cell_type": "code",
   "execution_count": 225,
   "metadata": {},
   "outputs": [],
   "source": [
    "# 지정한 범위의 구구단 모두 출력\n",
    "def gugudan_range(start, end):\n",
    "    for dan in range(start, end):\n",
    "        for i in range(9):\n",
    "            step = i+1\n",
    "            print(f\"{dan} X {step} = {dan*step:>2}\", end='\\t')\n",
    "            pass\n",
    "        print('\\n')\n",
    "    pass"
   ]
  },
  {
   "cell_type": "code",
   "execution_count": 227,
   "metadata": {},
   "outputs": [
    {
     "name": "stdout",
     "output_type": "stream",
     "text": [
      "3 X 1 =  3\t3 X 2 =  6\t3 X 3 =  9\t3 X 4 = 12\t3 X 5 = 15\t3 X 6 = 18\t3 X 7 = 21\t3 X 8 = 24\t3 X 9 = 27\t\n",
      "\n"
     ]
    }
   ],
   "source": [
    "gugudan_range(3,4)"
   ]
  },
  {
   "cell_type": "code",
   "execution_count": 234,
   "metadata": {},
   "outputs": [],
   "source": [
    "# 지정한 범위의 구구단 모두 출력하되, 잘못된 케이스 커버 -- 수정 필요\n",
    "def gugudan_range_2(start, end):\n",
    "    if start == end:\n",
    "        end = end+1\n",
    "        pass\n",
    "    elif start > end:\n",
    "        temp = end\n",
    "        end = start\n",
    "        start = temp\n",
    "        pass\n",
    "    \n",
    "    for dan in range(start, end):\n",
    "        for i in range(9):\n",
    "            step = i+1\n",
    "            print(f\"{dan} X {step} = {dan*step:>2}\", end='\\t')\n",
    "            pass\n",
    "        print('\\n')\n",
    "    pass"
   ]
  },
  {
   "cell_type": "code",
   "execution_count": 237,
   "metadata": {},
   "outputs": [
    {
     "name": "stdout",
     "output_type": "stream",
     "text": [
      "3 X 1 =  3\t3 X 2 =  6\t3 X 3 =  9\t3 X 4 = 12\t3 X 5 = 15\t3 X 6 = 18\t3 X 7 = 21\t3 X 8 = 24\t3 X 9 = 27\t\n",
      "\n"
     ]
    }
   ],
   "source": [
    "gugudan_range_2(3,3)\n",
    "gugudan_range_2(4,3)"
   ]
  },
  {
   "cell_type": "code",
   "execution_count": 238,
   "metadata": {},
   "outputs": [],
   "source": [
    "# 소수이면 True 리턴\n",
    "def is_prime(num):\n",
    "    count = 0\n",
    "    result = False\n",
    "    \n",
    "    for i in range(1, num+1):\n",
    "        if num % i == 0:\n",
    "            count = count + 1\n",
    "            pass\n",
    "        pass\n",
    "\n",
    "    if count == 2:\n",
    "        result = True\n",
    "        pass\n",
    "    \n",
    "    return result"
   ]
  },
  {
   "cell_type": "code",
   "execution_count": 239,
   "metadata": {},
   "outputs": [
    {
     "name": "stdout",
     "output_type": "stream",
     "text": [
      "True\n"
     ]
    },
    {
     "data": {
      "text/plain": [
       "False"
      ]
     },
     "execution_count": 239,
     "metadata": {},
     "output_type": "execute_result"
    }
   ],
   "source": [
    "print(is_prime(5))\n",
    "is_prime(6)"
   ]
  },
  {
   "cell_type": "code",
   "execution_count": 197,
   "metadata": {},
   "outputs": [],
   "source": [
    "# 윤년이면 True 리턴\n",
    "def is_leapyear(year):\n",
    "    if year%400==0 or (year%4==0 and year%100!=0):\n",
    "        result = True\n",
    "    else:\n",
    "        result = False\n",
    "        pass\n",
    "    return result"
   ]
  },
  {
   "cell_type": "code",
   "execution_count": 199,
   "metadata": {},
   "outputs": [
    {
     "name": "stdout",
     "output_type": "stream",
     "text": [
      "True\n"
     ]
    },
    {
     "data": {
      "text/plain": [
       "False"
      ]
     },
     "execution_count": 199,
     "metadata": {},
     "output_type": "execute_result"
    }
   ],
   "source": [
    "print(is_leapyear(2000))\n",
    "is_leapyear(2100)"
   ]
  },
  {
   "cell_type": "code",
   "execution_count": 213,
   "metadata": {},
   "outputs": [],
   "source": [
    "# n번째까지 피보나치 수열 출력\n",
    "def view_Fibonacci(order):\n",
    "    tmp_first = 0\n",
    "    tmp_second = 1\n",
    "    print(tmp_first, tmp_second, end=' ')\n",
    "    \n",
    "    for i in range(order):\n",
    "        tmp_bin = tmp_second\n",
    "        tmp_second = tmp_first + tmp_second\n",
    "        tmp_first = tmp_bin\n",
    "\n",
    "        print(tmp_second, end=' ')"
   ]
  },
  {
   "cell_type": "code",
   "execution_count": 214,
   "metadata": {},
   "outputs": [
    {
     "name": "stdout",
     "output_type": "stream",
     "text": [
      "0 1 1 2 3 5 8 13 21 34 55 89 "
     ]
    }
   ],
   "source": [
    "view_Fibonacci(10)"
   ]
  },
  {
   "cell_type": "code",
   "execution_count": 208,
   "metadata": {},
   "outputs": [],
   "source": [
    "# 리스트 정렬해 리턴\n",
    "def sorted_list(list1):\n",
    "    list_a = list1.copy()\n",
    "    for idx1 in range( len(list_a)-1 ):\n",
    "    ## list_a[idx1] 이후 원소의 길이만큼 실행\n",
    "        for idx2 in range( idx1+1, len(list_a) ):\n",
    "        ### list_a[idx1]와 list_a[idx2] 비교\n",
    "            if list_a[idx1] < list_a[idx2]:\n",
    "                ### 두 원소 교환  (+ tmp_bin 변수 할당해 사용)\n",
    "                tmp_bin = list_a[idx2]\n",
    "                list_a[idx2] = list_a[idx1]\n",
    "                list_a[idx1] = tmp_bin\n",
    "                pass\n",
    "            pass\n",
    "        pass\n",
    "    return list_a"
   ]
  },
  {
   "cell_type": "code",
   "execution_count": 210,
   "metadata": {},
   "outputs": [
    {
     "data": {
      "text/plain": [
       "[23, 87, 1, 92, 34, 54, 20, 19, 3, 90]"
      ]
     },
     "execution_count": 210,
     "metadata": {},
     "output_type": "execute_result"
    }
   ],
   "source": [
    "tmp_list = [23, 87, 1, 92, 34, 54, 20, 19, 3, 90]\n",
    "sorted_list(tmp_list)"
   ]
  },
  {
   "cell_type": "code",
   "execution_count": null,
   "metadata": {},
   "outputs": [],
   "source": []
  },
  {
   "cell_type": "code",
   "execution_count": null,
   "metadata": {},
   "outputs": [],
   "source": []
  },
  {
   "cell_type": "code",
   "execution_count": null,
   "metadata": {},
   "outputs": [],
   "source": []
  },
  {
   "cell_type": "markdown",
   "metadata": {},
   "source": [
    "<h2> #  </h2>"
   ]
  },
  {
   "cell_type": "markdown",
   "metadata": {},
   "source": [
    "<h2> #  </h2>"
   ]
  },
  {
   "cell_type": "markdown",
   "metadata": {},
   "source": [
    "<h2> #  </h2>"
   ]
  },
  {
   "cell_type": "markdown",
   "metadata": {},
   "source": [
    "<h2> #  </h2>"
   ]
  },
  {
   "cell_type": "markdown",
   "metadata": {},
   "source": [
    "<h2> #  </h2>"
   ]
  },
  {
   "cell_type": "markdown",
   "metadata": {},
   "source": [
    "<h2> #  </h2>"
   ]
  },
  {
   "cell_type": "markdown",
   "metadata": {},
   "source": [
    "<h2> #  </h2>"
   ]
  },
  {
   "cell_type": "markdown",
   "metadata": {},
   "source": [
    "<h2> #  </h2>"
   ]
  },
  {
   "cell_type": "code",
   "execution_count": null,
   "metadata": {},
   "outputs": [],
   "source": []
  }
 ],
 "metadata": {
  "kernelspec": {
   "display_name": "Python 3",
   "language": "python",
   "name": "python3"
  },
  "language_info": {
   "codemirror_mode": {
    "name": "ipython",
    "version": 3
   },
   "file_extension": ".py",
   "mimetype": "text/x-python",
   "name": "python",
   "nbconvert_exporter": "python",
   "pygments_lexer": "ipython3",
   "version": "3.7.4"
  }
 },
 "nbformat": 4,
 "nbformat_minor": 2
}

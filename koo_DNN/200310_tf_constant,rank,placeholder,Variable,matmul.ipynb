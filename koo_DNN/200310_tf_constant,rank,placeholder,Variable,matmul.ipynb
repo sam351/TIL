{
 "cells": [
  {
   "cell_type": "code",
   "execution_count": 1,
   "metadata": {},
   "outputs": [
    {
     "name": "stdout",
     "output_type": "stream",
     "text": [
      "1.6.0\n",
      "2.1.3-tf\n"
     ]
    }
   ],
   "source": [
    "import tensorflow as tf\n",
    "from tensorflow import keras\n",
    "\n",
    "print(tf.__version__)\n",
    "print(keras.__version__)"
   ]
  },
  {
   "cell_type": "markdown",
   "metadata": {},
   "source": [
    "## tf.constant, tf.rank, Type"
   ]
  },
  {
   "cell_type": "code",
   "execution_count": 2,
   "metadata": {},
   "outputs": [
    {
     "name": "stdout",
     "output_type": "stream",
     "text": [
      "Tensor(\"Const:0\", shape=(1, 2), dtype=float32)\n",
      "Tensor(\"Rank:0\", shape=(), dtype=int32)\n",
      "\n",
      "values : [[4. 1.]]\n",
      "rank   : 2\n",
      "type   : <class 'numpy.ndarray'>\n"
     ]
    }
   ],
   "source": [
    "node1 = tf.constant([[4,1]], dtype=tf.float32)\n",
    "print(node1)\n",
    "print(tf.rank(node1))\n",
    "print()\n",
    "\n",
    "sess = tf.Session()\n",
    "print(f'values : {sess.run(node1)}')\n",
    "print(f'rank   : {sess.run(tf.rank(node1))}')\n",
    "print(f'type   : {type(sess.run(node1))}')\n",
    "sess.close()"
   ]
  },
  {
   "cell_type": "markdown",
   "metadata": {},
   "source": [
    "## tf.constant, tf.rank, Type - using as_default(), eval() method"
   ]
  },
  {
   "cell_type": "code",
   "execution_count": 3,
   "metadata": {
    "scrolled": true
   },
   "outputs": [
    {
     "name": "stdout",
     "output_type": "stream",
     "text": [
      "values : [[4. 1.]]\n",
      "rank   : 2\n",
      "type   : <class 'numpy.ndarray'>\n"
     ]
    }
   ],
   "source": [
    "with tf.Session().as_default():\n",
    "    print(f'values : {node1.eval()}')\n",
    "    print(f'rank   : {tf.rank(node1).eval()}')\n",
    "    print(f'type   : {type(node1.eval())}')"
   ]
  },
  {
   "cell_type": "markdown",
   "metadata": {},
   "source": [
    "## tf.placeholder, Feeding"
   ]
  },
  {
   "cell_type": "code",
   "execution_count": 4,
   "metadata": {
    "scrolled": true
   },
   "outputs": [
    {
     "name": "stdout",
     "output_type": "stream",
     "text": [
      "[ 2.  4.  6.  8. 10.]\n"
     ]
    }
   ],
   "source": [
    "input_data = [1,2,3,4,5]\n",
    "x = tf.placeholder(dtype=tf.float32)\n",
    "y = x * 2\n",
    "\n",
    "with tf.Session() as sess:\n",
    "    result = sess.run(y, feed_dict={x:input_data})\n",
    "\n",
    "print(result)"
   ]
  },
  {
   "cell_type": "markdown",
   "metadata": {},
   "source": [
    "## tf.Variable"
   ]
  },
  {
   "cell_type": "code",
   "execution_count": 5,
   "metadata": {},
   "outputs": [
    {
     "name": "stdout",
     "output_type": "stream",
     "text": [
      "[ 2.  4.  6.  8. 10.]\n"
     ]
    }
   ],
   "source": [
    "input_data = [1,2,3,4,5]\n",
    "x = tf.placeholder(dtype=tf.float32)\n",
    "W = tf.Variable(2., dtype=tf.float32)\n",
    "y = W * x\n",
    "\n",
    "\n",
    "with tf.Session() as sess:\n",
    "    init = tf.global_variables_initializer()  # 그래프를 실행하기 전에 변수를 초기화를 해야, 값이 변수에 지정됨\n",
    "    sess.run(init)\n",
    "    result = sess.run(y, feed_dict={x:input_data})\n",
    "\n",
    "print(result)"
   ]
  },
  {
   "cell_type": "markdown",
   "metadata": {},
   "source": [
    "## Matrix calculation - tf.matmul()"
   ]
  },
  {
   "cell_type": "code",
   "execution_count": 6,
   "metadata": {},
   "outputs": [
    {
     "name": "stdout",
     "output_type": "stream",
     "text": [
      "shape of x : (1, 3)\n",
      "shape of w : (3, 1)\n",
      "shape of y : (1, 1)\n",
      "\n",
      "matmul result = [[12.]]\n"
     ]
    }
   ],
   "source": [
    "x = tf.constant([[1, 2, 3]], dtype=tf.float32)\n",
    "w = tf.constant([[2], [2], [2]], dtype=tf.float32)\n",
    "y = tf.matmul(x, w)\n",
    "\n",
    "print(f'shape of x : {x.get_shape()}')\n",
    "print(f'shape of w : {w.get_shape()}')\n",
    "print(f'shape of y : {y.get_shape()}')\n",
    "\n",
    "\n",
    "with tf.Session() as sess:\n",
    "    result = sess.run(y)\n",
    "print(f'\\nmatmul result = {result}')"
   ]
  },
  {
   "cell_type": "markdown",
   "metadata": {},
   "source": [
    "## Matrix calculation - using tf.placeholder"
   ]
  },
  {
   "cell_type": "code",
   "execution_count": 7,
   "metadata": {},
   "outputs": [
    {
     "name": "stdout",
     "output_type": "stream",
     "text": [
      "shape of x : (?, 3)\n",
      "shape of w : (3, 1)\n",
      "shape of y : (?, 1)\n",
      "\n",
      "matmul result = \n",
      "[[12.]\n",
      " [12.]\n",
      " [18.]]\n"
     ]
    }
   ],
   "source": [
    "input_data = [[1,2,3], [1,2,3], [2,3,4]]\n",
    "x = tf.placeholder(dtype=tf.float32, shape=[None, 3])\n",
    "w = tf.constant([[2], [2], [2]], dtype=tf.float32)\n",
    "y = tf.matmul(x, w)\n",
    "\n",
    "print(f'shape of x : {x.get_shape()}')\n",
    "print(f'shape of w : {w.get_shape()}')\n",
    "print(f'shape of y : {y.get_shape()}')\n",
    "\n",
    "\n",
    "with tf.Session() as sess:\n",
    "    result = sess.run(y, feed_dict={x:input_data})\n",
    "print(f'\\nmatmul result = \\n{result}')"
   ]
  },
  {
   "cell_type": "code",
   "execution_count": null,
   "metadata": {},
   "outputs": [],
   "source": []
  }
 ],
 "metadata": {
  "kernelspec": {
   "display_name": "Python 3",
   "language": "python",
   "name": "python3"
  },
  "language_info": {
   "codemirror_mode": {
    "name": "ipython",
    "version": 3
   },
   "file_extension": ".py",
   "mimetype": "text/x-python",
   "name": "python",
   "nbconvert_exporter": "python",
   "pygments_lexer": "ipython3",
   "version": "3.6.10"
  }
 },
 "nbformat": 4,
 "nbformat_minor": 4
}

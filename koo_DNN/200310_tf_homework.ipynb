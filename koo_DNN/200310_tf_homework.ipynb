{
 "cells": [
  {
   "cell_type": "code",
   "execution_count": 1,
   "metadata": {},
   "outputs": [
    {
     "name": "stdout",
     "output_type": "stream",
     "text": [
      "tf version : 1.6.0\n",
      "\n",
      "result = 5\n"
     ]
    }
   ],
   "source": [
    "import tensorflow as tf\n",
    "print(f'tf version : {tf.__version__}\\n')\n",
    "\n",
    "\n",
    "a = tf.constant(5)\n",
    "b = tf.constant(2)\n",
    "c = tf.constant(3)\n",
    "\n",
    "d = tf.multiply( a, b, name='mul' )\n",
    "e = tf.add( b, c, name='add' )\n",
    "\n",
    "f = tf.subtract( d, e, name='sub' )\n",
    "\n",
    "\n",
    "with tf.Session() as sess:\n",
    "    result = sess.run(f)\n",
    "print(f'result = {result}')"
   ]
  }
 ],
 "metadata": {
  "kernelspec": {
   "display_name": "Python 3",
   "language": "python",
   "name": "python3"
  },
  "language_info": {
   "codemirror_mode": {
    "name": "ipython",
    "version": 3
   },
   "file_extension": ".py",
   "mimetype": "text/x-python",
   "name": "python",
   "nbconvert_exporter": "python",
   "pygments_lexer": "ipython3",
   "version": "3.6.10"
  }
 },
 "nbformat": 4,
 "nbformat_minor": 4
}

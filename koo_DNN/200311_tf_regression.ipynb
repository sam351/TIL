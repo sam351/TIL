{
 "cells": [
  {
   "cell_type": "code",
   "execution_count": 1,
   "metadata": {},
   "outputs": [],
   "source": [
    "import tensorflow as tf\n",
    "import numpy as np\n",
    "import matplotlib.pyplot as plt\n",
    "import math"
   ]
  },
  {
   "cell_type": "markdown",
   "metadata": {},
   "source": [
    "## Simple linear regression"
   ]
  },
  {
   "cell_type": "code",
   "execution_count": 2,
   "metadata": {},
   "outputs": [
    {
     "data": {
      "text/plain": [
       "array([[50.496375,  7.312312],\n",
       "       [69.017336,  9.94901 ],\n",
       "       [ 6.504676,  0.402668],\n",
       "       [47.202416,  7.372892],\n",
       "       [40.42739 ,  5.413481]])"
      ]
     },
     "execution_count": 2,
     "metadata": {},
     "output_type": "execute_result"
    }
   ],
   "source": [
    "data = np.loadtxt('data/simple_regression.txt')\n",
    "y_data = data[:, 0]\n",
    "x_data = data[:, 1]\n",
    "\n",
    "data[:5]"
   ]
  },
  {
   "cell_type": "code",
   "execution_count": 3,
   "metadata": {},
   "outputs": [],
   "source": [
    "with tf.Graph().as_default() as simple_regression:\n",
    "    y = tf.placeholder(dtype=tf.float32, shape=[None])\n",
    "    \n",
    "    x = tf.placeholder(dtype=tf.float32, shape=[None])\n",
    "    W = tf.get_variable('W' ,dtype=tf.float32, initializer=1.)\n",
    "    b = tf.get_variable('b', dtype=tf.float32, initializer=1.)\n",
    "    \n",
    "    h = W*x + b\n",
    "\n",
    "    cost = tf.reduce_mean(tf.square(tf.subtract(h, y)))\n",
    "    optimizer = tf.train.GradientDescentOptimizer(learning_rate=0.001)\n",
    "    train = optimizer.minimize(cost)"
   ]
  },
  {
   "cell_type": "code",
   "execution_count": 4,
   "metadata": {
    "scrolled": true
   },
   "outputs": [
    {
     "name": "stdout",
     "output_type": "stream",
     "text": [
      "loss :  1090.7887  |  varibales : [1.368382, 1.056958]\n",
      "loss :     8.9577  |  varibales : [6.9593, 0.43259335]\n",
      "loss :     8.7629  |  varibales : [7.053416, -0.16414122]\n",
      "loss :     8.7308  |  varibales : [7.091632, -0.40644208]\n",
      "loss :     8.7255  |  varibales : [7.107147, -0.5048308]\n",
      "loss :     8.7246  |  varibales : [7.1134458, -0.5447615]\n",
      "loss :     8.7246  |  varibales : [7.1134477, -0.54477376]\n",
      "\n",
      "final W, b (local optima) : 7.1134, -0.5448\n"
     ]
    }
   ],
   "source": [
    "with tf.Session(graph=simple_regression) as sess:\n",
    "    sess.run(tf.global_variables_initializer())\n",
    "    for i in range(10000):\n",
    "        l, W_, b_,_ = sess.run([cost, W, b, train], feed_dict={x:x_data, y:y_data})\n",
    "        if i%2000 == 0 or i>9997:\n",
    "            print(f\"loss : {l:10.4f}  |  varibales : {[W_, b_]}\")\n",
    "        \n",
    "    print(f'\\nfinal W, b (local optima) : {W_:.4f}, {b_:.4f}')"
   ]
  },
  {
   "cell_type": "code",
   "execution_count": 5,
   "metadata": {},
   "outputs": [],
   "source": [
    "with tf.Graph().as_default() as simple_regression2:\n",
    "    y = tf.placeholder(dtype=tf.float32, shape=[None])\n",
    "    \n",
    "    x = tf.placeholder(dtype=tf.float32, shape=[None])\n",
    "    W = tf.get_variable('W' ,dtype=tf.float32, initializer=1.)\n",
    "    b = tf.get_variable('b', dtype=tf.float32, initializer=1.)\n",
    "    \n",
    "    h = W*x + b\n",
    "    \n",
    "    cost = tf.reduce_mean(tf.square(tf.subtract(h, y)))\n",
    "    optimizer = tf.train.GradientDescentOptimizer(learning_rate=0.01)\n",
    "    train = optimizer.minimize(cost)"
   ]
  },
  {
   "cell_type": "code",
   "execution_count": 6,
   "metadata": {
    "scrolled": false
   },
   "outputs": [
    {
     "name": "stdout",
     "output_type": "stream",
     "text": [
      "loss :  1090.7887  |  varibales : [4.683819, 1.5695798]\n",
      "loss :     8.7245  |  varibales : [7.1177173, -0.57182765]\n",
      "loss :     8.7245  |  varibales : [7.117762, -0.5721127]\n",
      "loss :     8.7245  |  varibales : [7.117762, -0.5721127]\n",
      "loss :     8.7245  |  varibales : [7.117762, -0.5721127]\n",
      "loss :     8.7245  |  varibales : [7.117762, -0.5721127]\n",
      "loss :     8.7245  |  varibales : [7.117762, -0.5721127]\n",
      "\n",
      "final W, b (local optima) : 7.1178, -0.5721\n"
     ]
    }
   ],
   "source": [
    "with tf.Session(graph=simple_regression2) as sess2:\n",
    "    sess2.run(tf.global_variables_initializer())\n",
    "    for i in range(10000):\n",
    "        l, W_, b_,_ = sess2.run([cost, W, b, train], feed_dict={x:x_data, y:y_data})\n",
    "        if i%2000 == 0 or i>9997:\n",
    "            print(f\"loss : {l:10.4f}  |  varibales : {[W_, b_]}\")\n",
    "        \n",
    "    print(f'\\nfinal W, b (local optima) : {W_:.4f}, {b_:.4f}')"
   ]
  },
  {
   "cell_type": "code",
   "execution_count": 7,
   "metadata": {},
   "outputs": [
    {
     "data": {
      "image/png": "[encoded data removed]",
      "text/plain": [
       "<Figure size 432x288 with 1 Axes>"
      ]
     },
     "metadata": {
      "needs_background": "light"
     },
     "output_type": "display_data"
    }
   ],
   "source": [
    "plt.plot(x_data, W_*x_data + b_, 'r')\n",
    "plt.scatter(x_data, y_data)\n",
    "plt.show()"
   ]
  },
  {
   "cell_type": "markdown",
   "metadata": {},
   "source": [
    "## Multiple linear regression"
   ]
  },
  {
   "cell_type": "code",
   "execution_count": 8,
   "metadata": {
    "scrolled": true
   },
   "outputs": [
    {
     "data": {
      "text/plain": [
       "array([[1., 0., 1.],\n",
       "       [0., 2., 2.],\n",
       "       [3., 0., 3.],\n",
       "       [0., 4., 4.],\n",
       "       [5., 0., 5.]])"
      ]
     },
     "execution_count": 8,
     "metadata": {},
     "output_type": "execute_result"
    }
   ],
   "source": [
    "data2 = np.loadtxt('data/multi_regression.txt')\n",
    "x_data = data2[:, :2]\n",
    "y_data = data2[:, 2]\n",
    "\n",
    "data2"
   ]
  },
  {
   "cell_type": "code",
   "execution_count": 9,
   "metadata": {},
   "outputs": [],
   "source": [
    "with tf.Graph().as_default() as multiple_regression:\n",
    "    y = tf.placeholder(dtype=tf.float32, shape=[None])\n",
    "    \n",
    "    x = tf.placeholder(dtype=tf.float32, shape=[None, 2])\n",
    "    W = tf.get_variable('W' , shape=[1, 2], dtype=tf.float32)\n",
    "    b = tf.get_variable('b', dtype=tf.float32, initializer=1.)\n",
    "    \n",
    "    h = tf.matmul(W, x, transpose_b=True) + b\n",
    "    \n",
    "    cost = tf.reduce_mean(tf.square(tf.subtract(h, y)))\n",
    "    optimizer = tf.train.GradientDescentOptimizer(learning_rate=0.001)\n",
    "    train = optimizer.minimize(cost)"
   ]
  },
  {
   "cell_type": "code",
   "execution_count": 10,
   "metadata": {
    "scrolled": true
   },
   "outputs": [
    {
     "name": "stdout",
     "output_type": "stream",
     "text": [
      "loss :    15.7377  |  weights : [-0.7235229  0.8386913]         |  bias : 1.0047\n",
      "loss :     0.0878  |  weights : [0.8153885  0.78095984]         |  bias : 0.7023\n",
      "loss :     0.0259  |  weights : [0.89972323 0.8810224 ]         |  bias : 0.3815\n",
      "loss :     0.0076  |  weights : [0.94553167 0.93537384]         |  bias : 0.2072\n",
      "loss :     0.0023  |  weights : [0.9704139 0.9648963]           |  bias : 0.1125\n",
      "loss :     0.0007  |  weights : [0.98391926 0.9809204 ]         |  bias : 0.0612\n",
      "loss :     0.0007  |  weights : [0.98392415 0.9809262 ]         |  bias : 0.0612\n",
      "\n",
      "final W (local optima) : 0.9839, 0.9809\n",
      "final b (local optima) : 0.0612\n"
     ]
    }
   ],
   "source": [
    "with tf.Session(graph=multiple_regression) as sess:\n",
    "    sess.run(tf.global_variables_initializer())\n",
    "    for i in range(10000):\n",
    "        l, W_, b_, _ = sess.run([cost, W, b, train], feed_dict={x:x_data, y:y_data})\n",
    "        if i%2000 == 0 or i>9997:\n",
    "            print(f\"loss : {l:10.4f}  |  weights : {str(W_[0]):30}  |  bias : {b_:6.4f}\")\n",
    "        \n",
    "    print()\n",
    "    print(f'final W (local optima) : {W_[0][0]:.4f}, {W_[0][1]:.4f}')\n",
    "    print(f'final b (local optima) : {b_:.4f}')"
   ]
  },
  {
   "cell_type": "code",
   "execution_count": 11,
   "metadata": {
    "scrolled": true
   },
   "outputs": [
    {
     "data": {
      "image/png": "[encoded data removed]",
      "text/plain": [
       "<Figure size 432x288 with 1 Axes>"
      ]
     },
     "metadata": {
      "needs_background": "light"
     },
     "output_type": "display_data"
    }
   ],
   "source": [
    "from sklearn.decomposition import PCA\n",
    "pca = PCA(n_components=1)\n",
    "new_x_data = pca.fit_transform(x_data)\n",
    "pred = np.matmul(W_, x_data.T)+b_\n",
    "\n",
    "plt.plot(new_x_data, pred[0], 'r')\n",
    "plt.scatter(new_x_data, y_data)\n",
    "plt.show()"
   ]
  },
  {
   "cell_type": "markdown",
   "metadata": {},
   "source": [
    "## Logistic Regression"
   ]
  },
  {
   "cell_type": "code",
   "execution_count": 12,
   "metadata": {},
   "outputs": [
    {
     "data": {
      "text/plain": [
       "array([[1., 2., 1., 0.],\n",
       "       [1., 3., 2., 0.],\n",
       "       [1., 3., 4., 0.],\n",
       "       [1., 5., 5., 1.],\n",
       "       [1., 7., 5., 1.],\n",
       "       [1., 2., 5., 1.]])"
      ]
     },
     "execution_count": 12,
     "metadata": {},
     "output_type": "execute_result"
    }
   ],
   "source": [
    "data3 = np.loadtxt('data/logistic_regression.txt')\n",
    "x_data = data3[:, :-1]\n",
    "y_data = data3[:, -1]\n",
    "\n",
    "data3"
   ]
  },
  {
   "cell_type": "code",
   "execution_count": 13,
   "metadata": {},
   "outputs": [],
   "source": [
    "num_features = x_data.shape[1]\n",
    "\n",
    "with tf.Graph().as_default() as logistic_regression:\n",
    "    y_lab = tf.placeholder(dtype=tf.float32, shape=[None])\n",
    "    \n",
    "    x = tf.placeholder(dtype=tf.float32, shape=[None, num_features])\n",
    "    w = tf.get_variable('w', [1, num_features], dtype=tf.float32)\n",
    "    b = tf.get_variable('b', dtype=tf.float32, initializer=1.)\n",
    "    \n",
    "    h1 = tf.matmul(w, x, transpose_b=True) + b\n",
    "    h2 = tf.sigmoid(h1)\n",
    "    \n",
    "    cost = -tf.reduce_mean( y_lab * tf.log(h2) + (1-y_lab) * tf.log(1-h2) )\n",
    "    optimizer = tf.train.GradientDescentOptimizer(learning_rate=0.01)\n",
    "    train = optimizer.minimize(cost)"
   ]
  },
  {
   "cell_type": "code",
   "execution_count": 14,
   "metadata": {},
   "outputs": [
    {
     "name": "stdout",
     "output_type": "stream",
     "text": [
      "loss :     1.3016  |  weights : [ 1.148437    0.31998453 -0.2783422 ]     |  bias : 0.9959\n",
      "loss :     0.3685  |  weights : [-1.1657586   0.01842521  0.7314924 ]     |  bias : -1.3183\n",
      "loss :     0.2703  |  weights : [-2.1112995  0.1410903  1.0551624]        |  bias : -2.2638\n",
      "loss :     0.2300  |  weights : [-2.7206578   0.19257724  1.2850049 ]     |  bias : -2.8732\n",
      "loss :     0.2060  |  weights : [-3.191697    0.21905576  1.4722387 ]     |  bias : -3.3442\n",
      "loss :     0.1889  |  weights : [-3.587714    0.23418719  1.6346122 ]     |  bias : -3.7402\n",
      "loss :     0.1889  |  weights : [-3.587899    0.23419297  1.6346889 ]     |  bias : -3.7404\n",
      "\n",
      "final W (local optima) : -3.5879, 0.2342, 1.6347\n",
      "final b (local optima) : -3.7404\n"
     ]
    }
   ],
   "source": [
    "with tf.Session(graph=logistic_regression) as sess:\n",
    "    sess.run(tf.global_variables_initializer())\n",
    "    for i in range(10000):\n",
    "        l, w_, b_, _ = sess.run( [cost, w, b, train], feed_dict={x:x_data, y_lab:y_data} )\n",
    "        if i%2000 == 0 or i>9997:\n",
    "            print(f\"loss : {l:10.4f}  |  weights : {str(w_[0]):40}  |  bias : {b_:6.4f}\")\n",
    "        \n",
    "print()\n",
    "print(f'final W (local optima) : {w_[0][0]:.4f}, {w_[0][1]:.4f}, {w_[0][2]:.4f}')\n",
    "print(f'final b (local optima) : {b_:.4f}')"
   ]
  },
  {
   "cell_type": "code",
   "execution_count": 15,
   "metadata": {},
   "outputs": [
    {
     "name": "stdout",
     "output_type": "stream",
     "text": [
      "label 0.0 probability 0.005350400950236972\n",
      "label 0.0 probability 0.03368825661384812\n",
      "label 0.0 probability 0.4782738189919995\n",
      "label 1.0 probability 0.8824787258259169\n",
      "label 1.0 probability 0.9230481318325542\n",
      "label 1.0 probability 0.7881043228009131\n"
     ]
    }
   ],
   "source": [
    "for j in range(len(x_data)):\n",
    "    sum_ = 0\n",
    "    for i in range(3):\n",
    "        sum_ += w_[0][i] * x_data[j,i]\n",
    "    print('label', y_data[j], 'probability', 1/(1+math.exp(-(sum_+b_))))"
   ]
  },
  {
   "cell_type": "code",
   "execution_count": null,
   "metadata": {},
   "outputs": [],
   "source": []
  }
 ],
 "metadata": {
  "kernelspec": {
   "display_name": "Python 3",
   "language": "python",
   "name": "python3"
  },
  "language_info": {
   "codemirror_mode": {
    "name": "ipython",
    "version": 3
   },
   "file_extension": ".py",
   "mimetype": "text/x-python",
   "name": "python",
   "nbconvert_exporter": "python",
   "pygments_lexer": "ipython3",
   "version": "3.6.10"
  }
 },
 "nbformat": 4,
 "nbformat_minor": 4
}

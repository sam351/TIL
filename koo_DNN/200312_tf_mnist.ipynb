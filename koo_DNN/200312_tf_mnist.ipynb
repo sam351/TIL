{
 "cells": [
  {
   "cell_type": "code",
   "execution_count": 1,
   "metadata": {},
   "outputs": [
    {
     "data": {
      "text/plain": [
       "'1.6.0'"
      ]
     },
     "execution_count": 1,
     "metadata": {},
     "output_type": "execute_result"
    }
   ],
   "source": [
    "import tensorflow as tf\n",
    "from tensorflow.examples.tutorials.mnist import input_data\n",
    "\n",
    "import numpy as np\n",
    "import matplotlib.pyplot as plt\n",
    "\n",
    "tf.__version__"
   ]
  },
  {
   "cell_type": "markdown",
   "metadata": {},
   "source": [
    "## Load & Explore data"
   ]
  },
  {
   "cell_type": "code",
   "execution_count": 2,
   "metadata": {},
   "outputs": [
    {
     "name": "stdout",
     "output_type": "stream",
     "text": [
      "Extracting data/mnist/input_data\\train-images-idx3-ubyte.gz\n",
      "Extracting data/mnist/input_data\\train-labels-idx1-ubyte.gz\n",
      "Extracting data/mnist/input_data\\t10k-images-idx3-ubyte.gz\n",
      "Extracting data/mnist/input_data\\t10k-labels-idx1-ubyte.gz\n"
     ]
    },
    {
     "data": {
      "text/plain": [
       "Datasets(train=<tensorflow.contrib.learn.python.learn.datasets.mnist.DataSet object at 0x00000176AF64E438>, validation=<tensorflow.contrib.learn.python.learn.datasets.mnist.DataSet object at 0x00000176AF68D630>, test=<tensorflow.contrib.learn.python.learn.datasets.mnist.DataSet object at 0x00000176AF68D668>)"
      ]
     },
     "execution_count": 2,
     "metadata": {},
     "output_type": "execute_result"
    }
   ],
   "source": [
    "mnist = input_data.read_data_sets('data/mnist/input_data', one_hot=True)\n",
    "mnist"
   ]
  },
  {
   "cell_type": "code",
   "execution_count": 3,
   "metadata": {},
   "outputs": [
    {
     "name": "stdout",
     "output_type": "stream",
     "text": [
      "\n",
      "< 주석 >\n",
      "\n",
      "데이타셋명               |  행렬차원     |  데이타종류\n",
      "==============================================================\n",
      "mnist.train.images       |  55000 x 784  |  학습이미지데이타\n",
      "mnist.train.labels       |  55000 x 10   |  학습라벨데이타\n",
      "mnist.test.images        |  10000 x 784  |  테스트용이미지데이타\n",
      "mnist.test.labels        |  10000 x 10   |  테스트용라벨데이타\n",
      "mnist.validation.images  |  5000 x 784   |  확인용이미지데이타\n",
      "mnist.validation.labels  |  5000 x 10    |  확인용라벨데이타\n",
      "\n"
     ]
    }
   ],
   "source": [
    "print(\"\"\"\n",
    "< 주석 >\n",
    "\n",
    "데이타셋명               |  행렬차원     |  데이타종류\n",
    "==============================================================\n",
    "mnist.train.images       |  55000 x 784  |  학습이미지데이타\n",
    "mnist.train.labels       |  55000 x 10   |  학습라벨데이타\n",
    "mnist.test.images        |  10000 x 784  |  테스트용이미지데이타\n",
    "mnist.test.labels        |  10000 x 10   |  테스트용라벨데이타\n",
    "mnist.validation.images  |  5000 x 784   |  확인용이미지데이타\n",
    "mnist.validation.labels  |  5000 x 10    |  확인용라벨데이타\n",
    "\"\"\")"
   ]
  },
  {
   "cell_type": "code",
   "execution_count": 4,
   "metadata": {},
   "outputs": [
    {
     "name": "stdout",
     "output_type": "stream",
     "text": [
      "(55000, 784)\n"
     ]
    },
    {
     "data": {
      "text/plain": [
       "array([[0., 0., 0., ..., 0., 0., 0.],\n",
       "       [0., 0., 0., ..., 0., 0., 0.],\n",
       "       [0., 0., 0., ..., 0., 0., 0.],\n",
       "       ...,\n",
       "       [0., 0., 0., ..., 0., 0., 0.],\n",
       "       [0., 0., 0., ..., 0., 0., 0.],\n",
       "       [0., 0., 0., ..., 0., 0., 0.]], dtype=float32)"
      ]
     },
     "execution_count": 4,
     "metadata": {},
     "output_type": "execute_result"
    }
   ],
   "source": [
    "print(mnist.train.images.shape)\n",
    "mnist.train.images"
   ]
  },
  {
   "cell_type": "code",
   "execution_count": 5,
   "metadata": {},
   "outputs": [
    {
     "name": "stdout",
     "output_type": "stream",
     "text": [
      ">>> answer : 7\n"
     ]
    },
    {
     "data": {
      "image/png": "[encoded data removed]",
      "text/plain": [
       "<Figure size 432x288 with 1 Axes>"
      ]
     },
     "metadata": {
      "needs_background": "light"
     },
     "output_type": "display_data"
    }
   ],
   "source": [
    "idx = 0\n",
    "tmp_label = mnist.train.labels[idx]\n",
    "tmp_img = mnist.train.images[idx]\n",
    "tmp_img_reshape = tmp_img.reshape((28,28))\n",
    "\n",
    "print(f'>>> answer : {tmp_label.tolist().index(1)}')\n",
    "plt.imshow(tmp_img_reshape, cmap='gray')\n",
    "plt.show()"
   ]
  },
  {
   "cell_type": "markdown",
   "metadata": {},
   "source": [
    "## Generate a graph (model)"
   ]
  },
  {
   "cell_type": "code",
   "execution_count": 6,
   "metadata": {},
   "outputs": [
    {
     "name": "stdout",
     "output_type": "stream",
     "text": [
      "WARNING:tensorflow:From <ipython-input-6-bb3da86cee64>:10: softmax_cross_entropy_with_logits (from tensorflow.python.ops.nn_ops) is deprecated and will be removed in a future version.\n",
      "Instructions for updating:\n",
      "\n",
      "Future major versions of TensorFlow will allow gradients to flow\n",
      "into the labels input on backprop by default.\n",
      "\n",
      "See tf.nn.softmax_cross_entropy_with_logits_v2.\n",
      "\n"
     ]
    }
   ],
   "source": [
    "x = tf.placeholder(dtype=tf.float32, shape=[None, 784])\n",
    "y_lab = tf.placeholder(dtype=tf.float32, shape=[None, 10])\n",
    "\n",
    "w = tf.Variable(tf.zeros(shape=(784, 10)))\n",
    "b = tf.Variable(tf.zeros(shape=10))\n",
    "hidden_y = tf.matmul(x, w) + b\n",
    "output_y = tf.nn.softmax(hidden_y)\n",
    "\n",
    "# Loss function, optimizer\n",
    "cost = tf.reduce_mean(tf.nn.softmax_cross_entropy_with_logits(labels=y_lab, logits=hidden_y))  # input hidden_y to logits, not output_y\n",
    "optimizer = tf.train.GradientDescentOptimizer(learning_rate=0.5)\n",
    "train = optimizer.minimize(cost)"
   ]
  },
  {
   "cell_type": "markdown",
   "metadata": {},
   "source": [
    "## Train the model"
   ]
  },
  {
   "cell_type": "code",
   "execution_count": 7,
   "metadata": {},
   "outputs": [
    {
     "name": "stdout",
     "output_type": "stream",
     "text": [
      "epoch :     0  |  cost : 2.3026\n",
      "epoch :   300  |  cost : 0.2252\n",
      "epoch :   600  |  cost : 0.4554\n",
      "epoch :   900  |  cost : 0.2532\n",
      "epoch :   998  |  cost : 0.3286\n",
      "epoch :   999  |  cost : 0.4161\n",
      "\n",
      "final weights : \n",
      "[[0. 0. 0. ... 0. 0. 0.]\n",
      " [0. 0. 0. ... 0. 0. 0.]\n",
      " [0. 0. 0. ... 0. 0. 0.]\n",
      " ...\n",
      " [0. 0. 0. ... 0. 0. 0.]\n",
      " [0. 0. 0. ... 0. 0. 0.]\n",
      " [0. 0. 0. ... 0. 0. 0.]]\n",
      "\n",
      "final bias : \n",
      "[-0.3545782   0.38716653  0.10573937 -0.24385175  0.00817225  1.2831113\n",
      " -0.12489797  0.63385475 -1.4596324  -0.23508357]\n"
     ]
    }
   ],
   "source": [
    "sess = tf.Session()\n",
    "sess.run(tf.global_variables_initializer())\n",
    "\n",
    "for epoch in range(1000):\n",
    "    batch_x, batch_y = mnist.train.next_batch(100)\n",
    "    tmp_cost, _ = sess.run([cost, train], feed_dict={x:batch_x, y_lab:batch_y})\n",
    "    \n",
    "    if epoch % 300 == 0 or epoch>997:\n",
    "        print(f'epoch : {epoch:5}  |  cost : {tmp_cost:.4f}')\n",
    "    pass\n",
    "\n",
    "final_w, final_b = sess.run([w, b])\n",
    "print(f'\\nfinal weights : \\n{final_w}')\n",
    "print(f'\\nfinal bias : \\n{final_b}')"
   ]
  },
  {
   "cell_type": "markdown",
   "metadata": {},
   "source": [
    "## Evaluate the model"
   ]
  },
  {
   "cell_type": "code",
   "execution_count": 8,
   "metadata": {},
   "outputs": [
    {
     "name": "stdout",
     "output_type": "stream",
     "text": [
      "accuracy : 0.9185\n"
     ]
    }
   ],
   "source": [
    "corrects = tf.equal( tf.argmax(y_lab, 1), tf.argmax(output_y, 1) )\n",
    "accuracy = tf.reduce_mean(tf.cast(corrects, dtype=tf.float32))\n",
    "\n",
    "acc = sess.run(accuracy, feed_dict={x:mnist.test.images, y_lab:mnist.test.labels})\n",
    "print(f'accuracy : {acc:.4f}')"
   ]
  },
  {
   "cell_type": "code",
   "execution_count": null,
   "metadata": {},
   "outputs": [],
   "source": []
  }
 ],
 "metadata": {
  "kernelspec": {
   "display_name": "Python 3",
   "language": "python",
   "name": "python3"
  },
  "language_info": {
   "codemirror_mode": {
    "name": "ipython",
    "version": 3
   },
   "file_extension": ".py",
   "mimetype": "text/x-python",
   "name": "python",
   "nbconvert_exporter": "python",
   "pygments_lexer": "ipython3",
   "version": "3.6.10"
  }
 },
 "nbformat": 4,
 "nbformat_minor": 4
}

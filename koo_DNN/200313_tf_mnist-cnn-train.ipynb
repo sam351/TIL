{
 "cells": [
  {
   "cell_type": "code",
   "execution_count": 1,
   "metadata": {},
   "outputs": [],
   "source": [
    "import tensorflow as tf\n",
    "import numpy as np\n",
    "import matplotlib.pyplot as plt\n",
    "from tensorflow.examples.tutorials.mnist import input_data"
   ]
  },
  {
   "cell_type": "markdown",
   "metadata": {},
   "source": [
    "## Load data"
   ]
  },
  {
   "cell_type": "code",
   "execution_count": 2,
   "metadata": {},
   "outputs": [
    {
     "name": "stdout",
     "output_type": "stream",
     "text": [
      "Extracting ./data/mnist/train-images-idx3-ubyte.gz\n",
      "Extracting ./data/mnist/train-labels-idx1-ubyte.gz\n",
      "Extracting ./data/mnist/t10k-images-idx3-ubyte.gz\n",
      "Extracting ./data/mnist/t10k-labels-idx1-ubyte.gz\n"
     ]
    }
   ],
   "source": [
    "np.random.seed(20160704)\n",
    "tf.set_random_seed(20160704)\n",
    "\n",
    "mnist = input_data.read_data_sets('./data/mnist/', one_hot=True)"
   ]
  },
  {
   "cell_type": "markdown",
   "metadata": {},
   "source": [
    "## Define Convolutional layer"
   ]
  },
  {
   "cell_type": "code",
   "execution_count": 3,
   "metadata": {},
   "outputs": [],
   "source": [
    "tf.reset_default_graph()  # reset graph\n",
    "\n",
    "# input layer - 28 * 28\n",
    "x = tf.placeholder(tf.float32, [None, 784])\n",
    "x_image = tf.reshape(x, [-1, 28, 28, 1])  # -1 means None - will be automatically assigned\n",
    "\n",
    "\n",
    "# first conv layer - 28 * 28 → 14 * 14\n",
    "num_filters1 = 32\n",
    "W_conv1 = tf.Variable(tf.truncated_normal([5, 5, 1, num_filters1], stddev=0.1))\n",
    "h_conv1 = tf.nn.conv2d(x_image, filter=W_conv1, strides=[1,1,1,1], padding='SAME')\n",
    "\n",
    "b_conv1 = tf.Variable(tf.constant(0.1, shape=[num_filters1]))\n",
    "h_conv1_cutoff = tf.nn.relu(h_conv1 + b_conv1)\n",
    "\n",
    "h_pool1 = tf.nn.max_pool(h_conv1_cutoff, ksize=[1, 2, 2, 1], strides=[1,2,2,1], padding='SAME')\n",
    "\n",
    "\n",
    "# second conv layer - 14 * 14 → 7*7\n",
    "num_filters2 = 64\n",
    "W_conv2 = tf.Variable(tf.truncated_normal([5, 5, num_filters1, num_filters2], stddev=0.1))\n",
    "h_conv2 = tf.nn.conv2d(h_pool1, filter=W_conv2, strides=[1,1,1,1], padding='SAME')\n",
    "\n",
    "b_conv2 = tf.Variable(tf.constant(0.1, shape=[num_filters2]))\n",
    "h_conv2_cutoff = tf.nn.relu(h_conv2 + b_conv2)\n",
    "\n",
    "h_pool2 = tf.nn.max_pool(h_conv2_cutoff, ksize=[1, 2, 2, 1], strides=[1,2,2,1], padding='SAME')"
   ]
  },
  {
   "cell_type": "markdown",
   "metadata": {},
   "source": [
    "## Define Fully-connected layer"
   ]
  },
  {
   "cell_type": "code",
   "execution_count": 4,
   "metadata": {},
   "outputs": [],
   "source": [
    "# flatten layer\n",
    "h_pool2_flat = tf.reshape(h_pool2, shape=[-1, 7*7*num_filters2])\n",
    "\n",
    "\n",
    "# ANN(Dense) layer\n",
    "num_units1 = 7*7*num_filters2\n",
    "num_units2 = 1024  # number of nodes in NN\n",
    "w2 = tf.Variable(tf.truncated_normal([num_units1, num_units2]))\n",
    "b2 = tf.Variable(tf.constant(0.1, shape=[num_units2]))\n",
    "\n",
    "hidden2 = tf.nn.relu(tf.matmul(h_pool2_flat, w2) + b2)\n",
    "\n",
    "\n",
    "# dropout layer\n",
    "keep_prob = tf.placeholder(tf.float32)\n",
    "hidden2_drop = tf.nn.dropout(hidden2, keep_prob=keep_prob)\n",
    "\n",
    "\n",
    "# output layer(softmax classification)\n",
    "w0 = tf.Variable(tf.zeros([num_units2, 10]))\n",
    "b0 = tf.Variable(tf.zeros([10]))\n",
    "k = tf.matmul(hidden2_drop, w0) + b0\n",
    "p = tf.nn.softmax(k)"
   ]
  },
  {
   "cell_type": "markdown",
   "metadata": {},
   "source": [
    "## Define Loss function & Select optimizer, metric"
   ]
  },
  {
   "cell_type": "code",
   "execution_count": 5,
   "metadata": {},
   "outputs": [
    {
     "name": "stdout",
     "output_type": "stream",
     "text": [
      "WARNING:tensorflow:From <ipython-input-5-febbb4643a7a>:3: softmax_cross_entropy_with_logits (from tensorflow.python.ops.nn_ops) is deprecated and will be removed in a future version.\n",
      "Instructions for updating:\n",
      "\n",
      "Future major versions of TensorFlow will allow gradients to flow\n",
      "into the labels input on backprop by default.\n",
      "\n",
      "See tf.nn.softmax_cross_entropy_with_logits_v2.\n",
      "\n"
     ]
    }
   ],
   "source": [
    "# define loss (cost) function\n",
    "t = tf.placeholder(tf.float32, [None, 10])\n",
    "loss = tf.reduce_mean(tf.nn.softmax_cross_entropy_with_logits(labels=t, logits=k))\n",
    "\n",
    "# select optimizer\n",
    "train_step = tf.train.AdamOptimizer(0.0001).minimize(loss)\n",
    "\n",
    "# select metric\n",
    "correct_prediction = tf.equal(tf.argmax(p, 1), tf.argmax(t, 1))\n",
    "accuracy = tf.reduce_mean(tf.cast(correct_prediction, tf.float32))"
   ]
  },
  {
   "cell_type": "markdown",
   "metadata": {},
   "source": [
    "## Train"
   ]
  },
  {
   "cell_type": "code",
   "execution_count": 6,
   "metadata": {},
   "outputs": [
    {
     "name": "stdout",
     "output_type": "stream",
     "text": [
      "Step: 500, Loss: 0.622818, Accuracy: 0.952800\n",
      "Step: 1000, Loss: 0.386857, Accuracy: 0.972300\n"
     ]
    }
   ],
   "source": [
    "# prepare session\n",
    "sess = tf.InteractiveSession()\n",
    "sess.run(tf.global_variables_initializer())\n",
    "saver = tf.train.Saver()\n",
    "\n",
    "# start training\n",
    "i = 0\n",
    "for _ in range(1000):\n",
    "    i += 1\n",
    "    batch_xs, batch_ts = mnist.train.next_batch(50)\n",
    "    sess.run(train_step, feed_dict={x:batch_xs, t:batch_ts, keep_prob:0.5})\n",
    "    \n",
    "    # evaluate the model\n",
    "    if i % 500 == 0:\n",
    "        loss_vals, acc_vals = [], []\n",
    "        for c in range(4):\n",
    "            start = int(len(mnist.test.labels) / 4 * c)\n",
    "            end = int(len(mnist.test.labels) / 4 * (c+1))\n",
    "            loss_val, acc_val = sess.run([loss, accuracy], \n",
    "                                         feed_dict={x:mnist.test.images[start:end], \n",
    "                                                    t:mnist.test.labels[start:end], keep_prob:1.0})\n",
    "            loss_vals.append(loss_val)\n",
    "            acc_vals.append(acc_val)\n",
    "        loss_val = np.sum(loss_vals)\n",
    "        acc_val = np.mean(acc_vals)\n",
    "        print ('Step: %d, Loss: %f, Accuracy: %f'%(i, loss_val, acc_val))\n",
    "\n",
    "saver.save(sess, './model/mnist-cnn/cnn_session')\n",
    "sess.close()"
   ]
  },
  {
   "cell_type": "code",
   "execution_count": null,
   "metadata": {},
   "outputs": [],
   "source": []
  }
 ],
 "metadata": {
  "kernelspec": {
   "display_name": "Python 3",
   "language": "python",
   "name": "python3"
  },
  "language_info": {
   "codemirror_mode": {
    "name": "ipython",
    "version": 3
   },
   "file_extension": ".py",
   "mimetype": "text/x-python",
   "name": "python",
   "nbconvert_exporter": "python",
   "pygments_lexer": "ipython3",
   "version": "3.6.10"
  }
 },
 "nbformat": 4,
 "nbformat_minor": 4
}

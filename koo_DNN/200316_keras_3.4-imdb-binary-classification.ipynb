{
  "nbformat": 4,
  "nbformat_minor": 0,
  "metadata": {
    "colab": {
      "name": "200316_keras_3.4-imdb-binary-classification.ipynb",
      "provenance": [],
      "collapsed_sections": []
    },
    "kernelspec": {
      "name": "python3",
      "display_name": "Python 3"
    }
  },
  "cells": [
    {
      "cell_type": "code",
      "metadata": {
        "id": "RxYzfCvujgAQ",
        "colab_type": "code",
        "outputId": "8972319d-01f6-4dfd-ee8e-892d797a4688",
        "colab": {
          "base_uri": "https://localhost:8080/",
          "height": 89
        }
      },
      "source": [
        "%tensorflow_version 2.x  # line for colab\n",
        "\n",
        "import tensorflow as tf\n",
        "from tensorflow import keras\n",
        "from keras.datasets import imdb\n",
        "import numpy as np\n",
        "import matplotlib.pyplot as plt\n",
        "\n",
        "tf.random.set_seed(777)\n",
        "\n",
        "print(tf.__version__)\n",
        "print(keras.__version__)"
      ],
      "execution_count": 1,
      "outputs": [
        {
          "output_type": "stream",
          "text": [
            "TensorFlow 2.x selected.\n",
            "2.1.0\n",
            "2.2.4-tf\n"
          ],
          "name": "stdout"
        },
        {
          "output_type": "stream",
          "text": [
            "Using TensorFlow backend.\n"
          ],
          "name": "stderr"
        }
      ]
    },
    {
      "cell_type": "markdown",
      "metadata": {
        "id": "vmBYQ6EZobK6",
        "colab_type": "text"
      },
      "source": [
        "## Load dataset"
      ]
    },
    {
      "cell_type": "code",
      "metadata": {
        "id": "_UiylVZdjlmf",
        "colab_type": "code",
        "outputId": "6316c7c2-cffa-4d89-ff0d-6cbc5e9ecf2e",
        "colab": {
          "base_uri": "https://localhost:8080/",
          "height": 71
        }
      },
      "source": [
        "(train_data, train_labels), (test_data, test_labels)= imdb.load_data(num_words=10000)\n",
        "\n",
        "print(train_data[0][:10])\n",
        "print(train_labels[0])\n",
        "print(max([ max(seq) for seq in train_data ]))  # largest index == 9999"
      ],
      "execution_count": 2,
      "outputs": [
        {
          "output_type": "stream",
          "text": [
            "[1, 14, 22, 16, 43, 530, 973, 1622, 1385, 65]\n",
            "1\n",
            "9999\n"
          ],
          "name": "stdout"
        }
      ]
    },
    {
      "cell_type": "code",
      "metadata": {
        "id": "G8qM-ETRkbSS",
        "colab_type": "code",
        "outputId": "1779459a-5596-4d8e-bae6-b3dca1ae4cf8",
        "colab": {
          "base_uri": "https://localhost:8080/",
          "height": 35
        }
      },
      "source": [
        "# decoding one sample review\n",
        "word_index = imdb.get_word_index()\n",
        "reverse_word_index = { idx : word for word, idx in word_index.items() }\n",
        "\n",
        "decoded_review_1 = ' '.join([ reverse_word_index.get(idx-3, '?') for idx in train_data[0] ])\n",
        "decoded_review_1[:100]"
      ],
      "execution_count": 3,
      "outputs": [
        {
          "output_type": "execute_result",
          "data": {
            "text/plain": [
              "\"? this film was just brilliant casting location scenery story direction everyone's really suited the\""
            ]
          },
          "metadata": {
            "tags": []
          },
          "execution_count": 3
        }
      ]
    },
    {
      "cell_type": "markdown",
      "metadata": {
        "id": "OyF7zei6mb1C",
        "colab_type": "text"
      },
      "source": [
        "## Preprocess the data"
      ]
    },
    {
      "cell_type": "code",
      "metadata": {
        "id": "zLLCFVWhlVuE",
        "colab_type": "code",
        "outputId": "621c15a9-f28c-417d-99ce-9ffcad45ee3c",
        "colab": {
          "base_uri": "https://localhost:8080/",
          "height": 71
        }
      },
      "source": [
        "def vectorize_sequences(sequences, dimension=10000):\n",
        "  output_vector = np.zeros(shape=(len(sequences), dimension))\n",
        "  for i, seq in enumerate(sequences):\n",
        "    output_vector[i, seq] = 1.\n",
        "  return output_vector\n",
        "\n",
        "x_train = vectorize_sequences(train_data)\n",
        "x_test = vectorize_sequences(test_data)\n",
        "print(x_train[0])\n",
        "\n",
        "print()\n",
        "\n",
        "y_train = train_labels.astype('float32')\n",
        "y_test = test_labels.astype('float32')\n",
        "print(y_train[0])\n",
        "\n",
        "\n",
        "# split train & validation set\n",
        "x_val = x_train[:10000]\n",
        "partial_x_train = x_train[10000:]\n",
        "\n",
        "y_val = y_train[:10000]\n",
        "partial_y_train = y_train[10000:]"
      ],
      "execution_count": 4,
      "outputs": [
        {
          "output_type": "stream",
          "text": [
            "[0. 1. 1. ... 0. 0. 0.]\n",
            "\n",
            "1.0\n"
          ],
          "name": "stdout"
        }
      ]
    },
    {
      "cell_type": "markdown",
      "metadata": {
        "id": "w94g1zPXs9fv",
        "colab_type": "text"
      },
      "source": [
        "## Generate a neural network model"
      ]
    },
    {
      "cell_type": "code",
      "metadata": {
        "id": "UnTIqbF4lVyS",
        "colab_type": "code",
        "colab": {
          "base_uri": "https://localhost:8080/",
          "height": 269
        },
        "outputId": "1ca41f75-118c-43d7-c4ec-6621c875bf2f"
      },
      "source": [
        "model = keras.models.Sequential()\n",
        "model.add( keras.layers.Dense(units=16, activation='relu', input_shape=(10000,)) )\n",
        "model.add( keras.layers.Dense(units=16, activation='relu') )\n",
        "model.add( keras.layers.Dense(units=1, activation='sigmoid') )\n",
        "\n",
        "model.summary()"
      ],
      "execution_count": 5,
      "outputs": [
        {
          "output_type": "stream",
          "text": [
            "Model: \"sequential\"\n",
            "_________________________________________________________________\n",
            "Layer (type)                 Output Shape              Param #   \n",
            "=================================================================\n",
            "dense (Dense)                (None, 16)                160016    \n",
            "_________________________________________________________________\n",
            "dense_1 (Dense)              (None, 16)                272       \n",
            "_________________________________________________________________\n",
            "dense_2 (Dense)              (None, 1)                 17        \n",
            "=================================================================\n",
            "Total params: 160,305\n",
            "Trainable params: 160,305\n",
            "Non-trainable params: 0\n",
            "_________________________________________________________________\n"
          ],
          "name": "stdout"
        }
      ]
    },
    {
      "cell_type": "markdown",
      "metadata": {
        "id": "NYGj8HRJyfxq",
        "colab_type": "text"
      },
      "source": [
        "## Compile & Train the model"
      ]
    },
    {
      "cell_type": "code",
      "metadata": {
        "id": "bK71eG5qlV15",
        "colab_type": "code",
        "colab": {
          "base_uri": "https://localhost:8080/",
          "height": 755
        },
        "outputId": "d4be6828-031b-4e2c-e526-b87ab45c09b1"
      },
      "source": [
        "model.compile(optimizer=keras.optimizers.RMSprop(lr=0.001), loss=keras.losses.binary_crossentropy, metrics=[keras.metrics.binary_accuracy])\n",
        "\n",
        "history = model.fit( partial_x_train, partial_y_train, epochs=20, batch_size=512, validation_data=(x_val, y_val) )"
      ],
      "execution_count": 6,
      "outputs": [
        {
          "output_type": "stream",
          "text": [
            "Train on 15000 samples, validate on 10000 samples\n",
            "Epoch 1/20\n",
            "15000/15000 [==============================] - 2s 141us/sample - loss: 0.5575 - binary_accuracy: 0.7687 - val_loss: 0.4283 - val_binary_accuracy: 0.8657\n",
            "Epoch 2/20\n",
            "15000/15000 [==============================] - 2s 107us/sample - loss: 0.3473 - binary_accuracy: 0.8965 - val_loss: 0.3480 - val_binary_accuracy: 0.8709\n",
            "Epoch 3/20\n",
            "15000/15000 [==============================] - 2s 106us/sample - loss: 0.2543 - binary_accuracy: 0.9197 - val_loss: 0.3050 - val_binary_accuracy: 0.8828\n",
            "Epoch 4/20\n",
            "15000/15000 [==============================] - 2s 105us/sample - loss: 0.1989 - binary_accuracy: 0.9391 - val_loss: 0.2752 - val_binary_accuracy: 0.8911\n",
            "Epoch 5/20\n",
            "15000/15000 [==============================] - 2s 109us/sample - loss: 0.1616 - binary_accuracy: 0.9509 - val_loss: 0.2770 - val_binary_accuracy: 0.8871\n",
            "Epoch 6/20\n",
            "15000/15000 [==============================] - 2s 108us/sample - loss: 0.1303 - binary_accuracy: 0.9610 - val_loss: 0.2951 - val_binary_accuracy: 0.8840\n",
            "Epoch 7/20\n",
            "15000/15000 [==============================] - 2s 107us/sample - loss: 0.1094 - binary_accuracy: 0.9673 - val_loss: 0.2937 - val_binary_accuracy: 0.8860\n",
            "Epoch 8/20\n",
            "15000/15000 [==============================] - 2s 107us/sample - loss: 0.0891 - binary_accuracy: 0.9750 - val_loss: 0.3220 - val_binary_accuracy: 0.8826\n",
            "Epoch 9/20\n",
            "15000/15000 [==============================] - 2s 108us/sample - loss: 0.0747 - binary_accuracy: 0.9792 - val_loss: 0.3291 - val_binary_accuracy: 0.8834\n",
            "Epoch 10/20\n",
            "15000/15000 [==============================] - 2s 107us/sample - loss: 0.0605 - binary_accuracy: 0.9845 - val_loss: 0.3616 - val_binary_accuracy: 0.8755\n",
            "Epoch 11/20\n",
            "15000/15000 [==============================] - 2s 108us/sample - loss: 0.0499 - binary_accuracy: 0.9877 - val_loss: 0.3738 - val_binary_accuracy: 0.8758\n",
            "Epoch 12/20\n",
            "15000/15000 [==============================] - 2s 111us/sample - loss: 0.0375 - binary_accuracy: 0.9929 - val_loss: 0.3983 - val_binary_accuracy: 0.8757\n",
            "Epoch 13/20\n",
            "15000/15000 [==============================] - 2s 108us/sample - loss: 0.0298 - binary_accuracy: 0.9943 - val_loss: 0.4264 - val_binary_accuracy: 0.8751\n",
            "Epoch 14/20\n",
            "15000/15000 [==============================] - 2s 105us/sample - loss: 0.0228 - binary_accuracy: 0.9969 - val_loss: 0.4566 - val_binary_accuracy: 0.8737\n",
            "Epoch 15/20\n",
            "15000/15000 [==============================] - 2s 107us/sample - loss: 0.0210 - binary_accuracy: 0.9964 - val_loss: 0.4857 - val_binary_accuracy: 0.8716\n",
            "Epoch 16/20\n",
            "15000/15000 [==============================] - 2s 106us/sample - loss: 0.0120 - binary_accuracy: 0.9993 - val_loss: 0.5329 - val_binary_accuracy: 0.8646\n",
            "Epoch 17/20\n",
            "15000/15000 [==============================] - 2s 107us/sample - loss: 0.0127 - binary_accuracy: 0.9979 - val_loss: 0.5512 - val_binary_accuracy: 0.8709\n",
            "Epoch 18/20\n",
            "15000/15000 [==============================] - 2s 111us/sample - loss: 0.0067 - binary_accuracy: 0.9997 - val_loss: 0.5982 - val_binary_accuracy: 0.8641\n",
            "Epoch 19/20\n",
            "15000/15000 [==============================] - 2s 106us/sample - loss: 0.0079 - binary_accuracy: 0.9988 - val_loss: 0.6204 - val_binary_accuracy: 0.8682\n",
            "Epoch 20/20\n",
            "15000/15000 [==============================] - 2s 106us/sample - loss: 0.0034 - binary_accuracy: 0.9999 - val_loss: 0.6564 - val_binary_accuracy: 0.8660\n"
          ],
          "name": "stdout"
        }
      ]
    },
    {
      "cell_type": "markdown",
      "metadata": {
        "id": "zma1jcQFzZu5",
        "colab_type": "text"
      },
      "source": [
        "## Visualize the result"
      ]
    },
    {
      "cell_type": "code",
      "metadata": {
        "id": "j8q8PbjjlV4Z",
        "colab_type": "code",
        "colab": {
          "base_uri": "https://localhost:8080/",
          "height": 35
        },
        "outputId": "4243725c-e704-4e7c-e6f4-1d2da84fea2e"
      },
      "source": [
        "history_dict = history.history\n",
        "history_dict.keys()"
      ],
      "execution_count": 7,
      "outputs": [
        {
          "output_type": "execute_result",
          "data": {
            "text/plain": [
              "dict_keys(['loss', 'binary_accuracy', 'val_loss', 'val_binary_accuracy'])"
            ]
          },
          "metadata": {
            "tags": []
          },
          "execution_count": 7
        }
      ]
    },
    {
      "cell_type": "code",
      "metadata": {
        "id": "eBdn1VMszYO5",
        "colab_type": "code",
        "colab": {
          "base_uri": "https://localhost:8080/",
          "height": 295
        },
        "outputId": "ee6a568d-2cfe-48f3-d694-0bc4a551277c"
      },
      "source": [
        "loss = history_dict['loss']\n",
        "val_loss = history_dict['val_loss']\n",
        "\n",
        "epochs = range(1, len(loss)+1)\n",
        "\n",
        "plt.plot(epochs, loss, 'bo', label='Training loss')\n",
        "plt.plot(epochs, val_loss, 'b', label='Validation loss')\n",
        "plt.title('Training and validation loss')\n",
        "plt.xlabel('Epochs')\n",
        "plt.ylabel('Loss')\n",
        "plt.xticks(range(1, 21))\n",
        "plt.grid()\n",
        "plt.legend()\n",
        "\n",
        "plt.show()"
      ],
      "execution_count": 8,
      "outputs": [
        {
          "output_type": "display_data",
          "data": {
            "image/png": "[encoded data removed]",
            "text/plain": [
              "<Figure size 432x288 with 1 Axes>"
            ]
          },
          "metadata": {
            "tags": []
          }
        }
      ]
    },
    {
      "cell_type": "code",
      "metadata": {
        "id": "zajwxlez0H1I",
        "colab_type": "code",
        "colab": {
          "base_uri": "https://localhost:8080/",
          "height": 295
        },
        "outputId": "4bc901bd-a25e-4a7d-b3bc-6a354045fee3"
      },
      "source": [
        "acc = history_dict['binary_accuracy']\n",
        "val_acc = history_dict['val_binary_accuracy']\n",
        "\n",
        "epochs = range(1, len(loss)+1)\n",
        "\n",
        "plt.plot(epochs, acc, 'bo', label='Training accuracy')\n",
        "plt.plot(epochs, val_acc, 'b', label='Validation accuracy')\n",
        "plt.title('Training and validation accuracy')\n",
        "plt.xlabel('Epochs')\n",
        "plt.ylabel('Accuracy')\n",
        "plt.xticks(range(1, 21))\n",
        "plt.grid()\n",
        "plt.legend()\n",
        "\n",
        "plt.show()"
      ],
      "execution_count": 9,
      "outputs": [
        {
          "output_type": "display_data",
          "data": {
            "image/png": "[encoded data removed]",
            "text/plain": [
              "<Figure size 432x288 with 1 Axes>"
            ]
          },
          "metadata": {
            "tags": []
          }
        }
      ]
    },
    {
      "cell_type": "markdown",
      "metadata": {
        "id": "QKdjNwOt5u7K",
        "colab_type": "text"
      },
      "source": [
        "## Train again & Evaluate the model"
      ]
    },
    {
      "cell_type": "code",
      "metadata": {
        "id": "X1sbHJj60rzB",
        "colab_type": "code",
        "colab": {
          "base_uri": "https://localhost:8080/",
          "height": 269
        },
        "outputId": "a6b62ade-cd0b-4578-cad7-ade370fa35d2"
      },
      "source": [
        "model = keras.models.Sequential()\n",
        "model.add( keras.layers.Dense(units=16, activation='relu', input_shape=(10000,)) )\n",
        "model.add( keras.layers.Dense(units=16, activation='relu') )\n",
        "model.add( keras.layers.Dense(units=1, activation='sigmoid') )\n",
        "\n",
        "model.compile(optimizer=keras.optimizers.RMSprop(learning_rate=0.001), loss=keras.losses.binary_crossentropy, metrics=[keras.metrics.binary_accuracy])\n",
        "\n",
        "model.fit(x_train, y_train, epochs=4, batch_size=512)\n",
        "\n",
        "eval_list = model.evaluate(x_test, y_test)\n",
        "print('\\n========== Evaluation ==========')\n",
        "print(f'Final loss     : {eval_list[0]:.4f}')\n",
        "print(f'Final accuracy : {eval_list[1]:.4f}')"
      ],
      "execution_count": 10,
      "outputs": [
        {
          "output_type": "stream",
          "text": [
            "Train on 25000 samples\n",
            "Epoch 1/4\n",
            "25000/25000 [==============================] - 2s 92us/sample - loss: 0.4762 - binary_accuracy: 0.8238\n",
            "Epoch 2/4\n",
            "25000/25000 [==============================] - 2s 77us/sample - loss: 0.2817 - binary_accuracy: 0.9046\n",
            "Epoch 3/4\n",
            "25000/25000 [==============================] - 2s 79us/sample - loss: 0.2149 - binary_accuracy: 0.9240\n",
            "Epoch 4/4\n",
            "25000/25000 [==============================] - 2s 75us/sample - loss: 0.1776 - binary_accuracy: 0.9381\n",
            "25000/25000 [==============================] - 2s 80us/sample - loss: 0.2833 - binary_accuracy: 0.8873\n",
            "\n",
            "========== Evaluation ==========\n",
            "Final loss     : 0.2833\n",
            "Final accuracy : 0.8873\n"
          ],
          "name": "stdout"
        }
      ]
    },
    {
      "cell_type": "code",
      "metadata": {
        "id": "_tljuCRL6QH0",
        "colab_type": "code",
        "colab": {
          "base_uri": "https://localhost:8080/",
          "height": 143
        },
        "outputId": "a7c69846-d361-490a-8015-bba5f4d45606"
      },
      "source": [
        "model.predict(x_test)"
      ],
      "execution_count": 11,
      "outputs": [
        {
          "output_type": "execute_result",
          "data": {
            "text/plain": [
              "array([[0.23833199],\n",
              "       [0.9996866 ],\n",
              "       [0.829383  ],\n",
              "       ...,\n",
              "       [0.13936867],\n",
              "       [0.08771515],\n",
              "       [0.53267145]], dtype=float32)"
            ]
          },
          "metadata": {
            "tags": []
          },
          "execution_count": 11
        }
      ]
    },
    {
      "cell_type": "code",
      "metadata": {
        "id": "6Ra6nw2f7m1l",
        "colab_type": "code",
        "colab": {}
      },
      "source": [
        ""
      ],
      "execution_count": 0,
      "outputs": []
    }
  ]
}
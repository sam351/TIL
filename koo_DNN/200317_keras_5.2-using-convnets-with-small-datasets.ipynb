{
 "cells": [
  {
   "cell_type": "code",
   "execution_count": 1,
   "metadata": {},
   "outputs": [
    {
     "name": "stdout",
     "output_type": "stream",
     "text": [
      "2.2.4-tf\n"
     ]
    }
   ],
   "source": [
    "import os, shutil, glob\n",
    "from tensorflow import keras\n",
    "from tensorflow.keras.preprocessing import image\n",
    "\n",
    "import matplotlib.pyplot as plt\n",
    "\n",
    "print(keras.__version__)"
   ]
  },
  {
   "cell_type": "markdown",
   "metadata": {},
   "source": [
    "## Prepare data"
   ]
  },
  {
   "cell_type": "code",
   "execution_count": 2,
   "metadata": {},
   "outputs": [],
   "source": [
    "# make directory for original dataset\n",
    "original_dataset_dir = 'data/cats_and_dogs/train'\n",
    "os.makedirs(original_dataset_dir, exist_ok=True)\n",
    "\n",
    "# download original dataset - takes very long\n",
    "# !kaggle competitions download -c dogs-vs-cats --path data/cats_and_dogs/train"
   ]
  },
  {
   "cell_type": "code",
   "execution_count": 3,
   "metadata": {},
   "outputs": [
    {
     "name": "stdout",
     "output_type": "stream",
     "text": [
      "number of images of cat for train : 1000\n",
      "number of images of dog for train : 1000\n",
      "\n",
      "===========================\n",
      "\n",
      "number of images of cat for validation : 500\n",
      "number of images of dog for validation : 500\n",
      "\n",
      "===========================\n",
      "\n",
      "number of images of cat for test : 500\n",
      "number of images of dog for test : 500\n",
      "\n",
      "===========================\n",
      "\n"
     ]
    }
   ],
   "source": [
    "# make directory for small dataset (split into train, val, test)\n",
    "base_dir = 'data/cats_and_dogs_small'\n",
    "\n",
    "start_idx = 0\n",
    "end_idx = 0\n",
    "for split, num_img in zip(['train', 'validation', 'test'], [1000, 500, 500]):\n",
    "    start_idx = end_idx\n",
    "    end_idx += num_img\n",
    "    \n",
    "    for target in ['cat', 'dog']:\n",
    "        new_dir_name = os.path.join(base_dir, split, target)\n",
    "        os.makedirs(new_dir_name, exist_ok=True)\n",
    "        \n",
    "        tmp_fnames = [ f'{target}.{idx}.jpg' for idx in range(start_idx, end_idx) ]\n",
    "        for fname in tmp_fnames:\n",
    "            src = os.path.join(original_dataset_dir, fname)\n",
    "            dst = os.path.join(new_dir_name,  fname)\n",
    "            shutil.copyfile(src, dst)\n",
    "        \n",
    "        print(f'number of images of {target} for {split} : {len(glob.glob(new_dir_name + \"/*.jpg\"))}')\n",
    "    print('\\n===========================\\n')\n",
    "    pass"
   ]
  },
  {
   "cell_type": "markdown",
   "metadata": {},
   "source": [
    "## Preprocess data"
   ]
  },
  {
   "cell_type": "code",
   "execution_count": 4,
   "metadata": {},
   "outputs": [
    {
     "name": "stdout",
     "output_type": "stream",
     "text": [
      "Found 2000 images belonging to 2 classes.\n",
      "Found 1000 images belonging to 2 classes.\n"
     ]
    }
   ],
   "source": [
    "train_dir = os.path.join(base_dir, 'train')\n",
    "train_datagen = image.ImageDataGenerator(rescale=1./255)\n",
    "train_generator = train_datagen.flow_from_directory(train_dir,\n",
    "                                                    target_size=(150, 150),\n",
    "                                                    batch_size=20,\n",
    "                                                    class_mode='binary')\n",
    "\n",
    "validation_dir = os.path.join(base_dir, 'validation')\n",
    "validation_datagen = image.ImageDataGenerator(rescale=1./255)\n",
    "validation_generator = validation_datagen.flow_from_directory(validation_dir,\n",
    "                                                  target_size=(150, 150),\n",
    "                                                  batch_size=20,\n",
    "                                                  class_mode='binary')"
   ]
  },
  {
   "cell_type": "code",
   "execution_count": 5,
   "metadata": {},
   "outputs": [
    {
     "name": "stdout",
     "output_type": "stream",
     "text": [
      "shape of batch data  : (20, 150, 150, 3)\n",
      "shape of batch label : (20,)\n"
     ]
    }
   ],
   "source": [
    "# check the generator\n",
    "for data_batch, labels_batch in train_generator:\n",
    "    print('shape of batch data  :', data_batch.shape)\n",
    "    print('shape of batch label :', labels_batch.shape)\n",
    "    break"
   ]
  },
  {
   "cell_type": "markdown",
   "metadata": {},
   "source": [
    "## Generate a neural network model"
   ]
  },
  {
   "cell_type": "code",
   "execution_count": 6,
   "metadata": {},
   "outputs": [
    {
     "name": "stdout",
     "output_type": "stream",
     "text": [
      "Model: \"sequential\"\n",
      "_________________________________________________________________\n",
      "Layer (type)                 Output Shape              Param #   \n",
      "=================================================================\n",
      "conv2d (Conv2D)              (None, 148, 148, 32)      896       \n",
      "_________________________________________________________________\n",
      "max_pooling2d (MaxPooling2D) (None, 74, 74, 32)        0         \n",
      "_________________________________________________________________\n",
      "conv2d_1 (Conv2D)            (None, 72, 72, 64)        18496     \n",
      "_________________________________________________________________\n",
      "max_pooling2d_1 (MaxPooling2 (None, 36, 36, 64)        0         \n",
      "_________________________________________________________________\n",
      "conv2d_2 (Conv2D)            (None, 34, 34, 128)       73856     \n",
      "_________________________________________________________________\n",
      "max_pooling2d_2 (MaxPooling2 (None, 17, 17, 128)       0         \n",
      "_________________________________________________________________\n",
      "conv2d_3 (Conv2D)            (None, 15, 15, 128)       147584    \n",
      "_________________________________________________________________\n",
      "max_pooling2d_3 (MaxPooling2 (None, 7, 7, 128)         0         \n",
      "_________________________________________________________________\n",
      "flatten (Flatten)            (None, 6272)              0         \n",
      "_________________________________________________________________\n",
      "dense (Dense)                (None, 512)               3211776   \n",
      "_________________________________________________________________\n",
      "dense_1 (Dense)              (None, 1)                 513       \n",
      "=================================================================\n",
      "Total params: 3,453,121\n",
      "Trainable params: 3,453,121\n",
      "Non-trainable params: 0\n",
      "_________________________________________________________________\n"
     ]
    }
   ],
   "source": [
    "model = keras.models.Sequential()\n",
    "model.add( keras.layers.Conv2D(filters=32, kernel_size=(3,3), activation='relu',\n",
    "                               input_shape=(150, 150, 3)) )\n",
    "model.add( keras.layers.MaxPooling2D(pool_size=(2,2)) )\n",
    "model.add( keras.layers.Conv2D(filters=64, kernel_size=(3,3), activation='relu') )\n",
    "model.add( keras.layers.MaxPooling2D(pool_size=(2,2)) )\n",
    "model.add( keras.layers.Conv2D(filters=128, kernel_size=(3,3), activation='relu') )\n",
    "model.add( keras.layers.MaxPooling2D(pool_size=(2,2)) )\n",
    "model.add( keras.layers.Conv2D(filters=128, kernel_size=(3,3), activation='relu') )\n",
    "model.add( keras.layers.MaxPooling2D(pool_size=(2,2)) )\n",
    "\n",
    "model.add( keras.layers.Flatten() )\n",
    "model.add( keras.layers.Dense(units=512, activation='relu') )\n",
    "model.add( keras.layers.Dense(units=1, activation='sigmoid') )\n",
    "\n",
    "model.summary()"
   ]
  },
  {
   "cell_type": "markdown",
   "metadata": {},
   "source": [
    "## Compile, Train, and Save the model"
   ]
  },
  {
   "cell_type": "code",
   "execution_count": 7,
   "metadata": {},
   "outputs": [
    {
     "name": "stdout",
     "output_type": "stream",
     "text": [
      "WARNING:tensorflow:From <ipython-input-7-31deb01afe86>:6: Model.fit_generator (from tensorflow.python.keras.engine.training) is deprecated and will be removed in a future version.\n",
      "Instructions for updating:\n",
      "Please use Model.fit, which supports generators.\n",
      "WARNING:tensorflow:sample_weight modes were coerced from\n",
      "  ...\n",
      "    to  \n",
      "  ['...']\n",
      "WARNING:tensorflow:sample_weight modes were coerced from\n",
      "  ...\n",
      "    to  \n",
      "  ['...']\n",
      "Train for 100 steps, validate for 50 steps\n",
      "Epoch 1/30\n",
      "100/100 [==============================] - 66s 662ms/step - loss: 0.6846 - binary_accuracy: 0.5435 - val_loss: 0.6636 - val_binary_accuracy: 0.5950\n",
      "Epoch 2/30\n",
      "100/100 [==============================] - 65s 646ms/step - loss: 0.6410 - binary_accuracy: 0.6240 - val_loss: 0.6213 - val_binary_accuracy: 0.6510\n",
      "Epoch 3/30\n",
      "100/100 [==============================] - 64s 642ms/step - loss: 0.5925 - binary_accuracy: 0.6830 - val_loss: 0.6116 - val_binary_accuracy: 0.6680\n",
      "Epoch 4/30\n",
      "100/100 [==============================] - 64s 642ms/step - loss: 0.5573 - binary_accuracy: 0.7050 - val_loss: 0.5901 - val_binary_accuracy: 0.6780\n",
      "Epoch 5/30\n",
      "100/100 [==============================] - 64s 644ms/step - loss: 0.5318 - binary_accuracy: 0.7295 - val_loss: 0.6342 - val_binary_accuracy: 0.6460\n",
      "Epoch 6/30\n",
      "100/100 [==============================] - 64s 642ms/step - loss: 0.5130 - binary_accuracy: 0.7540 - val_loss: 0.5737 - val_binary_accuracy: 0.6850\n",
      "Epoch 7/30\n",
      "100/100 [==============================] - 64s 643ms/step - loss: 0.4849 - binary_accuracy: 0.7630 - val_loss: 0.5648 - val_binary_accuracy: 0.6980\n",
      "Epoch 8/30\n",
      "100/100 [==============================] - 64s 640ms/step - loss: 0.4562 - binary_accuracy: 0.7805 - val_loss: 0.5680 - val_binary_accuracy: 0.6960\n",
      "Epoch 9/30\n",
      "100/100 [==============================] - 64s 644ms/step - loss: 0.4419 - binary_accuracy: 0.7905 - val_loss: 0.6170 - val_binary_accuracy: 0.6850\n",
      "Epoch 10/30\n",
      "100/100 [==============================] - 65s 649ms/step - loss: 0.4126 - binary_accuracy: 0.8100 - val_loss: 0.5481 - val_binary_accuracy: 0.7200\n",
      "Epoch 11/30\n",
      "100/100 [==============================] - 65s 648ms/step - loss: 0.3885 - binary_accuracy: 0.8325 - val_loss: 0.5367 - val_binary_accuracy: 0.7280\n",
      "Epoch 12/30\n",
      "100/100 [==============================] - 65s 649ms/step - loss: 0.3711 - binary_accuracy: 0.8310 - val_loss: 0.5428 - val_binary_accuracy: 0.7190\n",
      "Epoch 13/30\n",
      "100/100 [==============================] - 64s 638ms/step - loss: 0.3456 - binary_accuracy: 0.8550 - val_loss: 0.6267 - val_binary_accuracy: 0.6950\n",
      "Epoch 14/30\n",
      "100/100 [==============================] - 64s 645ms/step - loss: 0.3288 - binary_accuracy: 0.8625 - val_loss: 0.5417 - val_binary_accuracy: 0.7300\n",
      "Epoch 15/30\n",
      "100/100 [==============================] - 65s 651ms/step - loss: 0.2934 - binary_accuracy: 0.8795 - val_loss: 0.5928 - val_binary_accuracy: 0.7280\n",
      "Epoch 16/30\n",
      "100/100 [==============================] - 66s 656ms/step - loss: 0.2758 - binary_accuracy: 0.8795 - val_loss: 0.5897 - val_binary_accuracy: 0.7370\n",
      "Epoch 17/30\n",
      "100/100 [==============================] - 64s 644ms/step - loss: 0.2604 - binary_accuracy: 0.8945 - val_loss: 0.6343 - val_binary_accuracy: 0.7250\n",
      "Epoch 18/30\n",
      "100/100 [==============================] - 65s 645ms/step - loss: 0.2296 - binary_accuracy: 0.9080 - val_loss: 0.5733 - val_binary_accuracy: 0.7440\n",
      "Epoch 19/30\n",
      "100/100 [==============================] - 64s 640ms/step - loss: 0.2083 - binary_accuracy: 0.9215 - val_loss: 0.6130 - val_binary_accuracy: 0.7330\n",
      "Epoch 20/30\n",
      "100/100 [==============================] - 64s 642ms/step - loss: 0.2002 - binary_accuracy: 0.9245 - val_loss: 0.7345 - val_binary_accuracy: 0.7090\n",
      "Epoch 21/30\n",
      "100/100 [==============================] - 65s 655ms/step - loss: 0.1714 - binary_accuracy: 0.9365 - val_loss: 0.7427 - val_binary_accuracy: 0.7230\n",
      "Epoch 22/30\n",
      "100/100 [==============================] - 65s 649ms/step - loss: 0.1589 - binary_accuracy: 0.9435 - val_loss: 0.7268 - val_binary_accuracy: 0.7210\n",
      "Epoch 23/30\n",
      "100/100 [==============================] - 64s 645ms/step - loss: 0.1369 - binary_accuracy: 0.9550 - val_loss: 0.6972 - val_binary_accuracy: 0.7440\n",
      "Epoch 24/30\n",
      "100/100 [==============================] - 64s 644ms/step - loss: 0.1288 - binary_accuracy: 0.9635 - val_loss: 0.6968 - val_binary_accuracy: 0.7480\n",
      "Epoch 25/30\n",
      "100/100 [==============================] - 65s 652ms/step - loss: 0.1044 - binary_accuracy: 0.9680 - val_loss: 0.9330 - val_binary_accuracy: 0.7040\n",
      "Epoch 26/30\n",
      "100/100 [==============================] - 64s 638ms/step - loss: 0.0944 - binary_accuracy: 0.9710 - val_loss: 0.8143 - val_binary_accuracy: 0.7320\n",
      "Epoch 27/30\n",
      "100/100 [==============================] - 66s 656ms/step - loss: 0.0820 - binary_accuracy: 0.9770 - val_loss: 0.7836 - val_binary_accuracy: 0.7370\n",
      "Epoch 28/30\n",
      "100/100 [==============================] - 64s 640ms/step - loss: 0.0704 - binary_accuracy: 0.9795 - val_loss: 0.8487 - val_binary_accuracy: 0.7350\n",
      "Epoch 29/30\n",
      "100/100 [==============================] - 64s 637ms/step - loss: 0.0619 - binary_accuracy: 0.9875 - val_loss: 0.9572 - val_binary_accuracy: 0.7270\n",
      "Epoch 30/30\n",
      "100/100 [==============================] - 66s 658ms/step - loss: 0.0515 - binary_accuracy: 0.9850 - val_loss: 0.9694 - val_binary_accuracy: 0.7350\n"
     ]
    }
   ],
   "source": [
    "model.compile(optimizer=keras.optimizers.RMSprop(learning_rate=0.0001),\n",
    "              loss=keras.losses.binary_crossentropy,\n",
    "              metrics=[keras.metrics.binary_accuracy])\n",
    "\n",
    "history = model.fit_generator(generator=train_generator, steps_per_epoch=100, epochs=30,\n",
    "                    validation_data=validation_generator, validation_steps=50)\n",
    "\n",
    "model.save('models/cats_and_dogs/cats_and_dogs_small_1.h5')"
   ]
  },
  {
   "cell_type": "markdown",
   "metadata": {},
   "source": [
    "## Visualize the result"
   ]
  },
  {
   "cell_type": "code",
   "execution_count": 10,
   "metadata": {},
   "outputs": [
    {
     "data": {
      "image/png": "[encoded data removed]",
      "text/plain": [
       "<Figure size 432x288 with 1 Axes>"
      ]
     },
     "metadata": {
      "needs_background": "light"
     },
     "output_type": "display_data"
    },
    {
     "data": {
      "image/png": "[encoded data removed]",
      "text/plain": [
       "<Figure size 432x288 with 1 Axes>"
      ]
     },
     "metadata": {
      "needs_background": "light"
     },
     "output_type": "display_data"
    }
   ],
   "source": [
    "acc = history.history['binary_accuracy']\n",
    "loss = history.history['loss']\n",
    "\n",
    "val_acc = history.history['val_binary_accuracy']\n",
    "val_loss = history.history['val_loss']\n",
    "\n",
    "epochs = range(1, len(acc)+1)\n",
    "\n",
    "\n",
    "plt.plot(epochs, acc, 'bo', label='Training acc')\n",
    "plt.plot(epochs, val_acc, 'b', label='Training acc')\n",
    "plt.title('Training and validation accuracy')\n",
    "plt.legend()\n",
    "\n",
    "plt.figure()\n",
    "\n",
    "plt.plot(epochs, loss, 'bo', label='Training loss')\n",
    "plt.plot(epochs, val_loss, 'b', label='Training loss')\n",
    "plt.title('Training and validation loss')\n",
    "plt.legend()\n",
    "\n",
    "plt.show()"
   ]
  },
  {
   "cell_type": "markdown",
   "metadata": {},
   "source": [
    "## Evaluate the model"
   ]
  },
  {
   "cell_type": "code",
   "execution_count": 11,
   "metadata": {},
   "outputs": [
    {
     "name": "stdout",
     "output_type": "stream",
     "text": [
      "Found 1000 images belonging to 2 classes.\n",
      "WARNING:tensorflow:From <ipython-input-11-7c16a7441c64>:8: Model.evaluate_generator (from tensorflow.python.keras.engine.training) is deprecated and will be removed in a future version.\n",
      "Instructions for updating:\n",
      "Please use Model.evaluate, which supports generators.\n",
      "WARNING:tensorflow:sample_weight modes were coerced from\n",
      "  ...\n",
      "    to  \n",
      "  ['...']\n",
      "50/50 [==============================] - 11s 220ms/step - loss: 0.9359 - binary_accuracy: 0.7300\n",
      "test loss : 0.9359\n",
      "test acc  : 0.7300\n"
     ]
    }
   ],
   "source": [
    "test_dir = os.path.join(base_dir, 'test')\n",
    "test_datagen = image.ImageDataGenerator(rescale=1./255)\n",
    "test_generator = test_datagen.flow_from_directory(test_dir,\n",
    "                                                  target_size=(150, 150),\n",
    "                                                  batch_size=20,\n",
    "                                                  class_mode='binary')\n",
    "\n",
    "test_loss, test_acc = model.evaluate_generator(generator=test_generator, verbose=1)\n",
    "print(f'test loss : {test_loss:.4f}')\n",
    "print(f'test acc  : {test_acc:.4f}')"
   ]
  },
  {
   "cell_type": "code",
   "execution_count": null,
   "metadata": {},
   "outputs": [],
   "source": []
  }
 ],
 "metadata": {
  "kernelspec": {
   "display_name": "Python 3",
   "language": "python",
   "name": "python3"
  },
  "language_info": {
   "codemirror_mode": {
    "name": "ipython",
    "version": 3
   },
   "file_extension": ".py",
   "mimetype": "text/x-python",
   "name": "python",
   "nbconvert_exporter": "python",
   "pygments_lexer": "ipython3",
   "version": "3.6.10"
  }
 },
 "nbformat": 4,
 "nbformat_minor": 4
}

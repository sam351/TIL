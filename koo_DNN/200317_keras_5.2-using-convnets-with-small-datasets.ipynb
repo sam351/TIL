{
 "cells": [
  {
   "cell_type": "code",
   "execution_count": 1,
   "metadata": {},
   "outputs": [
    {
     "name": "stdout",
     "output_type": "stream",
     "text": [
      "2.2.4-tf\n"
     ]
    }
   ],
   "source": [
    "import os, shutil\n",
    "from tensorflow import keras\n",
    "\n",
    "print(keras.__version__)"
   ]
  },
  {
   "cell_type": "markdown",
   "metadata": {},
   "source": [
    "## Prepare data"
   ]
  },
  {
   "cell_type": "code",
   "execution_count": 2,
   "metadata": {},
   "outputs": [
    {
     "name": "stdout",
     "output_type": "stream",
     "text": [
      "number of images of cat for train : 1000\n",
      "number of images of dog for train : 1000\n",
      "\n",
      "===========================\n",
      "\n",
      "number of images of cat for validation : 500\n",
      "number of images of dog for validation : 500\n",
      "\n",
      "===========================\n",
      "\n",
      "number of images of cat for test : 500\n",
      "number of images of dog for test : 500\n",
      "\n",
      "===========================\n",
      "\n"
     ]
    }
   ],
   "source": [
    "# make directory for original dataset\n",
    "original_dataset_dir = 'data/cats_and_dogs/train'\n",
    "os.makedirs(original_dataset_dir, exist_ok=True)\n",
    "\n",
    "# download original dataset - takes very long\n",
    "# !kaggle competitions download -c dogs-vs-cats --path data/cats_and_dogs/train\n",
    "\n",
    "\n",
    "# make directory for small dataset (split into train, val, test)\n",
    "base_dir = 'data/cats_and_dogs_small'\n",
    "\n",
    "start_idx = 0\n",
    "end_idx = 0\n",
    "for split, num_img in zip(['train', 'validation', 'test'], [1000, 500, 500]):\n",
    "    start_idx = end_idx\n",
    "    end_idx += num_img\n",
    "    \n",
    "    for target in ['cat', 'dog']:\n",
    "        new_dir_name = os.path.join(base_dir, split, target)\n",
    "        os.makedirs(new_dir_name, exist_ok=True)\n",
    "        \n",
    "        tmp_fnames = [ f'{target}.{idx}.jpg' for idx in range(start_idx, end_idx) ]\n",
    "        for fname in tmp_fnames:\n",
    "            src = os.path.join(original_dataset_dir, fname)\n",
    "            dst = os.path.join(new_dir_name,  fname)\n",
    "            shutil.copyfile(src, dst)\n",
    "        \n",
    "        print(f'number of images of {target} for {split} : {len(os.listdir(new_dir_name))}')\n",
    "    print('\\n===========================\\n')\n",
    "    pass"
   ]
  },
  {
   "cell_type": "markdown",
   "metadata": {},
   "source": [
    "## Preprocess data"
   ]
  },
  {
   "cell_type": "code",
   "execution_count": 3,
   "metadata": {},
   "outputs": [],
   "source": [
    "from tensorflow.keras.preprocessing.image import ImageDataGenerator\n",
    "\n",
    "train_dir = os.path.join(base_dir, 'train')\n",
    "train_datagen = ImageDataGenerator(rescale=1./255)\n",
    "train_generator = train_datagen.flow_from_directory(train_dir,\n",
    "                                                    target_size=(150, 150),\n",
    "                                                    batch_size=20,\n",
    "                                                    class_mode='binary')\n",
    "\n",
    "validation_dir = os.path.join(base_dir, 'validation')\n",
    "test_datagen = ImageDataGenerator(rescale=1./255)\n",
    "test_generator = test_datagen.flow_from_directory(test_dir,\n",
    "                                                  target_size=(150, 150),\n",
    "                                                  batch_size=20,\n",
    "                                                  class_mode='binary')\n"
   ]
  },
  {
   "cell_type": "code",
   "execution_count": null,
   "metadata": {},
   "outputs": [],
   "source": [
    "for data_batch, labels_batch in train_generator:\n",
    "    print('shape of batch data  :', data_batch.shape)\n",
    "    print('shape of batch label :', labels_batch.shape)"
   ]
  },
  {
   "cell_type": "markdown",
   "metadata": {},
   "source": [
    "## Generate a neural network model"
   ]
  },
  {
   "cell_type": "code",
   "execution_count": 6,
   "metadata": {},
   "outputs": [
    {
     "name": "stdout",
     "output_type": "stream",
     "text": [
      "Model: \"sequential_1\"\n",
      "_________________________________________________________________\n",
      "Layer (type)                 Output Shape              Param #   \n",
      "=================================================================\n",
      "conv2d (Conv2D)              (None, 148, 148, 32)      896       \n",
      "_________________________________________________________________\n",
      "max_pooling2d (MaxPooling2D) (None, 74, 74, 32)        0         \n",
      "_________________________________________________________________\n",
      "conv2d_1 (Conv2D)            (None, 72, 72, 64)        18496     \n",
      "_________________________________________________________________\n",
      "max_pooling2d_1 (MaxPooling2 (None, 36, 36, 64)        0         \n",
      "_________________________________________________________________\n",
      "conv2d_2 (Conv2D)            (None, 34, 34, 128)       73856     \n",
      "_________________________________________________________________\n",
      "max_pooling2d_2 (MaxPooling2 (None, 17, 17, 128)       0         \n",
      "_________________________________________________________________\n",
      "conv2d_3 (Conv2D)            (None, 15, 15, 128)       147584    \n",
      "_________________________________________________________________\n",
      "max_pooling2d_3 (MaxPooling2 (None, 7, 7, 128)         0         \n",
      "_________________________________________________________________\n",
      "flatten (Flatten)            (None, 6272)              0         \n",
      "_________________________________________________________________\n",
      "dense (Dense)                (None, 512)               3211776   \n",
      "_________________________________________________________________\n",
      "dense_1 (Dense)              (None, 1)                 513       \n",
      "=================================================================\n",
      "Total params: 3,453,121\n",
      "Trainable params: 3,453,121\n",
      "Non-trainable params: 0\n",
      "_________________________________________________________________\n"
     ]
    }
   ],
   "source": [
    "model = keras.models.Sequential()\n",
    "model.add( keras.layers.Conv2D(filters=32, kernel_size=(3,3), activation='relu',\n",
    "                               input_shape=(150, 150, 3)) )\n",
    "model.add( keras.layers.MaxPooling2D(pool_size=(2,2)) )\n",
    "model.add( keras.layers.Conv2D(filters=64, kernel_size=(3,3), activation='relu') )\n",
    "model.add( keras.layers.MaxPooling2D(pool_size=(2,2)) )\n",
    "model.add( keras.layers.Conv2D(filters=128, kernel_size=(3,3), activation='relu') )\n",
    "model.add( keras.layers.MaxPooling2D(pool_size=(2,2)) )\n",
    "model.add( keras.layers.Conv2D(filters=128, kernel_size=(3,3), activation='relu') )\n",
    "model.add( keras.layers.MaxPooling2D(pool_size=(2,2)) )\n",
    "\n",
    "model.add( keras.layers.Flatten() )\n",
    "model.add( keras.layers.Dense(units=512, activation='relu') )\n",
    "model.add( keras.layers.Dense(units=1, activation='sigmoid') )\n",
    "\n",
    "model.summary()"
   ]
  },
  {
   "cell_type": "markdown",
   "metadata": {},
   "source": [
    "## Compile, Train, and Save the model"
   ]
  },
  {
   "cell_type": "code",
   "execution_count": null,
   "metadata": {},
   "outputs": [],
   "source": []
  },
  {
   "cell_type": "markdown",
   "metadata": {},
   "source": [
    "## Visualize the result"
   ]
  },
  {
   "cell_type": "code",
   "execution_count": null,
   "metadata": {},
   "outputs": [],
   "source": []
  }
 ],
 "metadata": {
  "kernelspec": {
   "display_name": "Python 3",
   "language": "python",
   "name": "python3"
  },
  "language_info": {
   "codemirror_mode": {
    "name": "ipython",
    "version": 3
   },
   "file_extension": ".py",
   "mimetype": "text/x-python",
   "name": "python",
   "nbconvert_exporter": "python",
   "pygments_lexer": "ipython3",
   "version": "3.7.6"
  }
 },
 "nbformat": 4,
 "nbformat_minor": 4
}

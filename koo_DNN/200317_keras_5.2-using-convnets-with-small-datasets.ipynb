{
 "cells": [
  {
   "cell_type": "code",
   "execution_count": 1,
   "metadata": {},
   "outputs": [
    {
     "name": "stderr",
     "output_type": "stream",
     "text": [
      "Using TensorFlow backend.\n"
     ]
    },
    {
     "data": {
      "text/plain": [
       "'2.3.1'"
      ]
     },
     "execution_count": 1,
     "metadata": {},
     "output_type": "execute_result"
    }
   ],
   "source": [
    "import keras\n",
    "keras.__version__"
   ]
  },
  {
   "cell_type": "code",
   "execution_count": 2,
   "metadata": {},
   "outputs": [],
   "source": [
    "import os, shutil"
   ]
  },
  {
   "cell_type": "code",
   "execution_count": null,
   "metadata": {},
   "outputs": [],
   "source": [
    "# make directory for original dataset\n",
    "original_dataset_dir = 'data/cats_and_dogs/train'\n",
    "os.makedirs(original_dataset_dir, exist_ok=True)\n",
    "\n",
    "# download original dataset\n",
    "!kaggle competitions download -c dogs-vs-cats --path {original_dataset_dir}\n",
    "\n",
    "# make directory for small dataset (split into train, val, test)\n",
    "base_dir = 'data/cats_and_dogs_small'\n",
    "for split in ['train', 'validation', 'test']:\n",
    "    for target in ['cats', 'dogs']:\n",
    "        new_dir_name = os.path.join(base_dir, split, target)\n",
    "        os.makedirs(new_dir_name, exist_ok=True)\n",
    "    pass"
   ]
  }
 ],
 "metadata": {
  "kernelspec": {
   "display_name": "Python 3",
   "language": "python",
   "name": "python3"
  },
  "language_info": {
   "codemirror_mode": {
    "name": "ipython",
    "version": 3
   },
   "file_extension": ".py",
   "mimetype": "text/x-python",
   "name": "python",
   "nbconvert_exporter": "python",
   "pygments_lexer": "ipython3",
   "version": "3.6.10"
  }
 },
 "nbformat": 4,
 "nbformat_minor": 4
}

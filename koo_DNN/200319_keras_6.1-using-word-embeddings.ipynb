{
 "cells": [
  {
   "cell_type": "code",
   "execution_count": 1,
   "metadata": {},
   "outputs": [
    {
     "data": {
      "text/plain": [
       "'2.2.4-tf'"
      ]
     },
     "execution_count": 1,
     "metadata": {},
     "output_type": "execute_result"
    }
   ],
   "source": [
    "from tensorflow import keras\n",
    "\n",
    "from tensorflow.keras.datasets import imdb\n",
    "\n",
    "from tensorflow.keras.layers import Embedding\n",
    "from tensorflow.keras import preprocessing\n",
    "from tensorflow.keras.models import Sequential\n",
    "from tensorflow.keras.layers import Flatten, Dense, Embedding\n",
    "\n",
    "keras.__version__"
   ]
  },
  {
   "cell_type": "code",
   "execution_count": 2,
   "metadata": {},
   "outputs": [],
   "source": [
    "# 특성으로 사용할 단어의 수\n",
    "max_features = 10000\n",
    "\n",
    "# 정수 리스트로 데이터를 로드합니다.\n",
    "(x_train, y_train), (x_test, y_test) = imdb.load_data(num_words=max_features)\n",
    "\n",
    "\n",
    "# 사용할 텍스트의 길이(가장 빈번한 max_features 개의 단어만 사용합니다)\n",
    "maxlen = 20\n",
    "\n",
    "# 리스트를 (samples, maxlen) 크기의 2D 정수 텐서로 변환합니다.\n",
    "x_train = preprocessing.sequence.pad_sequences(x_train, maxlen=maxlen)\n",
    "x_test = preprocessing.sequence.pad_sequences(x_test, maxlen=maxlen)"
   ]
  },
  {
   "cell_type": "code",
   "execution_count": 3,
   "metadata": {},
   "outputs": [
    {
     "name": "stdout",
     "output_type": "stream",
     "text": [
      "label : 1\n",
      "text  : story was so lovely because it was true and was someone's life after all that was shared with us all\n",
      "\n",
      "text to tensor (first 10 items) : [  65   16   38 1334   88   12   16  283    5   16]\n"
     ]
    }
   ],
   "source": [
    "# 데이터 살펴보기 - 데이터의 원본 텍스트 디코딩\n",
    "word_to_idx = keras.datasets.imdb.get_word_index()\n",
    "word_to_idx = {k:(v+3) for k,v in word_to_idx.items()}\n",
    "word_to_idx[\"<PAD>\"] = 0; word_to_idx[\"<START>\"] = 1; word_to_idx[\"<UNK>\"] = 2; word_to_idx[\"<UNUSED>\"] = 3\n",
    "\n",
    "idx_to_word = {value:key for key,value in word_to_idx.items()}\n",
    "\n",
    "\n",
    "review_idx = 0\n",
    "print('label :', y_train[review_idx])\n",
    "print('text  :', ' '.join(idx_to_word[i] for i in x_train[review_idx] ))\n",
    "print('\\ntext to tensor (first 10 items) :', x_train[review_idx][:10])"
   ]
  },
  {
   "cell_type": "code",
   "execution_count": 4,
   "metadata": {},
   "outputs": [
    {
     "name": "stdout",
     "output_type": "stream",
     "text": [
      "Model: \"sequential\"\n",
      "_________________________________________________________________\n",
      "Layer (type)                 Output Shape              Param #   \n",
      "=================================================================\n",
      "embedding (Embedding)        (None, 20, 8)             80000     \n",
      "_________________________________________________________________\n",
      "flatten (Flatten)            (None, 160)               0         \n",
      "_________________________________________________________________\n",
      "dense (Dense)                (None, 1)                 161       \n",
      "=================================================================\n",
      "Total params: 80,161\n",
      "Trainable params: 80,161\n",
      "Non-trainable params: 0\n",
      "_________________________________________________________________\n"
     ]
    }
   ],
   "source": [
    "model = Sequential()\n",
    "\n",
    "# 나중에 임베딩된 입력을 Flatten 층에서 펼치기 위해 Embedding 층에 input_length를 지정합니다.\n",
    "# Embedding 층의 출력 크기는 (samples, maxlen, 8)가 됩니다.\n",
    "model.add(Embedding(max_features, 8, input_length=maxlen))\n",
    "\n",
    "# 3D 임베딩 텐서를 (samples, maxlen * 8) 크기의 2D 텐서로 펼칩니다.\n",
    "model.add(Flatten())\n",
    "\n",
    "# 분류기를 추가합니다.\n",
    "model.add(Dense(1, activation='sigmoid'))\n",
    "\n",
    "model.compile(optimizer='rmsprop', loss='binary_crossentropy', metrics=['acc'])\n",
    "model.summary()"
   ]
  },
  {
   "cell_type": "code",
   "execution_count": 5,
   "metadata": {},
   "outputs": [
    {
     "name": "stdout",
     "output_type": "stream",
     "text": [
      "Train on 20000 samples, validate on 5000 samples\n",
      "Epoch 1/10\n",
      "20000/20000 [==============================] - 2s 113us/sample - loss: 0.6741 - acc: 0.6159 - val_loss: 0.6281 - val_acc: 0.6958\n",
      "Epoch 2/10\n",
      "20000/20000 [==============================] - 1s 43us/sample - loss: 0.5495 - acc: 0.7490 - val_loss: 0.5301 - val_acc: 0.7282\n",
      "Epoch 3/10\n",
      "20000/20000 [==============================] - 1s 42us/sample - loss: 0.4638 - acc: 0.7889 - val_loss: 0.5024 - val_acc: 0.7482\n",
      "Epoch 4/10\n",
      "20000/20000 [==============================] - 1s 43us/sample - loss: 0.4216 - acc: 0.8113 - val_loss: 0.4967 - val_acc: 0.7536 0.4206 - acc: 0.81\n",
      "Epoch 5/10\n",
      "20000/20000 [==============================] - ETA: 0s - loss: 0.3919 - acc: 0.8262- ETA: 0s - loss: 0.3910 -  - 1s 43us/sample - loss: 0.3927 - acc: 0.8256 - val_loss: 0.4994 - val_acc: 0.7542\n",
      "Epoch 6/10\n",
      "20000/20000 [==============================] - ETA: 0s - loss: 0.3690 - acc: 0.8388- ETA: 0s - loss: 0.3704 - acc - 1s 43us/sample - loss: 0.3694 - acc: 0.8385 - val_loss: 0.5023 - val_acc: 0.7550\n",
      "Epoch 7/10\n",
      "20000/20000 [==============================] - 1s 42us/sample - loss: 0.3484 - acc: 0.8512 - val_loss: 0.5093 - val_acc: 0.7544\n",
      "Epoch 8/10\n",
      "20000/20000 [==============================] - 1s 43us/sample - loss: 0.3293 - acc: 0.8635 - val_loss: 0.5171 - val_acc: 0.7504\n",
      "Epoch 9/10\n",
      "20000/20000 [==============================] - 1s 43us/sample - loss: 0.3108 - acc: 0.8731 - val_loss: 0.5252 - val_acc: 0.7480\n",
      "Epoch 10/10\n",
      "20000/20000 [==============================] - 1s 43us/sample - loss: 0.2942 - acc: 0.8812 - val_loss: 0.5339 - val_acc: 0.7450\n"
     ]
    }
   ],
   "source": [
    "history = model.fit(x_train, y_train,\n",
    "                    epochs=10,\n",
    "                    batch_size=32,\n",
    "                    validation_split=0.2)"
   ]
  },
  {
   "cell_type": "code",
   "execution_count": null,
   "metadata": {},
   "outputs": [],
   "source": []
  }
 ],
 "metadata": {
  "kernelspec": {
   "display_name": "Python 3",
   "language": "python",
   "name": "python3"
  },
  "language_info": {
   "codemirror_mode": {
    "name": "ipython",
    "version": 3
   },
   "file_extension": ".py",
   "mimetype": "text/x-python",
   "name": "python",
   "nbconvert_exporter": "python",
   "pygments_lexer": "ipython3",
   "version": "3.7.6"
  }
 },
 "nbformat": 4,
 "nbformat_minor": 4
}

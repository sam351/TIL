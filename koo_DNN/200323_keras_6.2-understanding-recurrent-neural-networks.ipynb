{
 "cells": [
  {
   "cell_type": "code",
   "execution_count": 0,
   "metadata": {
    "colab": {
     "base_uri": "https://localhost:8080/",
     "height": 53
    },
    "colab_type": "code",
    "id": "FCwM6u54-sw6",
    "outputId": "7e6c3457-a75a-446d-b59c-8636c1595731"
   },
   "outputs": [
    {
     "name": "stderr",
     "output_type": "stream",
     "text": [
      "Using TensorFlow backend.\n"
     ]
    },
    {
     "data": {
      "text/plain": [
       "'2.2.5'"
      ]
     },
     "execution_count": 1,
     "metadata": {
      "tags": []
     },
     "output_type": "execute_result"
    }
   ],
   "source": [
    "# Run in colab\n",
    "%tensorflow_version 1.x\n",
    "\n",
    "import keras\n",
    "from keras.layers import SimpleRNN, Embedding, Dense, LSTM\n",
    "from keras.models import Sequential\n",
    "from keras.datasets import imdb\n",
    "from keras.preprocessing import sequence\n",
    "\n",
    "import matplotlib.pyplot as plt\n",
    "\n",
    "keras.__version__"
   ]
  },
  {
   "cell_type": "markdown",
   "metadata": {
    "colab_type": "text",
    "id": "fdgqXdNIWIMC"
   },
   "source": [
    "## Basic SimpleRNN network"
   ]
  },
  {
   "cell_type": "code",
   "execution_count": 0,
   "metadata": {
    "colab": {
     "base_uri": "https://localhost:8080/",
     "height": 341
    },
    "colab_type": "code",
    "id": "4EevDSksT9XE",
    "outputId": "bd0de010-3e07-44d5-8792-b023c348b347"
   },
   "outputs": [
    {
     "name": "stdout",
     "output_type": "stream",
     "text": [
      "WARNING:tensorflow:From /usr/local/lib/python3.6/dist-packages/keras/backend/tensorflow_backend.py:66: The name tf.get_default_graph is deprecated. Please use tf.compat.v1.get_default_graph instead.\n",
      "\n",
      "WARNING:tensorflow:From /usr/local/lib/python3.6/dist-packages/keras/backend/tensorflow_backend.py:541: The name tf.placeholder is deprecated. Please use tf.compat.v1.placeholder instead.\n",
      "\n",
      "WARNING:tensorflow:From /usr/local/lib/python3.6/dist-packages/keras/backend/tensorflow_backend.py:4432: The name tf.random_uniform is deprecated. Please use tf.random.uniform instead.\n",
      "\n",
      "Model: \"sequential_1\"\n",
      "_________________________________________________________________\n",
      "Layer (type)                 Output Shape              Param #   \n",
      "=================================================================\n",
      "embedding_1 (Embedding)      (None, None, 2)           20000     \n",
      "_________________________________________________________________\n",
      "simple_rnn_1 (SimpleRNN)     (None, 32)                1120      \n",
      "=================================================================\n",
      "Total params: 21,120\n",
      "Trainable params: 21,120\n",
      "Non-trainable params: 0\n",
      "_________________________________________________________________\n"
     ]
    }
   ],
   "source": [
    "# return_sequences = False (Default) 전달 시, 입력 sequence에 대한 마지막 출력만 반환 (2D 텐서)\n",
    "model = Sequential()\n",
    "model.add(Embedding(input_dim=10000, output_dim=2))\n",
    "model.add(SimpleRNN(units=32))\n",
    "model.summary()"
   ]
  },
  {
   "cell_type": "code",
   "execution_count": 0,
   "metadata": {
    "colab": {
     "base_uri": "https://localhost:8080/",
     "height": 233
    },
    "colab_type": "code",
    "id": "LVFHRG2jUQT4",
    "outputId": "51c99339-e41e-4a46-a8e4-978709cc701d"
   },
   "outputs": [
    {
     "name": "stdout",
     "output_type": "stream",
     "text": [
      "Model: \"sequential_2\"\n",
      "_________________________________________________________________\n",
      "Layer (type)                 Output Shape              Param #   \n",
      "=================================================================\n",
      "embedding_2 (Embedding)      (None, None, 2)           20000     \n",
      "_________________________________________________________________\n",
      "simple_rnn_2 (SimpleRNN)     (None, None, 32)          1120      \n",
      "=================================================================\n",
      "Total params: 21,120\n",
      "Trainable params: 21,120\n",
      "Non-trainable params: 0\n",
      "_________________________________________________________________\n"
     ]
    }
   ],
   "source": [
    "# return_sequences = True 전달 시, 각 timestep의 출력을 모은 전체 sequence 반환 (3D 텐서)\n",
    "model = Sequential()\n",
    "model.add(Embedding(input_dim=10000, output_dim=2))\n",
    "model.add(SimpleRNN(units=32, return_sequences=True))\n",
    "model.summary()"
   ]
  },
  {
   "cell_type": "code",
   "execution_count": 0,
   "metadata": {
    "colab": {
     "base_uri": "https://localhost:8080/",
     "height": 341
    },
    "colab_type": "code",
    "id": "HCLYZ6pdUvHs",
    "outputId": "e72aeb8e-2d11-408c-9751-e53ba78a14e2"
   },
   "outputs": [
    {
     "name": "stdout",
     "output_type": "stream",
     "text": [
      "Model: \"sequential_3\"\n",
      "_________________________________________________________________\n",
      "Layer (type)                 Output Shape              Param #   \n",
      "=================================================================\n",
      "embedding_3 (Embedding)      (None, None, 32)          320000    \n",
      "_________________________________________________________________\n",
      "simple_rnn_3 (SimpleRNN)     (None, None, 32)          2080      \n",
      "_________________________________________________________________\n",
      "simple_rnn_4 (SimpleRNN)     (None, None, 32)          2080      \n",
      "_________________________________________________________________\n",
      "simple_rnn_5 (SimpleRNN)     (None, None, 32)          2080      \n",
      "_________________________________________________________________\n",
      "simple_rnn_6 (SimpleRNN)     (None, 32)                2080      \n",
      "=================================================================\n",
      "Total params: 328,320\n",
      "Trainable params: 328,320\n",
      "Non-trainable params: 0\n",
      "_________________________________________________________________\n"
     ]
    }
   ],
   "source": [
    "# 여러 순환 층을 차례로 쌓으면 네트워크의 표현력 증가 (중간 층은 전체 sequence 출력해야 함)\n",
    "model = Sequential()\n",
    "model.add(Embedding(10000, 32))\n",
    "model.add(SimpleRNN(32, return_sequences=True))\n",
    "model.add(SimpleRNN(32, return_sequences=True))\n",
    "model.add(SimpleRNN(32, return_sequences=True))\n",
    "model.add(SimpleRNN(32))\n",
    "model.summary()"
   ]
  },
  {
   "cell_type": "markdown",
   "metadata": {
    "colab_type": "text",
    "id": "FWasYmHSWO37"
   },
   "source": [
    "# Train SimpleRNN model with imdb dataset\n",
    "\n",
    "## Prepare dataset"
   ]
  },
  {
   "cell_type": "code",
   "execution_count": 0,
   "metadata": {
    "colab": {
     "base_uri": "https://localhost:8080/",
     "height": 161
    },
    "colab_type": "code",
    "id": "wtxcKa_rWAg7",
    "outputId": "f87af728-d40f-44ea-8c36-b8981bd82d90"
   },
   "outputs": [
    {
     "name": "stdout",
     "output_type": "stream",
     "text": [
      "Downloading data from https://s3.amazonaws.com/text-datasets/imdb.npz\n",
      "17465344/17464789 [==============================] - 1s 0us/step\n",
      "\n",
      "number of train sequences : 25000\n",
      "number of test sequences  : 25000\n",
      "\n",
      "shape of input_train : (25000, 500)\n",
      "shape of input_test  : (25000, 500)\n"
     ]
    }
   ],
   "source": [
    "max_features = 10000  # number of words\n",
    "max_len = 500  # length of each seqeunce (review)\n",
    "batch_size = 32\n",
    "\n",
    "(input_train, y_train), (input_test, y_test) = imdb.load_data(num_words=max_features)\n",
    "print('\\nnumber of train sequences :', len(input_train))\n",
    "print('number of test sequences  :', len(input_test))\n",
    "\n",
    "input_train = sequence.pad_sequences(input_train, maxlen=max_len)\n",
    "input_test = sequence.pad_sequences(input_test, maxlen=max_len)\n",
    "print('\\nshape of input_train :', input_train.shape)\n",
    "print('shape of input_test  :', input_test.shape)"
   ]
  },
  {
   "cell_type": "markdown",
   "metadata": {
    "colab_type": "text",
    "id": "JUdv4Ki3YPfP"
   },
   "source": [
    "## Generate & Train a neural network model"
   ]
  },
  {
   "cell_type": "code",
   "execution_count": 0,
   "metadata": {
    "colab": {
     "base_uri": "https://localhost:8080/",
     "height": 809
    },
    "colab_type": "code",
    "id": "JlnVMNw7XRQb",
    "outputId": "272db5f7-2194-41be-e566-1e11f2cd00a7"
   },
   "outputs": [
    {
     "name": "stdout",
     "output_type": "stream",
     "text": [
      "WARNING:tensorflow:From /usr/local/lib/python3.6/dist-packages/keras/optimizers.py:793: The name tf.train.Optimizer is deprecated. Please use tf.compat.v1.train.Optimizer instead.\n",
      "\n",
      "WARNING:tensorflow:From /usr/local/lib/python3.6/dist-packages/keras/backend/tensorflow_backend.py:3657: The name tf.log is deprecated. Please use tf.math.log instead.\n",
      "\n",
      "WARNING:tensorflow:From /tensorflow-1.15.0/python3.6/tensorflow_core/python/ops/nn_impl.py:183: where (from tensorflow.python.ops.array_ops) is deprecated and will be removed in a future version.\n",
      "Instructions for updating:\n",
      "Use tf.where in 2.0, which has the same broadcast rule as np.where\n",
      "WARNING:tensorflow:From /usr/local/lib/python3.6/dist-packages/keras/backend/tensorflow_backend.py:1033: The name tf.assign_add is deprecated. Please use tf.compat.v1.assign_add instead.\n",
      "\n",
      "WARNING:tensorflow:From /usr/local/lib/python3.6/dist-packages/keras/backend/tensorflow_backend.py:1020: The name tf.assign is deprecated. Please use tf.compat.v1.assign instead.\n",
      "\n",
      "WARNING:tensorflow:From /usr/local/lib/python3.6/dist-packages/keras/backend/tensorflow_backend.py:3005: The name tf.Session is deprecated. Please use tf.compat.v1.Session instead.\n",
      "\n",
      "Train on 20000 samples, validate on 5000 samples\n",
      "Epoch 1/10\n",
      "WARNING:tensorflow:From /usr/local/lib/python3.6/dist-packages/keras/backend/tensorflow_backend.py:190: The name tf.get_default_session is deprecated. Please use tf.compat.v1.get_default_session instead.\n",
      "\n",
      "WARNING:tensorflow:From /usr/local/lib/python3.6/dist-packages/keras/backend/tensorflow_backend.py:197: The name tf.ConfigProto is deprecated. Please use tf.compat.v1.ConfigProto instead.\n",
      "\n",
      "WARNING:tensorflow:From /usr/local/lib/python3.6/dist-packages/keras/backend/tensorflow_backend.py:207: The name tf.global_variables is deprecated. Please use tf.compat.v1.global_variables instead.\n",
      "\n",
      "WARNING:tensorflow:From /usr/local/lib/python3.6/dist-packages/keras/backend/tensorflow_backend.py:216: The name tf.is_variable_initialized is deprecated. Please use tf.compat.v1.is_variable_initialized instead.\n",
      "\n",
      "WARNING:tensorflow:From /usr/local/lib/python3.6/dist-packages/keras/backend/tensorflow_backend.py:223: The name tf.variables_initializer is deprecated. Please use tf.compat.v1.variables_initializer instead.\n",
      "\n",
      "20000/20000 [==============================] - 108s 5ms/step - loss: 0.5310 - binary_accuracy: 0.7205 - val_loss: 0.3902 - val_binary_accuracy: 0.8366\n",
      "Epoch 2/10\n",
      "20000/20000 [==============================] - 97s 5ms/step - loss: 0.3350 - binary_accuracy: 0.8655 - val_loss: 0.3360 - val_binary_accuracy: 0.8668\n",
      "Epoch 3/10\n",
      "20000/20000 [==============================] - 96s 5ms/step - loss: 0.2783 - binary_accuracy: 0.8914 - val_loss: 0.3690 - val_binary_accuracy: 0.8408\n",
      "Epoch 4/10\n",
      "20000/20000 [==============================] - 94s 5ms/step - loss: 0.2247 - binary_accuracy: 0.9161 - val_loss: 0.4343 - val_binary_accuracy: 0.8472\n",
      "Epoch 5/10\n",
      "20000/20000 [==============================] - 93s 5ms/step - loss: 0.1949 - binary_accuracy: 0.9282 - val_loss: 0.3995 - val_binary_accuracy: 0.8260\n",
      "Epoch 6/10\n",
      "20000/20000 [==============================] - 93s 5ms/step - loss: 0.1532 - binary_accuracy: 0.9433 - val_loss: 0.4017 - val_binary_accuracy: 0.8604\n",
      "Epoch 7/10\n",
      "20000/20000 [==============================] - 92s 5ms/step - loss: 0.1295 - binary_accuracy: 0.9525 - val_loss: 0.4321 - val_binary_accuracy: 0.8436\n",
      "Epoch 8/10\n",
      "20000/20000 [==============================] - 92s 5ms/step - loss: 0.1044 - binary_accuracy: 0.9629 - val_loss: 0.5238 - val_binary_accuracy: 0.8262\n",
      "Epoch 9/10\n",
      "20000/20000 [==============================] - 91s 5ms/step - loss: 0.0831 - binary_accuracy: 0.9702 - val_loss: 0.5313 - val_binary_accuracy: 0.8340\n",
      "Epoch 10/10\n",
      "20000/20000 [==============================] - 92s 5ms/step - loss: 0.0610 - binary_accuracy: 0.9793 - val_loss: 0.6815 - val_binary_accuracy: 0.7972\n"
     ]
    }
   ],
   "source": [
    "model = Sequential()\n",
    "model.add(Embedding(max_features, 32))\n",
    "model.add(SimpleRNN(32))\n",
    "model.add(Dense(1, activation='sigmoid'))\n",
    "\n",
    "model.compile(optimizer=keras.optimizers.RMSprop(), loss=keras.losses.binary_crossentropy, metrics=[keras.metrics.binary_accuracy])\n",
    "history = model.fit(input_train, y_train, batch_size=batch_size, \n",
    "          epochs=10, validation_split=0.2)"
   ]
  },
  {
   "cell_type": "markdown",
   "metadata": {
    "colab_type": "text",
    "id": "Yjp8q2fEaUhL"
   },
   "source": [
    "## Visualize the results"
   ]
  },
  {
   "cell_type": "code",
   "execution_count": 0,
   "metadata": {
    "colab": {
     "base_uri": "https://localhost:8080/",
     "height": 281
    },
    "colab_type": "code",
    "id": "Rxj1kCYaZN6E",
    "outputId": "fcd067a1-4f77-4fe5-fb19-cbd0d5cef878"
   },
   "outputs": [
    {
     "data": {
      "image/png": "[encoded data removed]",
      "text/plain": [
       "<Figure size 720x288 with 2 Axes>"
      ]
     },
     "metadata": {
      "tags": []
     },
     "output_type": "display_data"
    }
   ],
   "source": [
    "acc = history.history['binary_accuracy']\n",
    "loss = history.history['loss']\n",
    "\n",
    "val_acc = history.history['val_binary_accuracy']\n",
    "val_loss = history.history['val_loss']\n",
    "\n",
    "epochs = range(1, len(acc)+1)\n",
    "\n",
    "\n",
    "fig, ax = plt.subplots(1, 2, figsize=(10, 4))\n",
    "ax[0].plot(epochs, acc, 'bo', label='Training acc')\n",
    "ax[0].plot(epochs, val_acc, 'b', label='Validation acc')\n",
    "ax[0].set_title('Training and validation accuracy')\n",
    "ax[0].legend()\n",
    "ax[0].grid()\n",
    "\n",
    "ax[1].plot(epochs, loss, 'bo', label='Training loss')\n",
    "ax[1].plot(epochs, val_loss, 'b', label='Validation loss')\n",
    "ax[1].set_title('Training and validation loss')\n",
    "ax[1].legend()\n",
    "ax[1].grid()\n",
    "plt.show()"
   ]
  },
  {
   "cell_type": "markdown",
   "metadata": {
    "colab_type": "text",
    "id": "YEVAdPsobUzn"
   },
   "source": [
    "# Train LSTM model with imdb dataset\n",
    "\n",
    "## Generate & Train a neural network model"
   ]
  },
  {
   "cell_type": "code",
   "execution_count": 0,
   "metadata": {
    "colab": {
     "base_uri": "https://localhost:8080/",
     "height": 395
    },
    "colab_type": "code",
    "id": "VmTBSyzNbVi7",
    "outputId": "493d4a7e-d190-4941-f778-d704cbd91281"
   },
   "outputs": [
    {
     "name": "stdout",
     "output_type": "stream",
     "text": [
      "Train on 20000 samples, validate on 5000 samples\n",
      "Epoch 1/10\n",
      "20000/20000 [==============================] - 95s 5ms/step - loss: 0.5165 - binary_accuracy: 0.7599 - val_loss: 0.3895 - val_binary_accuracy: 0.8326\n",
      "Epoch 2/10\n",
      "20000/20000 [==============================] - 94s 5ms/step - loss: 0.2926 - binary_accuracy: 0.8876 - val_loss: 0.3276 - val_binary_accuracy: 0.8648\n",
      "Epoch 3/10\n",
      "20000/20000 [==============================] - 94s 5ms/step - loss: 0.2343 - binary_accuracy: 0.9119 - val_loss: 0.4499 - val_binary_accuracy: 0.8510\n",
      "Epoch 4/10\n",
      "20000/20000 [==============================] - 94s 5ms/step - loss: 0.2025 - binary_accuracy: 0.9238 - val_loss: 0.4036 - val_binary_accuracy: 0.8650\n",
      "Epoch 5/10\n",
      "20000/20000 [==============================] - 93s 5ms/step - loss: 0.1785 - binary_accuracy: 0.9354 - val_loss: 0.2900 - val_binary_accuracy: 0.8882\n",
      "Epoch 6/10\n",
      "20000/20000 [==============================] - 93s 5ms/step - loss: 0.1603 - binary_accuracy: 0.9412 - val_loss: 0.3306 - val_binary_accuracy: 0.8872\n",
      "Epoch 7/10\n",
      "20000/20000 [==============================] - 94s 5ms/step - loss: 0.1434 - binary_accuracy: 0.9510 - val_loss: 0.4628 - val_binary_accuracy: 0.8616\n",
      "Epoch 8/10\n",
      "20000/20000 [==============================] - 94s 5ms/step - loss: 0.1327 - binary_accuracy: 0.9533 - val_loss: 0.3281 - val_binary_accuracy: 0.8800\n",
      "Epoch 9/10\n",
      "20000/20000 [==============================] - 95s 5ms/step - loss: 0.1163 - binary_accuracy: 0.9591 - val_loss: 0.5983 - val_binary_accuracy: 0.8032\n",
      "Epoch 10/10\n",
      "20000/20000 [==============================] - 95s 5ms/step - loss: 0.1124 - binary_accuracy: 0.9616 - val_loss: 0.5461 - val_binary_accuracy: 0.8166\n"
     ]
    }
   ],
   "source": [
    "model = Sequential()\n",
    "model.add(Embedding(10000, 32))\n",
    "model.add(LSTM(units=32))\n",
    "model.add(Dense(1, activation='sigmoid'))\n",
    "\n",
    "model.compile(optimizer=keras.optimizers.RMSprop(), loss=keras.losses.binary_crossentropy, metrics=[keras.metrics.binary_accuracy])\n",
    "history = model.fit(input_train, y_train, batch_size=128, \n",
    "          epochs=10, validation_split=0.2)"
   ]
  },
  {
   "cell_type": "markdown",
   "metadata": {
    "colab_type": "text",
    "id": "J7HAw3dLeuDc"
   },
   "source": [
    "## Visualize the results"
   ]
  },
  {
   "cell_type": "code",
   "execution_count": 0,
   "metadata": {
    "colab": {
     "base_uri": "https://localhost:8080/",
     "height": 281
    },
    "colab_type": "code",
    "id": "rUEYf-4FeUgu",
    "outputId": "73fe528c-919a-4038-ab73-cf09e695ab92"
   },
   "outputs": [
    {
     "data": {
      "image/png": "[encoded data removed]",
      "text/plain": [
       "<Figure size 720x288 with 2 Axes>"
      ]
     },
     "metadata": {
      "tags": []
     },
     "output_type": "display_data"
    }
   ],
   "source": [
    "acc = history.history['binary_accuracy']\n",
    "loss = history.history['loss']\n",
    "\n",
    "val_acc = history.history['val_binary_accuracy']\n",
    "val_loss = history.history['val_loss']\n",
    "\n",
    "epochs = range(1, len(acc)+1)\n",
    "\n",
    "\n",
    "fig, ax = plt.subplots(1, 2, figsize=(10, 4))\n",
    "ax[0].plot(epochs, acc, 'bo', label='Training acc')\n",
    "ax[0].plot(epochs, val_acc, 'b', label='Validation acc')\n",
    "ax[0].set_title('Training and validation accuracy')\n",
    "ax[0].legend()\n",
    "ax[0].grid()\n",
    "\n",
    "ax[1].plot(epochs, loss, 'bo', label='Training loss')\n",
    "ax[1].plot(epochs, val_loss, 'b', label='Validation loss')\n",
    "ax[1].set_title('Training and validation loss')\n",
    "ax[1].legend()\n",
    "ax[1].grid()\n",
    "plt.show()"
   ]
  }
 ],
 "metadata": {
  "accelerator": "GPU",
  "colab": {
   "collapsed_sections": [],
   "name": "200321_DL-with-python_6.2-understanding-recurrent-neural-networks.ipynb",
   "provenance": []
  },
  "kernelspec": {
   "display_name": "Python 3",
   "language": "python",
   "name": "python3"
  },
  "language_info": {
   "codemirror_mode": {
    "name": "ipython",
    "version": 3
   },
   "file_extension": ".py",
   "mimetype": "text/x-python",
   "name": "python",
   "nbconvert_exporter": "python",
   "pygments_lexer": "ipython3",
   "version": "3.7.6"
  }
 },
 "nbformat": 4,
 "nbformat_minor": 1
}

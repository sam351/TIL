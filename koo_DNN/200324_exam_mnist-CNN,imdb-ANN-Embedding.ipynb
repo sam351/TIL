{
 "cells": [
  {
   "cell_type": "markdown",
   "metadata": {},
   "source": [
    "## 1. MNIST + CNN"
   ]
  },
  {
   "cell_type": "code",
   "execution_count": 1,
   "metadata": {},
   "outputs": [
    {
     "name": "stdout",
     "output_type": "stream",
     "text": [
      "2.1.0\n",
      "2.2.4-tf\n"
     ]
    }
   ],
   "source": [
    "import tensorflow as tf\n",
    "from tensorflow import keras\n",
    "from tensorflow.keras.datasets import mnist\n",
    "from tensorflow.keras.utils import to_categorical\n",
    "\n",
    "import numpy as np\n",
    "\n",
    "print(tf.__version__)\n",
    "print(keras.__version__)"
   ]
  },
  {
   "cell_type": "code",
   "execution_count": 2,
   "metadata": {},
   "outputs": [
    {
     "data": {
      "text/plain": [
       "((60000, 28, 28), (10000, 28, 28))"
      ]
     },
     "execution_count": 2,
     "metadata": {},
     "output_type": "execute_result"
    }
   ],
   "source": [
    "# load data\n",
    "(train_images, train_labels), (test_images, test_labels) = mnist.load_data()\n",
    "train_images.shape, test_images.shape"
   ]
  },
  {
   "cell_type": "code",
   "execution_count": 3,
   "metadata": {},
   "outputs": [
    {
     "data": {
      "text/plain": [
       "((60000, 28, 28, 1), (10000, 28, 28, 1))"
      ]
     },
     "execution_count": 3,
     "metadata": {},
     "output_type": "execute_result"
    }
   ],
   "source": [
    "# preprocess data\n",
    "train_images = np.expand_dims(train_images, -1).astype('float32') / 255.\n",
    "train_labels = to_categorical(train_labels, num_classes=10)\n",
    "\n",
    "test_images = np.expand_dims(test_images, -1).astype('float32') / 255.\n",
    "test_labels = to_categorical(test_labels, num_classes=10)\n",
    "\n",
    "train_images.shape, test_images.shape"
   ]
  },
  {
   "cell_type": "code",
   "execution_count": 4,
   "metadata": {},
   "outputs": [
    {
     "name": "stdout",
     "output_type": "stream",
     "text": [
      "Model: \"sequential\"\n",
      "_________________________________________________________________\n",
      "Layer (type)                 Output Shape              Param #   \n",
      "=================================================================\n",
      "conv2d (Conv2D)              (None, 26, 26, 32)        320       \n",
      "_________________________________________________________________\n",
      "max_pooling2d (MaxPooling2D) (None, 13, 13, 32)        0         \n",
      "_________________________________________________________________\n",
      "conv2d_1 (Conv2D)            (None, 11, 11, 64)        18496     \n",
      "_________________________________________________________________\n",
      "max_pooling2d_1 (MaxPooling2 (None, 5, 5, 64)          0         \n",
      "_________________________________________________________________\n",
      "conv2d_2 (Conv2D)            (None, 3, 3, 64)          36928     \n",
      "_________________________________________________________________\n",
      "flatten (Flatten)            (None, 576)               0         \n",
      "_________________________________________________________________\n",
      "dense (Dense)                (None, 64)                36928     \n",
      "_________________________________________________________________\n",
      "dense_1 (Dense)              (None, 10)                650       \n",
      "=================================================================\n",
      "Total params: 93,322\n",
      "Trainable params: 93,322\n",
      "Non-trainable params: 0\n",
      "_________________________________________________________________\n"
     ]
    }
   ],
   "source": [
    "# generate model\n",
    "model = keras.models.Sequential()\n",
    "model.add( keras.layers.Conv2D(32, 3, activation='relu', input_shape=(28,28,1)) )\n",
    "model.add( keras.layers.MaxPool2D() )\n",
    "model.add( keras.layers.Conv2D(64, 3, activation='relu') )\n",
    "model.add( keras.layers.MaxPool2D() )\n",
    "model.add( keras.layers.Conv2D(64, 3, activation='relu') )\n",
    "\n",
    "model.add( keras.layers.Flatten() )\n",
    "model.add( keras.layers.Dense(64, activation='relu') )\n",
    "model.add( keras.layers.Dense(10, activation='softmax') )\n",
    "\n",
    "model.summary()"
   ]
  },
  {
   "cell_type": "code",
   "execution_count": 5,
   "metadata": {},
   "outputs": [
    {
     "name": "stdout",
     "output_type": "stream",
     "text": [
      "Train on 60000 samples\n",
      "Epoch 1/5\n",
      "60000/60000 [==============================] - 22s 372us/sample - loss: 0.1682 - categorical_accuracy: 0.94807s - loss: 0.3516 - categorical_accura - ETA: 16s - loss: 0.3318 - categor - ETA: 14 - ETA: \n",
      "Epoch 2/5\n",
      "60000/60000 [==============================] - 20s 334us/sample - loss: 0.0467 - categorical_accuracy: 0.9850- loss: 0.0471 - categorical_\n",
      "Epoch 3/5\n",
      "60000/60000 [==============================] - 20s 333us/sample - loss: 0.0319 - categorical_accuracy: 0.9901\n",
      "Epoch 4/5\n",
      "60000/60000 [==============================] - 20s 334us/sample - loss: 0.0247 - categorical_accuracy: 0.9921\n",
      "Epoch 5/5\n",
      "60000/60000 [==============================] - 20s 333us/sample - loss: 0.0195 - categorical_accuracy: 0.9938\n"
     ]
    },
    {
     "data": {
      "text/plain": [
       "<tensorflow.python.keras.callbacks.History at 0x17754c210c8>"
      ]
     },
     "execution_count": 5,
     "metadata": {},
     "output_type": "execute_result"
    }
   ],
   "source": [
    "# train model\n",
    "model.compile(loss=keras.losses.categorical_crossentropy, metrics=[keras.metrics.categorical_accuracy])\n",
    "model.fit(train_images, train_labels, epochs=5, batch_size=64)"
   ]
  },
  {
   "cell_type": "code",
   "execution_count": 6,
   "metadata": {},
   "outputs": [
    {
     "name": "stdout",
     "output_type": "stream",
     "text": [
      "10000/10000 [==============================] - 2s 196us/sample - loss: 0.0232 - categorical_accuracy: 0.9924\n"
     ]
    },
    {
     "data": {
      "text/plain": [
       "0.9924"
      ]
     },
     "execution_count": 6,
     "metadata": {},
     "output_type": "execute_result"
    }
   ],
   "source": [
    "# evaluate model\n",
    "test_loss, test_acc = model.evaluate(test_images, test_labels)\n",
    "test_acc"
   ]
  },
  {
   "cell_type": "markdown",
   "metadata": {},
   "source": [
    "## 2. IMDB + MLP with Embedding"
   ]
  },
  {
   "cell_type": "code",
   "execution_count": 7,
   "metadata": {},
   "outputs": [
    {
     "name": "stdout",
     "output_type": "stream",
     "text": [
      "2.1.0\n",
      "2.2.4-tf\n"
     ]
    }
   ],
   "source": [
    "import tensorflow as tf\n",
    "from tensorflow import keras\n",
    "from tensorflow.keras.datasets import imdb\n",
    "from tensorflow.keras import preprocessing\n",
    "\n",
    "import numpy as np\n",
    "\n",
    "print(tf.__version__)\n",
    "print(keras.__version__)"
   ]
  },
  {
   "cell_type": "code",
   "execution_count": 8,
   "metadata": {},
   "outputs": [
    {
     "data": {
      "text/plain": [
       "((25000,), (25000,))"
      ]
     },
     "execution_count": 8,
     "metadata": {},
     "output_type": "execute_result"
    }
   ],
   "source": [
    "# load data\n",
    "max_features = 10000\n",
    "\n",
    "(x_train, y_train), (x_test, y_test) = imdb.load_data(num_words=max_features)\n",
    "x_train.shape, y_train.shape"
   ]
  },
  {
   "cell_type": "code",
   "execution_count": 9,
   "metadata": {},
   "outputs": [
    {
     "name": "stdout",
     "output_type": "stream",
     "text": [
      "len of 1st sequence before padding : 218\n",
      "len of 1st sequence after padding  : 20\n"
     ]
    }
   ],
   "source": [
    "# preprocess data\n",
    "max_len = 20\n",
    "\n",
    "print(f'len of 1st sequence before padding : {len(x_train[0])}')\n",
    "x_train = preprocessing.sequence.pad_sequences(x_train, maxlen=max_len)\n",
    "x_test = preprocessing.sequence.pad_sequences(x_test, maxlen=max_len)\n",
    "print(f'len of 1st sequence after padding  : {len(x_train[0])}')"
   ]
  },
  {
   "cell_type": "code",
   "execution_count": 10,
   "metadata": {},
   "outputs": [
    {
     "name": "stdout",
     "output_type": "stream",
     "text": [
      "Model: \"sequential_1\"\n",
      "_________________________________________________________________\n",
      "Layer (type)                 Output Shape              Param #   \n",
      "=================================================================\n",
      "embedding (Embedding)        (None, 20, 8)             80000     \n",
      "_________________________________________________________________\n",
      "flatten_1 (Flatten)          (None, 160)               0         \n",
      "_________________________________________________________________\n",
      "dense_2 (Dense)              (None, 1)                 161       \n",
      "=================================================================\n",
      "Total params: 80,161\n",
      "Trainable params: 80,161\n",
      "Non-trainable params: 0\n",
      "_________________________________________________________________\n"
     ]
    }
   ],
   "source": [
    "# generate model\n",
    "model = keras.models.Sequential()\n",
    "model.add( keras.layers.Embedding(input_dim=max_features, output_dim=8, input_length=max_len) )\n",
    "model.add( keras.layers.Flatten() )\n",
    "model.add( keras.layers.Dense(1, activation='sigmoid', ) )\n",
    "\n",
    "model.summary()"
   ]
  },
  {
   "cell_type": "code",
   "execution_count": 11,
   "metadata": {},
   "outputs": [
    {
     "name": "stdout",
     "output_type": "stream",
     "text": [
      "Train on 20000 samples, validate on 5000 samples\n",
      "Epoch 1/10\n",
      "20000/20000 [==============================] - 2s 122us/sample - loss: 0.6725 - binary_accuracy: 0.6116 - val_loss: 0.6253 - val_binary_accuracy: 0.6914\n",
      "Epoch 2/10\n",
      "20000/20000 [==============================] - 2s 102us/sample - loss: 0.5458 - binary_accuracy: 0.7494 - val_loss: 0.5269 - val_binary_accuracy: 0.7288\n",
      "Epoch 3/10\n",
      "20000/20000 [==============================] - 2s 103us/sample - loss: 0.4619 - binary_accuracy: 0.7866 - val_loss: 0.4998 - val_binary_accuracy: 0.7468\n",
      "Epoch 4/10\n",
      "20000/20000 [==============================] - 2s 103us/sample - loss: 0.4226 - binary_accuracy: 0.8062 - val_loss: 0.4956 - val_binary_accuracy: 0.7532\n",
      "Epoch 5/10\n",
      "20000/20000 [==============================] - 2s 102us/sample - loss: 0.3973 - binary_accuracy: 0.8214 - val_loss: 0.4955 - val_binary_accuracy: 0.7564\n",
      "Epoch 6/10\n",
      "20000/20000 [==============================] - 2s 102us/sample - loss: 0.3766 - binary_accuracy: 0.8330 - val_loss: 0.4973 - val_binary_accuracy: 0.7594\n",
      "Epoch 7/10\n",
      "20000/20000 [==============================] - 2s 103us/sample - loss: 0.3579 - binary_accuracy: 0.8429 - val_loss: 0.5030 - val_binary_accuracy: 0.7558\n",
      "Epoch 8/10\n",
      "20000/20000 [==============================] - 2s 102us/sample - loss: 0.3408 - binary_accuracy: 0.8540 - val_loss: 0.5085 - val_binary_accuracy: 0.7534\n",
      "Epoch 9/10\n",
      "20000/20000 [==============================] - 2s 102us/sample - loss: 0.3238 - binary_accuracy: 0.8630 - val_loss: 0.5162 - val_binary_accuracy: 0.7476\n",
      "Epoch 10/10\n",
      "20000/20000 [==============================] - 2s 102us/sample - loss: 0.3072 - binary_accuracy: 0.8720 - val_loss: 0.5213 - val_binary_accuracy: 0.7464\n"
     ]
    }
   ],
   "source": [
    "# train model\n",
    "model.compile(loss=keras.losses.binary_crossentropy, metrics=[keras.metrics.binary_accuracy])\n",
    "history = model.fit(x_train, y_train, batch_size=32, epochs=10, validation_split=0.2)"
   ]
  },
  {
   "cell_type": "code",
   "execution_count": null,
   "metadata": {},
   "outputs": [],
   "source": []
  }
 ],
 "metadata": {
  "kernelspec": {
   "display_name": "Python 3",
   "language": "python",
   "name": "python3"
  },
  "language_info": {
   "codemirror_mode": {
    "name": "ipython",
    "version": 3
   },
   "file_extension": ".py",
   "mimetype": "text/x-python",
   "name": "python",
   "nbconvert_exporter": "python",
   "pygments_lexer": "ipython3",
   "version": "3.7.6"
  }
 },
 "nbformat": 4,
 "nbformat_minor": 4
}

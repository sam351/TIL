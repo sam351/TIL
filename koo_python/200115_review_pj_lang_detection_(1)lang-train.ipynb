{
 "cells": [
  {
   "cell_type": "code",
   "execution_count": 1,
   "metadata": {},
   "outputs": [
    {
     "name": "stderr",
     "output_type": "stream",
     "text": [
      "C:\\Users\\student\\Anaconda3\\lib\\site-packages\\sklearn\\externals\\joblib\\__init__.py:15: DeprecationWarning: sklearn.externals.joblib is deprecated in 0.21 and will be removed in 0.23. Please import this functionality directly from joblib, which can be installed with: pip install joblib. If this warning is raised when loading pickled models, you may need to re-serialize those models with scikit-learn 0.21+.\n",
      "  warnings.warn(msg, category=DeprecationWarning)\n"
     ]
    }
   ],
   "source": [
    "from sklearn import svm, metrics\n",
    "import glob, os.path, re, json\n",
    "from sklearn.externals import joblib"
   ]
  },
  {
   "cell_type": "markdown",
   "metadata": {},
   "source": [
    "## Data preprocessing & Saving"
   ]
  },
  {
   "cell_type": "code",
   "execution_count": 2,
   "metadata": {},
   "outputs": [
    {
     "data": {
      "text/plain": [
       "dict_keys(['freqs', 'labels'])"
      ]
     },
     "execution_count": 2,
     "metadata": {},
     "output_type": "execute_result"
    }
   ],
   "source": [
    "# Read text and Count frequency\n",
    "def check_freq(fname):\n",
    "    name = os.path.basename(fname)\n",
    "    lang = re.match(r'^[a-z]{2,}', name).group()\n",
    "    \n",
    "    with open(fname, 'r', encoding='utf-8') as f:\n",
    "        text = f.read()\n",
    "        pass\n",
    "    text = text.lower()\n",
    "    \n",
    "    # Initialize cnt variable\n",
    "    cnt = [0 for i in range(26)]\n",
    "    code_a = ord('a')\n",
    "    code_z = ord('z')\n",
    "    \n",
    "    # count the frequency of each alphabet\n",
    "    for ch in text:\n",
    "        n = ord(ch)\n",
    "        if code_a <= n <= code_z:\n",
    "            cnt[n - code_a] += 1\n",
    "            pass\n",
    "        pass\n",
    "    \n",
    "    # Normalize each element of cnt\n",
    "    total = sum(cnt)\n",
    "    freq = list(map(lambda n : n/total, cnt))\n",
    "    \n",
    "    return (freq, lang)\n",
    "\n",
    "# Process all the files in given path\n",
    "def load_files(path):\n",
    "    file_list = glob.glob(path)\n",
    "    freqs = []\n",
    "    labels = []\n",
    "    for fname in file_list:\n",
    "        r = check_freq(fname)\n",
    "        freqs.append(r[0])\n",
    "        labels.append(r[1])\n",
    "        pass\n",
    "    return {'freqs':freqs, 'labels':labels}\n",
    "\n",
    "data = load_files('pj_lang_detection/lang/train/*.txt')\n",
    "test = load_files('pj_lang_detection/lang/test/*.txt')\n",
    "\n",
    "data.keys()"
   ]
  },
  {
   "cell_type": "code",
   "execution_count": 3,
   "metadata": {},
   "outputs": [],
   "source": [
    "# Save into json\n",
    "with open('pj_lang_detection/lang/freq.json', 'w', encoding='utf-8') as fp:\n",
    "    json.dump([data, test], fp)\n",
    "    pass\n",
    "\n",
    "del data\n",
    "del test"
   ]
  },
  {
   "cell_type": "markdown",
   "metadata": {},
   "source": [
    "## Training model with the saved data"
   ]
  },
  {
   "cell_type": "code",
   "execution_count": 4,
   "metadata": {},
   "outputs": [
    {
     "name": "stdout",
     "output_type": "stream",
     "text": [
      "dict_keys(['freqs', 'labels'])\n",
      "dict_keys(['freqs', 'labels'])\n"
     ]
    }
   ],
   "source": [
    "# reload the saved json\n",
    "with open('pj_lang_detection/lang/freq.json') as jf:\n",
    "    tmp_json = json.load(jf)\n",
    "    pass\n",
    "data = tmp_json[0]\n",
    "test = tmp_json[1]\n",
    "del tmp_json\n",
    "\n",
    "print(data.keys())\n",
    "print(test.keys())"
   ]
  },
  {
   "cell_type": "code",
   "execution_count": 5,
   "metadata": {},
   "outputs": [
    {
     "name": "stderr",
     "output_type": "stream",
     "text": [
      "C:\\Users\\student\\Anaconda3\\lib\\site-packages\\sklearn\\svm\\base.py:193: FutureWarning: The default value of gamma will change from 'auto' to 'scale' in version 0.22 to account better for unscaled features. Set gamma explicitly to 'auto' or 'scale' to avoid this warning.\n",
      "  \"avoid this warning.\", FutureWarning)\n"
     ]
    },
    {
     "data": {
      "text/plain": [
       "SVC(C=1.0, cache_size=200, class_weight=None, coef0=0.0,\n",
       "    decision_function_shape='ovr', degree=3, gamma='auto_deprecated',\n",
       "    kernel='rbf', max_iter=-1, probability=False, random_state=None,\n",
       "    shrinking=True, tol=0.001, verbose=False)"
      ]
     },
     "execution_count": 5,
     "metadata": {},
     "output_type": "execute_result"
    }
   ],
   "source": [
    "# Train model\n",
    "clf = svm.SVC()\n",
    "clf.fit(data['freqs'], data['labels'])"
   ]
  },
  {
   "cell_type": "code",
   "execution_count": 6,
   "metadata": {},
   "outputs": [
    {
     "data": {
      "text/plain": [
       "array(['en', 'en', 'fr', 'fr', 'en', 'id', 'tl', 'tl'], dtype='<U2')"
      ]
     },
     "execution_count": 6,
     "metadata": {},
     "output_type": "execute_result"
    }
   ],
   "source": [
    "# Predict test ds\n",
    "predict = clf.predict(test['freqs'])\n",
    "predict"
   ]
  },
  {
   "cell_type": "code",
   "execution_count": 7,
   "metadata": {},
   "outputs": [
    {
     "name": "stdout",
     "output_type": "stream",
     "text": [
      "정답률 =  0.875\n",
      "리포트 = \n",
      "               precision    recall  f1-score   support\n",
      "\n",
      "          en       0.67      1.00      0.80         2\n",
      "          fr       1.00      1.00      1.00         2\n",
      "          id       1.00      0.50      0.67         2\n",
      "          tl       1.00      1.00      1.00         2\n",
      "\n",
      "    accuracy                           0.88         8\n",
      "   macro avg       0.92      0.88      0.87         8\n",
      "weighted avg       0.92      0.88      0.87         8\n",
      "\n"
     ]
    }
   ],
   "source": [
    "# Evaluate the model\n",
    "ac_score = metrics.accuracy_score(test['labels'], predict)\n",
    "cl_report = metrics.classification_report(test['labels'], predict)\n",
    "print(\"정답률 = \", ac_score)\n",
    "print(\"리포트 = \\n\", cl_report)"
   ]
  },
  {
   "cell_type": "markdown",
   "metadata": {},
   "source": [
    "## Training another model with hyper-parameter tuning"
   ]
  },
  {
   "cell_type": "code",
   "execution_count": 8,
   "metadata": {},
   "outputs": [],
   "source": [
    "clf2 = svm.SVC(gamma=17)\n",
    "clf2.fit(data['freqs'], data['labels'])\n",
    "predict2 = clf2.predict(test['freqs'])"
   ]
  },
  {
   "cell_type": "code",
   "execution_count": 9,
   "metadata": {},
   "outputs": [
    {
     "name": "stdout",
     "output_type": "stream",
     "text": [
      "정답률 =  1.0\n",
      "리포트 = \n",
      "               precision    recall  f1-score   support\n",
      "\n",
      "          en       1.00      1.00      1.00         2\n",
      "          fr       1.00      1.00      1.00         2\n",
      "          id       1.00      1.00      1.00         2\n",
      "          tl       1.00      1.00      1.00         2\n",
      "\n",
      "    accuracy                           1.00         8\n",
      "   macro avg       1.00      1.00      1.00         8\n",
      "weighted avg       1.00      1.00      1.00         8\n",
      "\n"
     ]
    }
   ],
   "source": [
    "ac_score2 = metrics.accuracy_score(test['labels'], predict2)\n",
    "cl_report2 = metrics.classification_report(test['labels'], predict2)\n",
    "\n",
    "print(\"정답률 = \", ac_score2)\n",
    "print(\"리포트 = \\n\", cl_report2)"
   ]
  },
  {
   "cell_type": "markdown",
   "metadata": {},
   "source": [
    "## Training other models with various sets of gamma & C"
   ]
  },
  {
   "cell_type": "code",
   "execution_count": 10,
   "metadata": {
    "scrolled": true
   },
   "outputs": [
    {
     "name": "stdout",
     "output_type": "stream",
     "text": [
      "정답률 = 1.0 / tmp_gamma = 2 / tmp_C = 10\n",
      "정답률 = 1.0 / tmp_gamma = 3 / tmp_C = 5\n",
      "정답률 = 1.0 / tmp_gamma = 4 / tmp_C = 4\n",
      "정답률 = 1.0 / tmp_gamma = 4 / tmp_C = 5\n",
      "정답률 = 1.0 / tmp_gamma = 4 / tmp_C = 10\n",
      "정답률 = 1.0 / tmp_gamma = 5 / tmp_C = 3\n",
      "정답률 = 1.0 / tmp_gamma = 5 / tmp_C = 3.5\n",
      "정답률 = 1.0 / tmp_gamma = 5 / tmp_C = 4\n",
      "정답률 = 1.0 / tmp_gamma = 5 / tmp_C = 10\n",
      "정답률 = 1.0 / tmp_gamma = 6 / tmp_C = 2.5\n",
      "정답률 = 1.0 / tmp_gamma = 6 / tmp_C = 3\n",
      "정답률 = 1.0 / tmp_gamma = 6 / tmp_C = 3.5\n",
      "정답률 = 1.0 / tmp_gamma = 6 / tmp_C = 10\n",
      "정답률 = 1.0 / tmp_gamma = 7 / tmp_C = 2.5\n",
      "정답률 = 1.0 / tmp_gamma = 7 / tmp_C = 3\n",
      "정답률 = 1.0 / tmp_gamma = 7 / tmp_C = 5\n",
      "정답률 = 1.0 / tmp_gamma = 7 / tmp_C = 10\n",
      "정답률 = 1.0 / tmp_gamma = 8 / tmp_C = 2\n",
      "정답률 = 1.0 / tmp_gamma = 8 / tmp_C = 2.5\n",
      "정답률 = 1.0 / tmp_gamma = 8 / tmp_C = 5\n",
      "정답률 = 1.0 / tmp_gamma = 8 / tmp_C = 10\n",
      "정답률 = 1.0 / tmp_gamma = 9 / tmp_C = 2\n",
      "정답률 = 1.0 / tmp_gamma = 9 / tmp_C = 2.5\n",
      "정답률 = 1.0 / tmp_gamma = 9 / tmp_C = 4\n",
      "정답률 = 1.0 / tmp_gamma = 9 / tmp_C = 5\n",
      "정답률 = 1.0 / tmp_gamma = 9 / tmp_C = 10\n",
      "정답률 = 1.0 / tmp_gamma = 10 / tmp_C = 2\n",
      "정답률 = 1.0 / tmp_gamma = 10 / tmp_C = 3.5\n",
      "정답률 = 1.0 / tmp_gamma = 10 / tmp_C = 4\n",
      "정답률 = 1.0 / tmp_gamma = 10 / tmp_C = 5\n",
      "정답률 = 1.0 / tmp_gamma = 10 / tmp_C = 10\n",
      "정답률 = 1.0 / tmp_gamma = 11 / tmp_C = 1.5\n",
      "정답률 = 1.0 / tmp_gamma = 11 / tmp_C = 2\n",
      "정답률 = 1.0 / tmp_gamma = 11 / tmp_C = 3\n",
      "정답률 = 1.0 / tmp_gamma = 11 / tmp_C = 3.5\n",
      "정답률 = 1.0 / tmp_gamma = 11 / tmp_C = 4\n",
      "정답률 = 1.0 / tmp_gamma = 11 / tmp_C = 5\n",
      "정답률 = 1.0 / tmp_gamma = 11 / tmp_C = 10\n",
      "정답률 = 1.0 / tmp_gamma = 12 / tmp_C = 1.5\n",
      "정답률 = 1.0 / tmp_gamma = 12 / tmp_C = 3\n",
      "정답률 = 1.0 / tmp_gamma = 12 / tmp_C = 3.5\n",
      "정답률 = 1.0 / tmp_gamma = 12 / tmp_C = 4\n",
      "정답률 = 1.0 / tmp_gamma = 12 / tmp_C = 5\n",
      "정답률 = 1.0 / tmp_gamma = 12 / tmp_C = 10\n",
      "정답률 = 1.0 / tmp_gamma = 13 / tmp_C = 1.5\n",
      "정답률 = 1.0 / tmp_gamma = 13 / tmp_C = 2.5\n",
      "정답률 = 1.0 / tmp_gamma = 13 / tmp_C = 3\n",
      "정답률 = 1.0 / tmp_gamma = 13 / tmp_C = 3.5\n",
      "정답률 = 1.0 / tmp_gamma = 13 / tmp_C = 4\n",
      "정답률 = 1.0 / tmp_gamma = 13 / tmp_C = 5\n",
      "정답률 = 1.0 / tmp_gamma = 13 / tmp_C = 10\n",
      "정답률 = 1.0 / tmp_gamma = 14 / tmp_C = 1.5\n",
      "정답률 = 1.0 / tmp_gamma = 14 / tmp_C = 2.5\n",
      "정답률 = 1.0 / tmp_gamma = 14 / tmp_C = 3\n",
      "정답률 = 1.0 / tmp_gamma = 14 / tmp_C = 3.5\n",
      "정답률 = 1.0 / tmp_gamma = 14 / tmp_C = 4\n",
      "정답률 = 1.0 / tmp_gamma = 14 / tmp_C = 5\n",
      "정답률 = 1.0 / tmp_gamma = 14 / tmp_C = 10\n",
      "정답률 = 1.0 / tmp_gamma = 15 / tmp_C = 1.5\n",
      "정답률 = 1.0 / tmp_gamma = 15 / tmp_C = 2\n",
      "정답률 = 1.0 / tmp_gamma = 15 / tmp_C = 2.5\n",
      "정답률 = 1.0 / tmp_gamma = 15 / tmp_C = 3\n",
      "정답률 = 1.0 / tmp_gamma = 15 / tmp_C = 3.5\n",
      "정답률 = 1.0 / tmp_gamma = 15 / tmp_C = 4\n",
      "정답률 = 1.0 / tmp_gamma = 15 / tmp_C = 5\n",
      "정답률 = 1.0 / tmp_gamma = 15 / tmp_C = 10\n",
      "정답률 = 1.0 / tmp_gamma = 16 / tmp_C = 1.5\n",
      "정답률 = 1.0 / tmp_gamma = 16 / tmp_C = 2\n",
      "정답률 = 1.0 / tmp_gamma = 16 / tmp_C = 2.5\n",
      "정답률 = 1.0 / tmp_gamma = 16 / tmp_C = 3\n",
      "정답률 = 1.0 / tmp_gamma = 16 / tmp_C = 3.5\n",
      "정답률 = 1.0 / tmp_gamma = 16 / tmp_C = 4\n",
      "정답률 = 1.0 / tmp_gamma = 16 / tmp_C = 5\n",
      "정답률 = 1.0 / tmp_gamma = 16 / tmp_C = 10\n",
      "정답률 = 1.0 / tmp_gamma = 17 / tmp_C = 1\n",
      "정답률 = 1.0 / tmp_gamma = 17 / tmp_C = 2\n",
      "정답률 = 1.0 / tmp_gamma = 17 / tmp_C = 2.5\n",
      "정답률 = 1.0 / tmp_gamma = 17 / tmp_C = 3\n",
      "정답률 = 1.0 / tmp_gamma = 17 / tmp_C = 3.5\n",
      "정답률 = 1.0 / tmp_gamma = 17 / tmp_C = 4\n",
      "정답률 = 1.0 / tmp_gamma = 17 / tmp_C = 5\n",
      "정답률 = 1.0 / tmp_gamma = 17 / tmp_C = 10\n"
     ]
    }
   ],
   "source": [
    "for tmp_gamma in range(1,18):\n",
    "    for tmp_C in [0.01, 0.1, 0.5, 1, 1.5, 2, 2.5, 3, 3.5, 4, 5, 10]:\n",
    "        clf2 = svm.SVC(gamma=tmp_gamma, C=tmp_C)\n",
    "        clf2.fit(data['freqs'], data['labels'])\n",
    "        predict2 = clf2.predict(test['freqs'])\n",
    "\n",
    "        ac_score2 = metrics.accuracy_score(test['labels'], predict2)\n",
    "        \n",
    "        if ac_score2 > 0.9:\n",
    "            print(f\"정답률 = {ac_score2} / tmp_gamma = {tmp_gamma} / tmp_C = {tmp_C}\")\n",
    "            pass\n",
    "        pass\n",
    "    pass"
   ]
  },
  {
   "cell_type": "markdown",
   "metadata": {},
   "source": [
    "## Saving the final model"
   ]
  },
  {
   "cell_type": "code",
   "execution_count": 11,
   "metadata": {},
   "outputs": [
    {
     "data": {
      "text/plain": [
       "['pj_lang_detection/lang/freq.pkl']"
      ]
     },
     "execution_count": 11,
     "metadata": {},
     "output_type": "execute_result"
    }
   ],
   "source": [
    "clf3 = svm.SVC(gamma=5, C=3)\n",
    "clf3.fit(data['freqs'], data['labels'])\n",
    "\n",
    "joblib.dump(clf3, \"pj_lang_detection/lang/freq.pkl\")"
   ]
  }
 ],
 "metadata": {
  "kernelspec": {
   "display_name": "Python 3",
   "language": "python",
   "name": "python3"
  },
  "language_info": {
   "codemirror_mode": {
    "name": "ipython",
    "version": 3
   },
   "file_extension": ".py",
   "mimetype": "text/x-python",
   "name": "python",
   "nbconvert_exporter": "python",
   "pygments_lexer": "ipython3",
   "version": "3.7.4"
  }
 },
 "nbformat": 4,
 "nbformat_minor": 2
}

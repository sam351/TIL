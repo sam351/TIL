{
 "cells": [
  {
   "cell_type": "code",
   "execution_count": 1,
   "metadata": {},
   "outputs": [
    {
     "data": {
      "text/plain": [
       "'0.5.2'"
      ]
     },
     "execution_count": 1,
     "metadata": {},
     "output_type": "execute_result"
    }
   ],
   "source": [
    "import konlpy\n",
    "\n",
    "from konlpy.tag import Kkma\n",
    "from konlpy.tag import Twitter\n",
    "from konlpy.tag import Mecab  # Not run\n",
    "\n",
    "from konlpy.utils import pprint\n",
    "\n",
    "import pandas as pd\n",
    "import numpy as np\n",
    "\n",
    "konlpy.__version__"
   ]
  },
  {
   "cell_type": "code",
   "execution_count": 2,
   "metadata": {},
   "outputs": [
    {
     "name": "stdout",
     "output_type": "stream",
     "text": [
      "['동하', '어', '물', '과', '백두산', '이', '마르', '고', '닳', '도록']\n",
      "['물', '백두산']\n",
      "[('동하', 'VV'),\n",
      " ('어', 'ECS'),\n",
      " ('물', 'NNG'),\n",
      " ('과', 'JC'),\n",
      " ('백두산', 'NNP'),\n",
      " ('이', 'JKS'),\n",
      " ('마르', 'VV'),\n",
      " ('고', 'ECE'),\n",
      " ('닳', 'VV'),\n",
      " ('도록', 'ECD')]\n"
     ]
    }
   ],
   "source": [
    "kkma = Kkma()\n",
    "sent = '동해물과 백두산이 마르고 닳도록'\n",
    "\n",
    "pprint(kkma.morphs(sent))\n",
    "pprint(kkma.nouns(sent))\n",
    "pprint(kkma.pos(sent))"
   ]
  },
  {
   "cell_type": "code",
   "execution_count": 3,
   "metadata": {},
   "outputs": [
    {
     "name": "stderr",
     "output_type": "stream",
     "text": [
      "C:\\Users\\student\\Anaconda3\\envs\\py36\\lib\\site-packages\\konlpy\\tag\\_okt.py:16: UserWarning: \"Twitter\" has changed to \"Okt\" since KoNLPy v0.4.5.\n",
      "  warn('\"Twitter\" has changed to \"Okt\" since KoNLPy v0.4.5.')\n"
     ]
    },
    {
     "name": "stdout",
     "output_type": "stream",
     "text": [
      "['동해물', '동해물과 백두산', '마르고', '백두산']\n",
      "['동', '해물', '과', '백두산', '이', '마르고', '닳도록']\n",
      "['해물', '백두산', '마르고']\n",
      "[('동', 'Modifier'),\n",
      " ('해물', 'Noun'),\n",
      " ('과', 'Josa'),\n",
      " ('백두산', 'Noun'),\n",
      " ('이', 'Josa'),\n",
      " ('마르고', 'Noun'),\n",
      " ('닳도록', 'Verb')]\n"
     ]
    }
   ],
   "source": [
    "twitter = Twitter()\n",
    "sent = '동해물과 백두산이 마르고 닳도록'\n",
    "\n",
    "pprint(twitter.phrases(sent))\n",
    "pprint(twitter.morphs(sent))\n",
    "pprint(twitter.nouns(sent))\n",
    "pprint(twitter.pos(sent))"
   ]
  }
 ],
 "metadata": {
  "kernelspec": {
   "display_name": "Python 3",
   "language": "python",
   "name": "python3"
  },
  "language_info": {
   "codemirror_mode": {
    "name": "ipython",
    "version": 3
   },
   "file_extension": ".py",
   "mimetype": "text/x-python",
   "name": "python",
   "nbconvert_exporter": "python",
   "pygments_lexer": "ipython3",
   "version": "3.6.10"
  }
 },
 "nbformat": 4,
 "nbformat_minor": 4
}

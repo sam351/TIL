{
 "cells": [
  {
   "cell_type": "code",
   "execution_count": 1,
   "metadata": {},
   "outputs": [],
   "source": [
    "import time"
   ]
  },
  {
   "cell_type": "markdown",
   "metadata": {},
   "source": [
    "## 1. Define 2 versions of ngram similariy calculator"
   ]
  },
  {
   "cell_type": "code",
   "execution_count": 2,
   "metadata": {},
   "outputs": [],
   "source": [
    "# Original Ver\n",
    "def ngram(s, num):\n",
    "    res = []\n",
    "    slen = len(s) - num + 1\n",
    "    for i in range(slen):\n",
    "        ss = s[ i : i + num ]\n",
    "        res.append(ss)\n",
    "    return res\n",
    "\n",
    "def diff_ngram(sa, sb, num):\n",
    "    a = ngram(sa, num)\n",
    "    b = ngram(sb, num)\n",
    "    r = []\n",
    "    cnt = 0\n",
    "    for i in a:\n",
    "        for j in b:\n",
    "            if i == j:\n",
    "                cnt += 1\n",
    "                r.append(i)\n",
    "    return cnt / len(a), r"
   ]
  },
  {
   "cell_type": "code",
   "execution_count": 3,
   "metadata": {},
   "outputs": [],
   "source": [
    "# My own Ver\n",
    "def sent2ngram(sent, n_size):\n",
    "    r_list = []\n",
    "    rep_num = len(sent) - n_size + 1\n",
    "    for idx in range(rep_num):\n",
    "        tmp_gram = sent[ idx : idx + n_size ]\n",
    "        r_list.append(tmp_gram)\n",
    "    return r_list\n",
    "\n",
    "\n",
    "def diff_ngram_V2(sent1, sent2, n_size):\n",
    "    ngram_list1 = sent2ngram(sent1, n_size)\n",
    "    ngram_list2 = sent2ngram(sent2, n_size)\n",
    "    \n",
    "    match_list = []\n",
    "    match_cnt = 0\n",
    "    for tmp_gram in ngram_list1:\n",
    "        tmp_cnt = ngram_list2.count(tmp_gram)\n",
    "        if tmp_cnt:\n",
    "            match_list.append(tmp_gram)\n",
    "            match_cnt += tmp_cnt                \n",
    "    simil_pct = match_cnt/len(sent1)\n",
    "    \n",
    "    return simil_pct, match_list"
   ]
  },
  {
   "cell_type": "markdown",
   "metadata": {},
   "source": [
    "## 2. Test with a sample sent-pair"
   ]
  },
  {
   "cell_type": "code",
   "execution_count": 4,
   "metadata": {
    "scrolled": false
   },
   "outputs": [
    {
     "name": "stdout",
     "output_type": "stream",
     "text": [
      "2-gram similarity : 0.7619047619047619 ['오늘', '강남', '남에', '에서', '서 ', ' 맛', '맛있', '는 ', ' 스', '스파', '파게', '게티', ' 먹', '먹었', '었다', '다.']\n",
      "3-gram similarity : 0.45 ['강남에', '남에서', '에서 ', ' 맛있', ' 스파', '스파게', '파게티', ' 먹었', '었다.']\n",
      "\n",
      "running time of Original Ver : 1.004 (ms)\n",
      "\n",
      "\n",
      "2-gram similarity : 0.7272727272727273 ['오늘', '강남', '남에', '에서', '서 ', ' 맛', '맛있', '는 ', ' 스', '스파', '파게', '게티', ' 먹', '먹었', '었다', '다.']\n",
      "3-gram similarity : 0.4090909090909091 ['강남에', '남에서', '에서 ', ' 맛있', ' 스파', '스파게', '파게티', ' 먹었', '었다.']\n",
      "\n",
      "running time of My Own Ver : 0.993 (ms)\n"
     ]
    }
   ],
   "source": [
    "a = \"오늘 강남에서 맛있는 스파게티를 먹었다.\"\n",
    "b = \"강남에서 먹었던 오늘의 스파게티는 맛있었다.\"\n",
    "\n",
    "tic = time.time()\n",
    "# 2-gram (Original Ver)\n",
    "r2, word2 = diff_ngram(a, b, 2)\n",
    "print(\"2-gram similarity :\", r2, word2)\n",
    "\n",
    "# 3-gram (Original Ver)\n",
    "r3, word3  = diff_ngram(a, b, 3)\n",
    "print(\"3-gram similarity :\", r3, word3)\n",
    "toc = time.time()\n",
    "\n",
    "print(f'\\nrunning time of Original Ver : {(toc-tic)*1000:.3f} (ms)\\n\\n' )\n",
    "\n",
    "tic = time.time()\n",
    "# 2-gram (My Own Ver)\n",
    "r2, word2 = diff_ngram_V2(a, b, 2)\n",
    "print(\"2-gram similarity :\", r2, word2)\n",
    "\n",
    "# 3-gram (My Own Ver)\n",
    "r3, word3  = diff_ngram_V2(a, b, 3)\n",
    "print(\"3-gram similarity :\", r3, word3)\n",
    "toc = time.time()\n",
    "\n",
    "print(f'\\nrunning time of My Own Ver : {(toc-tic)*1000:.3f} (ms)' )"
   ]
  },
  {
   "cell_type": "markdown",
   "metadata": {},
   "source": [
    "## 3. Test with a larger sample sent-pair"
   ]
  },
  {
   "cell_type": "code",
   "execution_count": 5,
   "metadata": {},
   "outputs": [
    {
     "name": "stdout",
     "output_type": "stream",
     "text": [
      "2-gram similarity : 72.76034561164165\n",
      "3-gram similarity : 40.94631483166515\n",
      "\n",
      "running time of Original Ver : 333.795 (ms)\n",
      "\n",
      "\n",
      "\n",
      "2-gram similarity : 72.72727272727273\n",
      "3-gram similarity : 40.90909090909091\n",
      "\n",
      "running time of My Own Ver : 192.881 (ms)\n"
     ]
    }
   ],
   "source": [
    "a = \"오늘 강남에서 맛있는 스파게티를 먹었다.\"*100\n",
    "b = \"강남에서 먹었던 오늘의 스파게티는 맛있었다.\"*100\n",
    "\n",
    "tic = time.time()\n",
    "# 2-gram (Original Ver)\n",
    "r2, word2 = diff_ngram(a, b, 2)\n",
    "print(\"2-gram similarity :\", r2)\n",
    "\n",
    "# 3-gram (Original Ver)\n",
    "r3, word3  = diff_ngram(a, b, 3)\n",
    "print(\"3-gram similarity :\", r3)\n",
    "toc = time.time()\n",
    "\n",
    "print(f'\\nrunning time of Original Ver : {(toc-tic)*1000:.3f} (ms)\\n\\n\\n' )\n",
    "\n",
    "tic = time.time()\n",
    "# 2-gram (My Own Ver)\n",
    "r2, word2 = diff_ngram_V2(a, b, 2)\n",
    "print(\"2-gram similarity :\", r2)\n",
    "\n",
    "# 3-gram (My Own Ver)\n",
    "r3, word3  = diff_ngram_V2(a, b, 3)\n",
    "print(\"3-gram similarity :\", r3)\n",
    "toc = time.time()\n",
    "\n",
    "print(f'\\nrunning time of My Own Ver : {(toc-tic)*1000:.3f} (ms)' )"
   ]
  }
 ],
 "metadata": {
  "kernelspec": {
   "display_name": "Python 3",
   "language": "python",
   "name": "python3"
  },
  "language_info": {
   "codemirror_mode": {
    "name": "ipython",
    "version": 3
   },
   "file_extension": ".py",
   "mimetype": "text/x-python",
   "name": "python",
   "nbconvert_exporter": "python",
   "pygments_lexer": "ipython3",
   "version": "3.6.10"
  }
 },
 "nbformat": 4,
 "nbformat_minor": 4
}

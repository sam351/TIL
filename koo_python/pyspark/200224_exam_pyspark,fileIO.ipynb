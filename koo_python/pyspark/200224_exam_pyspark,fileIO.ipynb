{
 "cells": [
  {
   "cell_type": "code",
   "execution_count": 1,
   "metadata": {},
   "outputs": [
    {
     "data": {
      "text/plain": [
       "'2.3.2'"
      ]
     },
     "execution_count": 1,
     "metadata": {},
     "output_type": "execute_result"
    }
   ],
   "source": [
    "import pyspark\n",
    "from pyspark.sql import SparkSession\n",
    "\n",
    "pyspark.__version__"
   ]
  },
  {
   "cell_type": "code",
   "execution_count": 2,
   "metadata": {},
   "outputs": [
    {
     "name": "stdout",
     "output_type": "stream",
     "text": [
      "+--------------------+-----------+------+--------------------+---------+--------------------+--------------+--------------------+-------------------+--------------+-------------------+\n",
      "|            reg_date|    replies|length|                html| fullname|                body|      retweets|             keyword|                aid|      username|              likes|\n",
      "+--------------------+-----------+------+--------------------+---------+--------------------+--------------+--------------------+-------------------+--------------+-------------------+\n",
      "| 2019-07-30T17:46:59|          0|    43|\"<p class=\"\"Tweet...|사신에 타라 에바|모찌님진짜 청순여캐맛집이예요 아...|             0|                  맛집|1156259909173833728|@sasinnimpigon|                  1|\n",
      "| 2019-07-30T17:46:48|          1|    76|\"<p class=\"\"Tweet...|     null|!!(!!!! 넘 쥬와욧!!!!...|[무멘팔] 슘 | ᐕ)⁾⁾|체고에욧 체곳88ㅁ88)))bb...|                  0|            맛집|1156259865704091649|\n",
      "| 2019-07-30T17:39:57|          1|    99|\"<p class=\"\"Tweet...|     null|                null|          null|                null|               null|          null|               null|\n",
      "|                   ㅋ|       null|  null|                null|     null|                null|          null|                null|               null|          null|               null|\n",
      "|                   ㅋ|       null|  null|                null|     null|                null|          null|                null|               null|          null|               null|\n",
      "|                   ㅋ|       null|  null|                null|     null|                null|          null|                null|               null|          null|               null|\n",
      "|                   ㅋ|       null|  null|                null|     null|                null|          null|                null|               null|          null|               null|\n",
      "|                야썰 ㅋ|       null|  null|                null|     null|                null|          null|                null|               null|          null|               null|\n",
      "|                   ㅋ|       null|  null|                null|     null|                null|          null|                null|               null|          null|               null|\n",
      "|                   ㅋ|       null|  null|                null|     null|                null|          null|                null|               null|          null|               null|\n",
      "|ㅋㅋㅋㅋ쿠일던 첫본째 소원은 감...|다구독다구독(옥수수)|     ㅋ|                null|     null|                null|          null|                null|               null|          null|               null|\n",
      "|                   ㅋ|       null|  null|                null|     null|                null|          null|                null|               null|          null|               null|\n",
      "|                   ㅋ|       null|  null|                null|     null|                null|          null|                null|               null|          null|               null|\n",
      "|                   ㅋ|       null|  null|                null|     null|                null|          null|                null|               null|          null|               null|\n",
      "|                   ㅋ|       null|  null|                null|     null|                null|          null|                null|               null|          null|               null|\n",
      "|                야썰 ㅋ|       null|  null|                null|     null|                null|          null|                null|               null|          null|               null|\n",
      "|                   ㅋ|       null|  null|                null|     null|                null|          null|                null|               null|          null|               null|\n",
      "|                   ㅋ|       null|  null|                null|     null|                null|          null|                null|               null|          null|               null|\n",
      "|ㅋㅋㅋㅋ쿠일던 첫본째 소원은 감...|          0|    맛집| 1156258142142906369|@Dkd_jojo|                   0|          null|                null|               null|          null|               null|\n",
      "| 2019-07-30T17:39:41|          1|    54|\"<p class=\"\"Tweet...|      실직자|7. 어 … 근데 내가 맛집찾아...|             0|                  맛집|1156258073503121408|       @Jonver|                  0|\n",
      "+--------------------+-----------+------+--------------------+---------+--------------------+--------------+--------------------+-------------------+--------------+-------------------+\n",
      "only showing top 20 rows\n",
      "\n"
     ]
    }
   ],
   "source": [
    "spark = SparkSession.builder.getOrCreate()\n",
    "\n",
    "file_path = \"/dataSet/01_트위터/twitter_맛집_467147.csv\"\n",
    "df = spark.read.option('header','true').csv(file_path)\n",
    "\n",
    "df.show()"
   ]
  },
  {
   "cell_type": "code",
   "execution_count": null,
   "metadata": {},
   "outputs": [],
   "source": []
  }
 ],
 "metadata": {
  "kernelspec": {
   "display_name": "Python 3",
   "language": "python",
   "name": "python3"
  },
  "language_info": {
   "codemirror_mode": {
    "name": "ipython",
    "version": 3
   },
   "file_extension": ".py",
   "mimetype": "text/x-python",
   "name": "python",
   "nbconvert_exporter": "python",
   "pygments_lexer": "ipython3",
   "version": "3.6.10"
  }
 },
 "nbformat": 4,
 "nbformat_minor": 4
}

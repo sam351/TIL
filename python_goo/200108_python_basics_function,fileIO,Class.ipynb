{
 "cells": [
  {
   "cell_type": "markdown",
   "metadata": {},
   "source": [
    "## define function - using *args"
   ]
  },
  {
   "cell_type": "code",
   "execution_count": 4,
   "metadata": {},
   "outputs": [
    {
     "name": "stdout",
     "output_type": "stream",
     "text": [
      "calculating the sum of (1, 2, 3)...\n",
      "6\n",
      "calculating the sum of (10, 20, 30, 40, 50)...\n",
      "150\n"
     ]
    }
   ],
   "source": [
    "def add_many(*some_arg):\n",
    "    print(f'calculating the sum of {some_arg}...')\n",
    "    result = 0\n",
    "    for i in some_arg:\n",
    "        result += i\n",
    "        pass\n",
    "    return result\n",
    "\n",
    "print(add_many(1,2,3))\n",
    "print(add_many(10,20,30,40,50))"
   ]
  },
  {
   "cell_type": "code",
   "execution_count": 5,
   "metadata": {},
   "outputs": [
    {
     "name": "stdout",
     "output_type": "stream",
     "text": [
      "calculating the sum of (1, 2, 3, 4)...\n",
      "10\n",
      "multiplying all numbers in (10, 20, 30)...\n",
      "6000\n"
     ]
    }
   ],
   "source": [
    "def add_mul(choice='add', *args):\n",
    "    if choice == \"add\":\n",
    "        print(f'calculating the sum of {args}...')\n",
    "        result = 0\n",
    "        for num in args:\n",
    "            result += num\n",
    "        pass\n",
    "    \n",
    "    if choice == \"mul\":\n",
    "        print(f'multiplying all numbers in {args}...')\n",
    "        result = 1\n",
    "        for num in args:\n",
    "            result *= num\n",
    "        pass\n",
    "    \n",
    "    return result\n",
    "\n",
    "print(add_mul('add', 1, 2, 3, 4))\n",
    "print(add_mul('mul', 10, 20, 30))"
   ]
  },
  {
   "cell_type": "markdown",
   "metadata": {},
   "source": [
    "## define function - using *kwargs"
   ]
  },
  {
   "cell_type": "code",
   "execution_count": 9,
   "metadata": {},
   "outputs": [
    {
     "name": "stdout",
     "output_type": "stream",
     "text": [
      "{'a': 1}\n",
      "{'a': 1, 'b': 3}\n"
     ]
    }
   ],
   "source": [
    "def print_kwargs(**kwargs):\n",
    "    print(kwargs)\n",
    "    pass\n",
    "\n",
    "print_kwargs(a=1)\n",
    "print_kwargs(a=1, b=3)"
   ]
  },
  {
   "cell_type": "markdown",
   "metadata": {},
   "source": [
    "## open file"
   ]
  },
  {
   "cell_type": "code",
   "execution_count": 12,
   "metadata": {},
   "outputs": [],
   "source": [
    "f = open('200108_test.txt', 'w', encoding='utf8')\n",
    "\n",
    "for idx in range(10):\n",
    "    line_num = idx+1\n",
    "    f.write(f'{line_num}번째 줄입니다.\\n')\n",
    "    pass\n",
    "\n",
    "f.close()"
   ]
  },
  {
   "cell_type": "code",
   "execution_count": 16,
   "metadata": {},
   "outputs": [
    {
     "name": "stdout",
     "output_type": "stream",
     "text": [
      "['1번째 줄입니다.\\n', '2번째 줄입니다.\\n', '3번째 줄입니다.\\n', '4번째 줄입니다.\\n', '5번째 줄입니다.\\n', '6번째 줄입니다.\\n', '7번째 줄입니다.\\n', '8번째 줄입니다.\\n', '9번째 줄입니다.\\n', '10번째 줄입니다.\\n']\n",
      "1번째 줄입니다.\n",
      "2번째 줄입니다.\n",
      "3번째 줄입니다.\n",
      "4번째 줄입니다.\n",
      "5번째 줄입니다.\n",
      "6번째 줄입니다.\n",
      "7번째 줄입니다.\n",
      "8번째 줄입니다.\n",
      "9번째 줄입니다.\n",
      "10번째 줄입니다.\n"
     ]
    }
   ],
   "source": [
    "f = open('200108_test.txt', 'r', encoding='utf8')\n",
    "text = f.readlines()\n",
    "f.close()\n",
    "\n",
    "print(text)\n",
    "\n",
    "for line in text:\n",
    "    print(line, end='')"
   ]
  },
  {
   "cell_type": "markdown",
   "metadata": {},
   "source": [
    "## define class"
   ]
  },
  {
   "cell_type": "code",
   "execution_count": 34,
   "metadata": {},
   "outputs": [
    {
     "name": "stdout",
     "output_type": "stream",
     "text": [
      "present values : (0, 0)\n",
      "6\n",
      "8\n",
      "2\n",
      "2.0\n",
      "present values : (4, 2)\n"
     ]
    }
   ],
   "source": [
    "class Fourcal():\n",
    "    def __init__(self):\n",
    "        self.num1 = 0\n",
    "        self.num2 = 0\n",
    "        pass\n",
    "    \n",
    "    def setdata(self, n1, n2):\n",
    "        self.num1 = n1\n",
    "        self.num2 = n2\n",
    "        pass\n",
    "    \n",
    "    def add(self):\n",
    "        result = self.num1 + self.num2\n",
    "        return result\n",
    "    \n",
    "    def mul(self):\n",
    "        result = self.num1 * self.num2\n",
    "        return result\n",
    "    \n",
    "    def sub(self):\n",
    "        result = self.num1 - self.num2\n",
    "        return result\n",
    "    \n",
    "    def div(self):\n",
    "        result = self.num1 / self.num2\n",
    "        return result\n",
    "    \n",
    "    def __str__(self):\n",
    "        stat_str = f'present values : ({self.num1}, {self.num2})'\n",
    "        return stat_str\n",
    "    \n",
    "    pass\n",
    "\n",
    "a = Fourcal()\n",
    "print(a)\n",
    "a.setdata(4, 2)\n",
    "print(a.add())\n",
    "print(a.mul())\n",
    "print(a.sub())\n",
    "print(a.div())\n",
    "print(a)"
   ]
  },
  {
   "cell_type": "code",
   "execution_count": null,
   "metadata": {},
   "outputs": [],
   "source": []
  },
  {
   "cell_type": "code",
   "execution_count": null,
   "metadata": {},
   "outputs": [],
   "source": []
  }
 ],
 "metadata": {
  "kernelspec": {
   "display_name": "Python 3",
   "language": "python",
   "name": "python3"
  },
  "language_info": {
   "codemirror_mode": {
    "name": "ipython",
    "version": 3
   },
   "file_extension": ".py",
   "mimetype": "text/x-python",
   "name": "python",
   "nbconvert_exporter": "python",
   "pygments_lexer": "ipython3",
   "version": "3.7.4"
  }
 },
 "nbformat": 4,
 "nbformat_minor": 2
}

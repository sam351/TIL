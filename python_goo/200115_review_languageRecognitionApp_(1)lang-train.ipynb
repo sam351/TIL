{
 "cells": [
  {
   "cell_type": "code",
   "execution_count": 1,
   "metadata": {},
   "outputs": [],
   "source": [
    "from sklearn import svm, metrics\n",
    "import glob, os.path, re, json"
   ]
  },
  {
   "cell_type": "code",
   "execution_count": 2,
   "metadata": {},
   "outputs": [],
   "source": [
    "# Read text and Count frequency\n",
    "def check_freq(fname):\n",
    "    name = os.path.basename(fname)\n",
    "    lang = re.match(r'^[a-z]{2,}', name).group()\n",
    "    \n",
    "    with open(fname, 'r', encoding='utf-8') as f:\n",
    "        text = f.read()\n",
    "        pass\n",
    "    text = text.lower()\n",
    "    \n",
    "    # Initialize cnt variable\n",
    "    cnt = [0 for i in range(26)]\n",
    "    code_a = ord('a')\n",
    "    code_z = ord('z')\n",
    "    \n",
    "    # count the frequency of each alphabet\n",
    "    for ch in text:\n",
    "        n = ord(ch)\n",
    "        if code_a <= n <= code_z:\n",
    "            cnt[n - code_a] += 1\n",
    "            pass\n",
    "        pass\n",
    "    \n",
    "    # Normalize each element of cnt\n",
    "    total = sum(cnt)\n",
    "    freq = list(map(lambda n : n/total, cnt))\n",
    "    \n",
    "    return (freq, lang)\n",
    "\n",
    "# Process all the files in given path\n",
    "def load_files(path):\n",
    "    file_list = glob.glob(path)\n",
    "    freqs = []\n",
    "    labels = []\n",
    "    for fname in file_list:\n",
    "        r = check_freq(fname)\n",
    "        freqs.append(r[0])\n",
    "        labels.append(r[1])\n",
    "        pass\n",
    "    return {'freqs':freqs, 'labels':labels}\n",
    "\n",
    "data = load_files('언어판별프로그램/lang/train/*.txt')\n",
    "test = load_files('언어판별프로그램/lang/test/*.txt')"
   ]
  },
  {
   "cell_type": "code",
   "execution_count": 3,
   "metadata": {},
   "outputs": [],
   "source": [
    "# Save into json\n",
    "with open('언어판별프로그램/lang/freq.json', 'w', encoding='utf-8') as fp:\n",
    "    json.dump([data, test], fp)\n",
    "    pass"
   ]
  },
  {
   "cell_type": "code",
   "execution_count": 4,
   "metadata": {},
   "outputs": [
    {
     "name": "stdout",
     "output_type": "stream",
     "text": [
      "정답률 =  0.875\n",
      "리포트 =                precision    recall  f1-score   support\n",
      "\n",
      "          en       0.67      1.00      0.80         2\n",
      "          fr       1.00      1.00      1.00         2\n",
      "          id       1.00      0.50      0.67         2\n",
      "          tl       1.00      1.00      1.00         2\n",
      "\n",
      "    accuracy                           0.88         8\n",
      "   macro avg       0.92      0.88      0.87         8\n",
      "weighted avg       0.92      0.88      0.87         8\n",
      "\n"
     ]
    },
    {
     "name": "stderr",
     "output_type": "stream",
     "text": [
      "C:\\Users\\student\\Anaconda3\\lib\\site-packages\\sklearn\\svm\\base.py:193: FutureWarning: The default value of gamma will change from 'auto' to 'scale' in version 0.22 to account better for unscaled features. Set gamma explicitly to 'auto' or 'scale' to avoid this warning.\n",
      "  \"avoid this warning.\", FutureWarning)\n"
     ]
    }
   ],
   "source": [
    "# Train model\n",
    "clf = svm.SVC()\n",
    "clf.fit(data['freqs'], data['labels'])\n",
    "\n",
    "# Predict test ds\n",
    "predict = clf.predict(test['freqs'])\n",
    "\n",
    "# Evaluate the model\n",
    "ac_score = metrics.accuracy_score(test['labels'], predict)\n",
    "cl_report = metrics.classification_report(test['labels'], predict)\n",
    "print(\"정답률 = \", ac_score)\n",
    "print(\"리포트 = \", cl_report)"
   ]
  },
  {
   "cell_type": "code",
   "execution_count": null,
   "metadata": {},
   "outputs": [],
   "source": []
  }
 ],
 "metadata": {
  "kernelspec": {
   "display_name": "Python 3",
   "language": "python",
   "name": "python3"
  },
  "language_info": {
   "codemirror_mode": {
    "name": "ipython",
    "version": 3
   },
   "file_extension": ".py",
   "mimetype": "text/x-python",
   "name": "python",
   "nbconvert_exporter": "python",
   "pygments_lexer": "ipython3",
   "version": "3.7.4"
  }
 },
 "nbformat": 4,
 "nbformat_minor": 2
}

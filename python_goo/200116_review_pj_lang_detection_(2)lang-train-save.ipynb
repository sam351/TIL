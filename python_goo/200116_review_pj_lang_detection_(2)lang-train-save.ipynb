{
 "cells": [
  {
   "cell_type": "code",
   "execution_count": null,
   "metadata": {},
   "outputs": [],
   "source": [
    "from sklearn import svm \n",
    "from sklearn.externals import joblib\n",
    "import json"
   ]
  },
  {
   "cell_type": "markdown",
   "metadata": {},
   "source": [
    "## Saving the final model"
   ]
  },
  {
   "cell_type": "code",
   "execution_count": null,
   "metadata": {},
   "outputs": [],
   "source": [
    "# 각 언어의 출현 빈도 데이터(JSON) 읽어 들이기\n",
    "with open('pj_lang_detection/lang/freq.json', encoding='utf-8') as jf:\n",
    "    tmp_json = json.load(jf)\n",
    "    data = tmp_json[0]    \n",
    "    pass\n",
    "del tmp_json\n",
    "\n",
    "# 데이터 학습하기\n",
    "clf3 = svm.SVC(gamma=5, C=3)\n",
    "clf3.fit(data['freqs'], data['labels'])\n",
    "joblib.dump(clf3, \"pj_lang_detection/lang/freq.pkl\")\n",
    "\n",
    "print(\"ok\")"
   ]
  }
 ],
 "metadata": {
  "kernelspec": {
   "display_name": "Python 3",
   "language": "python",
   "name": "python3"
  },
  "language_info": {
   "codemirror_mode": {
    "name": "ipython",
    "version": 3
   },
   "file_extension": ".py",
   "mimetype": "text/x-python",
   "name": "python",
   "nbconvert_exporter": "python",
   "pygments_lexer": "ipython3",
   "version": "3.7.4"
  }
 },
 "nbformat": 4,
 "nbformat_minor": 2
}

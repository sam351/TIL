{
 "cells": [
  {
   "cell_type": "code",
   "execution_count": 1,
   "metadata": {},
   "outputs": [],
   "source": [
    "from bs4 import BeautifulSoup\n",
    "from konlpy.tag import Twitter\n",
    "import json"
   ]
  },
  {
   "cell_type": "markdown",
   "metadata": {},
   "source": [
    "## 1. Define functions"
   ]
  },
  {
   "cell_type": "code",
   "execution_count": 2,
   "metadata": {},
   "outputs": [],
   "source": [
    "# function1. transform input text into dictionary format for Markov-chain\n",
    "def make_dic(words):\n",
    "    tmp = [\"@\"]\n",
    "    dic = {}\n",
    "    \n",
    "    for word in words:\n",
    "        tmp.append(word)\n",
    "        if len(tmp) < 3:\n",
    "            continue\n",
    "        if len(tmp) > 3:\n",
    "            tmp = tmp[1:]\n",
    "            \n",
    "        set_word3(dic, tmp)\n",
    "        \n",
    "        if word == \".\":\n",
    "            tmp = [\"@\"]\n",
    "            continue\n",
    "        pass\n",
    "    \n",
    "    return dic\n",
    "\n",
    "# function1-1. update word count in dicionary\n",
    "def set_word3(dic, s3):\n",
    "    w1, w2, w3 = s3\n",
    "    \n",
    "    if not w1 in dic:\n",
    "        dic[w1] = {}\n",
    "    if not w2 in dic[w1]:\n",
    "        dic[w1][w2] = {}\n",
    "    if not w3 in dic[w1][w2]:\n",
    "        dic[w1][w2][w3] = 0\n",
    "    \n",
    "    dic[w1][w2][w3] += 1\n",
    "    pass"
   ]
  },
  {
   "cell_type": "markdown",
   "metadata": {},
   "source": [
    "## 2. Generate json data"
   ]
  },
  {
   "cell_type": "code",
   "execution_count": 3,
   "metadata": {},
   "outputs": [
    {
     "name": "stderr",
     "output_type": "stream",
     "text": [
      "C:\\Users\\student\\Anaconda3\\envs\\py36\\lib\\site-packages\\konlpy\\tag\\_okt.py:16: UserWarning: \"Twitter\" has changed to \"Okt\" since KoNLPy v0.4.5.\n",
      "  warn('\"Twitter\" has changed to \"Okt\" since KoNLPy v0.4.5.')\n"
     ]
    },
    {
     "name": "stdout",
     "output_type": "stream",
     "text": [
      "successfully saved\n"
     ]
    }
   ],
   "source": [
    "text_file = \"./konlpy/BEXX0014.txt\"\n",
    "dict_file = \"./200205_markov-BEXX0014.json\"\n",
    "\n",
    "# open text file\n",
    "with open(text_file, encoding=\"utf-16\") as fp:\n",
    "    soup = BeautifulSoup(fp, 'html.parser')\n",
    "    pass\n",
    "body = soup.select_one(\"body\")\n",
    "text = body.get_text()\n",
    "\n",
    "# perform POS tagging\n",
    "twitter = Twitter()\n",
    "malist = twitter.pos(text, norm=True)\n",
    "words = []\n",
    "for word in malist:\n",
    "    # exclude punctuations (except for dot '.')\n",
    "    if word[0] == \".\":\n",
    "        words.append(word[0])\n",
    "    elif not word[1] in [\"Punctuation\"]:\n",
    "        words.append(word[0])\n",
    "\n",
    "# make a dictionary & save into json format\n",
    "dic = make_dic(words)\n",
    "json.dump(dic, open(dict_file,\"w\", encoding=\"utf-8\"))\n",
    "\n",
    "print('successfully saved')"
   ]
  }
 ],
 "metadata": {
  "kernelspec": {
   "display_name": "Python 3",
   "language": "python",
   "name": "python3"
  },
  "language_info": {
   "codemirror_mode": {
    "name": "ipython",
    "version": 3
   },
   "file_extension": ".py",
   "mimetype": "text/x-python",
   "name": "python",
   "nbconvert_exporter": "python",
   "pygments_lexer": "ipython3",
   "version": "3.6.10"
  }
 },
 "nbformat": 4,
 "nbformat_minor": 4
}

{
 "cells": [
  {
   "cell_type": "markdown",
   "metadata": {},
   "source": [
    "## ref : https://blog.naver.com/21ahn/221329975739 (Crawling by POST method)"
   ]
  },
  {
   "cell_type": "code",
   "execution_count": 1,
   "metadata": {},
   "outputs": [],
   "source": [
    "from bs4 import BeautifulSoup\n",
    "import json, random\n",
    "import requests"
   ]
  },
  {
   "cell_type": "markdown",
   "metadata": {},
   "source": [
    "## 1. Define functions"
   ]
  },
  {
   "cell_type": "code",
   "execution_count": 2,
   "metadata": {},
   "outputs": [],
   "source": [
    "# function1. generate sentece\n",
    "def make_sentence(dic):\n",
    "    ret = []\n",
    "    if not \"@\" in dic:\n",
    "        return \"not an appropraite json format\"\n",
    "    \n",
    "    beginner_dic = dic[\"@\"]\n",
    "    w1 = word_choice(beginner_dic)\n",
    "    w2 = word_choice(beginner_dic[w1])\n",
    "    ret.append(w1)\n",
    "    ret.append(w2)\n",
    "    \n",
    "    while True:\n",
    "        w3 = word_choice(dic[w1][w2])\n",
    "        ret.append(w3)\n",
    "        if w3 in (\".\", \"\\n\"):\n",
    "            break\n",
    "        w1, w2 = w2, w3\n",
    "    ret = \"\".join(ret)\n",
    "    ret_daum_corrected = kor_corrector_daum(ret)\n",
    "    # ret_pusan_corrected = kor_corrector_pusan(ret)  # deleted : Not properly runnging\n",
    "    \n",
    "    r_tuple = (ret, ret_daum_corrected)\n",
    "    \n",
    "    return r_tuple\n",
    "\n",
    "# function1-1. randomly choose one key from the input dictionary\n",
    "def word_choice(dict1):\n",
    "    keys = list(dict1.keys())\n",
    "    return random.choice(keys)\n",
    "\n",
    "# function1-2. correct grammar using the Daum grammar checker\n",
    "def kor_corrector_daum(text):\n",
    "    main_url = 'https://alldic.daum.net/grammar_checker.do'\n",
    "    form_data = {'sentence':text}\n",
    "\n",
    "    response = requests.post(main_url, data=form_data)\n",
    "    html = response.text\n",
    "    soup = BeautifulSoup(html, 'html.parser')\n",
    "    \n",
    "    try:\n",
    "        span = soup.select_one('#resultForm > div.cont_grammar > div > a > span')\n",
    "        r_text = span.get_text()[:-2]\n",
    "    except Exception as e:\n",
    "        r_text = f'Error - {str(e)}  |  status_code : {response.status_code}'\n",
    "    \n",
    "    if r_text == '오류의심':\n",
    "        r_text = 'Error - Failed to get the result'\n",
    "    \n",
    "    return r_text\n",
    "\n",
    "# function1-3. correct grammar using the Pusan-univ grammar checker - deleted : Not properly runnging\n",
    "def kor_corrector_pusan(text):\n",
    "    main_url = 'http://speller.cs.pusan.ac.kr/'\n",
    "    form_data = {'text1':text}\n",
    "\n",
    "    response = requests.post(main_url, data=form_data)\n",
    "    html = response.text\n",
    "    soup = BeautifulSoup(html, 'html.parser')\n",
    "    \n",
    "    try:\n",
    "        span = soup.select_one('#tableErr_0 > tbody > tr:nth-child(2)')\n",
    "        r_text = span.get_text()[3:]\n",
    "    except Exception as e:\n",
    "        r_text = f'Error - {str(e)}  |  status_code : {response.status_code}'\n",
    "    \n",
    "    return r_text"
   ]
  },
  {
   "cell_type": "markdown",
   "metadata": {},
   "source": [
    "## 2. Load json data"
   ]
  },
  {
   "cell_type": "code",
   "execution_count": 3,
   "metadata": {},
   "outputs": [],
   "source": [
    "dict_file = \"./200205_markov-BEXX0014.json\"\n",
    "dic = json.load(open(dict_file))"
   ]
  },
  {
   "cell_type": "markdown",
   "metadata": {},
   "source": [
    "## 3. Generate random sentences using json data"
   ]
  },
  {
   "cell_type": "code",
   "execution_count": 4,
   "metadata": {},
   "outputs": [
    {
     "name": "stdout",
     "output_type": "stream",
     "text": [
      "original text : 윤도집하고환이형님하고대립이되어서판이갈라졌을때요\n",
      "\n",
      "\n",
      "corrected by DAUM : 윤도 집하 고환이 형님하고 대립이 되어서 판이 갈라 졌을 때요\n",
      "\n",
      "---\n",
      "\n",
      "original text : 다수에따르지요.\n",
      "\n",
      "corrected by DAUM : 다수에 따르지요.\n",
      "\n",
      "---\n",
      "\n",
      "original text : 신발장에는적잖은신발이들어있습니다\n",
      "\n",
      "\n",
      "corrected by DAUM : Error - Failed to get the result\n",
      "\n",
      "---\n",
      "\n"
     ]
    }
   ],
   "source": [
    "for i in range(3):\n",
    "    s1, s2 = make_sentence(dic)\n",
    "    print('original text :', s1, end='\\n\\n')\n",
    "    print('corrected by DAUM :', s2)\n",
    "    print(\"\\n---\\n\")"
   ]
  }
 ],
 "metadata": {
  "kernelspec": {
   "display_name": "Python 3",
   "language": "python",
   "name": "python3"
  },
  "language_info": {
   "codemirror_mode": {
    "name": "ipython",
    "version": 3
   },
   "file_extension": ".py",
   "mimetype": "text/x-python",
   "name": "python",
   "nbconvert_exporter": "python",
   "pygments_lexer": "ipython3",
   "version": "3.6.10"
  }
 },
 "nbformat": 4,
 "nbformat_minor": 4
}

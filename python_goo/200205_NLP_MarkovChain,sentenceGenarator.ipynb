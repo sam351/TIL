{
 "cells": [
  {
   "cell_type": "markdown",
   "metadata": {},
   "source": [
    "## ref : https://blog.naver.com/21ahn/221329975739 (Crawling by POST method)"
   ]
  },
  {
   "cell_type": "code",
   "execution_count": 1,
   "metadata": {},
   "outputs": [],
   "source": [
    "from bs4 import BeautifulSoup\n",
    "import json, random\n",
    "import requests"
   ]
  },
  {
   "cell_type": "markdown",
   "metadata": {},
   "source": [
    "## 1. Define functions"
   ]
  },
  {
   "cell_type": "code",
   "execution_count": 2,
   "metadata": {},
   "outputs": [],
   "source": [
    "# function1. generate sentece\n",
    "def make_sentence(dic):\n",
    "    ret = []\n",
    "    if not \"@\" in dic:\n",
    "        return \"not an appropraite json format\"\n",
    "    \n",
    "    beginner_dic = dic[\"@\"]\n",
    "    w1 = word_choice(beginner_dic)\n",
    "    w2 = word_choice(beginner_dic[w1])\n",
    "    ret.append(w1)\n",
    "    ret.append(w2)\n",
    "    \n",
    "    while True:\n",
    "        w3 = word_choice(dic[w1][w2])\n",
    "        ret.append(w3)\n",
    "        if w3 in (\".\", \"\\n\"):\n",
    "            break\n",
    "        w1, w2 = w2, w3\n",
    "    ret = \"\".join(ret)\n",
    "    ret_daum_corrected = kor_corrector_daum(ret)\n",
    "    # ret_pusan_corrected = kor_corrector_pusan(ret)  # deleted : Not properly runnging\n",
    "    \n",
    "    r_tuple = (ret, ret_daum_corrected)\n",
    "    \n",
    "    return r_tuple\n",
    "\n",
    "# function1-1. randomly choose one key from the input dictionary\n",
    "def word_choice(dict1):\n",
    "    keys = list(dict1.keys())\n",
    "    return random.choice(keys)\n",
    "\n",
    "# function1-2. correct grammar using the Daum grammar checker\n",
    "def kor_corrector_daum(text):\n",
    "    main_url = 'https://alldic.daum.net/grammar_checker.do'\n",
    "    form_data = {'sentence':text}\n",
    "\n",
    "    response = requests.post(main_url, data=form_data)\n",
    "    html = response.text\n",
    "    soup = BeautifulSoup(html, 'html.parser')\n",
    "    \n",
    "    try:\n",
    "        a_tag = soup.select_one('#resultForm > div.cont_grammar > div > a')\n",
    "        r_text = a_tag.attrs['data-error-output']\n",
    "        \n",
    "    except Exception as e:\n",
    "        r_text = f'Error - {str(e)}  |  status_code : {response.status_code}'\n",
    "    \n",
    "    return r_text"
   ]
  },
  {
   "cell_type": "markdown",
   "metadata": {},
   "source": [
    "## 2. Load json data"
   ]
  },
  {
   "cell_type": "code",
   "execution_count": 3,
   "metadata": {},
   "outputs": [],
   "source": [
    "dict_file = \"./200205_markov-BEXX0014.json\"\n",
    "dic = json.load(open(dict_file))"
   ]
  },
  {
   "cell_type": "markdown",
   "metadata": {},
   "source": [
    "## 3. Generate random sentences using json data"
   ]
  },
  {
   "cell_type": "code",
   "execution_count": 4,
   "metadata": {},
   "outputs": [
    {
     "name": "stdout",
     "output_type": "stream",
     "text": [
      "original text : 뿐이겠소이동진선생의심리상태를그는네댓명의여학생이서있었다.\n",
      "\n",
      "corrected by DAUM : 뿐이겠소 이동진 선생의 심리상태를 그는 네댓 명의 여학생이 서 있었다.\n",
      "\n",
      "---\n",
      "\n",
      "original text : 미버라해쌓든서울네까지감싸주는것을보면거의매일이다시피미군항공모함이격침됐다는기사가실려있는데전쟁은아직도끝나지않았어\n",
      "\n",
      "\n",
      "corrected by DAUM : 미버라해쌓든서울네까지감싸주는 것을 보면 거의 매일이다시피미군 항공모함이 격침됐다는 기사가 실려있는데 전쟁은 아직도 끝나지 않았어\n",
      "\n",
      "---\n",
      "\n",
      "original text : 징용자를피해서배를탔다는것인데선구에미주시이소\n",
      "\n",
      "\n",
      "corrected by DAUM : 징용자를 피해서 배를 탔다는 것인데 선구에 미주시세요\n",
      "\n",
      "---\n",
      "\n"
     ]
    }
   ],
   "source": [
    "for i in range(3):\n",
    "    s1, s2 = make_sentence(dic)\n",
    "    print('original text :', s1, end='\\n\\n')\n",
    "    print('corrected by DAUM :', s2)\n",
    "    print(\"\\n---\\n\")"
   ]
  }
 ],
 "metadata": {
  "kernelspec": {
   "display_name": "Python 3",
   "language": "python",
   "name": "python3"
  },
  "language_info": {
   "codemirror_mode": {
    "name": "ipython",
    "version": 3
   },
   "file_extension": ".py",
   "mimetype": "text/x-python",
   "name": "python",
   "nbconvert_exporter": "python",
   "pygments_lexer": "ipython3",
   "version": "3.6.10"
  }
 },
 "nbformat": 4,
 "nbformat_minor": 4
}

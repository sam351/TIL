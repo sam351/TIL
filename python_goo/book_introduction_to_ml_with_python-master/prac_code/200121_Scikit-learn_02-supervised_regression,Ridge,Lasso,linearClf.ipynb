{
 "cells": [
  {
   "cell_type": "code",
   "execution_count": 11,
   "metadata": {},
   "outputs": [
    {
     "name": "stdout",
     "output_type": "stream",
     "text": [
      "Pyunji R\n"
     ]
    }
   ],
   "source": [
    "import numpy as np\n",
    "\n",
    "from sklearn.model_selection import train_test_split\n",
    "from sklearn.linear_model import LinearRegression\n",
    "\n",
    "from sklearn.datasets import load_breast_cancer\n",
    "\n",
    "import matplotlib.pyplot as plt\n",
    "import matplotlib\n",
    "fontname = matplotlib.font_manager.FontProperties(fname=\"C:/Windows/Fonts/HMFMPYUN.ttf\").get_name()\n",
    "print(fontname)\n",
    "\n",
    "matplotlib.rc('font', family=fontname)\n",
    "matplotlib.rcParams['axes.unicode_minus'] = False\n",
    "\n",
    "# import mglearn in higher directory\n",
    "import os\n",
    "import sys\n",
    "sys.path.append(os.path.dirname(os.path.abspath('')))\n",
    "import mglearn"
   ]
  },
  {
   "cell_type": "code",
   "execution_count": 6,
   "metadata": {},
   "outputs": [
    {
     "data": {
      "text/plain": [
       "'Arial'"
      ]
     },
     "execution_count": 6,
     "metadata": {},
     "output_type": "execute_result"
    }
   ],
   "source": [
    "matplotlib.font_manager.FontProperties(fname=\"C:/Windows/Fonts/arial.ttf\").get_name()"
   ]
  },
  {
   "cell_type": "code",
   "execution_count": 8,
   "metadata": {},
   "outputs": [
    {
     "data": {
      "text/plain": [
       "dict_keys(['data', 'target', 'target_names', 'DESCR', 'feature_names', 'filename'])"
      ]
     },
     "execution_count": 8,
     "metadata": {},
     "output_type": "execute_result"
    }
   ],
   "source": [
    "cancer = load_breast_cancer()\n",
    "cancer.keys()"
   ]
  },
  {
   "cell_type": "code",
   "execution_count": 9,
   "metadata": {},
   "outputs": [
    {
     "data": {
      "text/plain": [
       "array(['mean radius', 'mean texture', 'mean perimeter', 'mean area',\n",
       "       'mean smoothness', 'mean compactness', 'mean concavity',\n",
       "       'mean concave points', 'mean symmetry', 'mean fractal dimension',\n",
       "       'radius error', 'texture error', 'perimeter error', 'area error',\n",
       "       'smoothness error', 'compactness error', 'concavity error',\n",
       "       'concave points error', 'symmetry error',\n",
       "       'fractal dimension error', 'worst radius', 'worst texture',\n",
       "       'worst perimeter', 'worst area', 'worst smoothness',\n",
       "       'worst compactness', 'worst concavity', 'worst concave points',\n",
       "       'worst symmetry', 'worst fractal dimension'], dtype='<U23')"
      ]
     },
     "execution_count": 9,
     "metadata": {},
     "output_type": "execute_result"
    }
   ],
   "source": [
    "cancer['feature_names']"
   ]
  },
  {
   "cell_type": "markdown",
   "metadata": {},
   "source": [
    "## 회귀분석"
   ]
  },
  {
   "cell_type": "code",
   "execution_count": 12,
   "metadata": {},
   "outputs": [
    {
     "name": "stdout",
     "output_type": "stream",
     "text": [
      "w[0]: 0.393906  b: -0.031804\n"
     ]
    },
    {
     "data": {
      "image/png": "[encoded data removed]",
      "text/plain": [
       "<Figure size 576x576 with 1 Axes>"
      ]
     },
     "metadata": {
      "needs_background": "light"
     },
     "output_type": "display_data"
    }
   ],
   "source": [
    "mglearn.plots.plot_linear_regression_wave()"
   ]
  },
  {
   "cell_type": "markdown",
   "metadata": {},
   "source": [
    "#### load dataset"
   ]
  },
  {
   "cell_type": "code",
   "execution_count": 90,
   "metadata": {},
   "outputs": [
    {
     "data": {
      "text/plain": [
       "(array([[2.07946779e-03, 2.20000000e-01, 1.97947214e-01, 0.00000000e+00,\n",
       "         9.46502058e-02, 3.91645909e-01, 6.93099897e-01, 6.20656731e-01,\n",
       "         2.60869565e-01, 2.72900763e-01, 6.91489362e-01, 9.80407484e-01,\n",
       "         4.61644592e-01, 4.32418630e-06, 4.57482914e-04, 4.11624856e-04,\n",
       "         0.00000000e+00, 1.96822054e-04, 8.14415054e-04, 1.44127891e-03,\n",
       "         1.29063568e-03, 5.42469859e-04, 5.67488348e-04, 1.43792986e-03,\n",
       "         2.03872579e-03, 9.59975060e-04, 4.84000000e-02, 4.35483871e-02,\n",
       "         0.00000000e+00, 2.08230453e-02, 8.61621000e-02, 1.52481977e-01,\n",
       "         1.36544481e-01, 5.73913043e-02, 6.00381679e-02, 1.52127660e-01,\n",
       "         2.15689646e-01, 1.01561810e-01, 3.91830996e-02, 0.00000000e+00,\n",
       "         1.87357445e-02, 7.75252166e-02, 1.37197194e-01, 1.22857271e-01,\n",
       "         5.16384037e-02, 5.40199458e-02, 1.36878393e-01, 1.94068930e-01,\n",
       "         9.13812608e-02, 0.00000000e+00, 0.00000000e+00, 0.00000000e+00,\n",
       "         0.00000000e+00, 0.00000000e+00, 0.00000000e+00, 0.00000000e+00,\n",
       "         0.00000000e+00, 0.00000000e+00, 0.00000000e+00, 8.95866145e-03,\n",
       "         3.70693659e-02, 6.56020479e-02, 5.87452873e-02, 2.46913580e-02,\n",
       "         2.58301134e-02, 6.54496104e-02, 9.27957701e-02, 4.36947556e-02,\n",
       "         1.53386518e-01, 2.71449739e-01, 2.43077670e-01, 1.02168498e-01,\n",
       "         1.06880468e-01, 2.70818980e-01, 3.83972580e-01, 1.80801216e-01,\n",
       "         4.80387467e-01, 4.30177116e-01, 1.80808669e-01, 1.89147491e-01,\n",
       "         4.79271205e-01, 6.79520326e-01, 3.19965819e-01, 3.85214777e-01,\n",
       "         1.61910451e-01, 1.69377696e-01, 4.29177526e-01, 6.08496504e-01,\n",
       "         2.86522823e-01, 6.80529301e-02, 7.11915035e-02, 1.80388529e-01,\n",
       "         2.55758474e-01, 1.20429024e-01, 7.44748266e-02, 1.88707975e-01,\n",
       "         2.67553951e-01, 1.25983161e-01, 4.78157537e-01, 6.77941345e-01,\n",
       "         3.19222324e-01, 9.61198835e-01, 4.52599813e-01, 2.13115729e-01]]),\n",
       " array([18.5]))"
      ]
     },
     "execution_count": 90,
     "metadata": {},
     "output_type": "execute_result"
    }
   ],
   "source": [
    "X, y = mglearn.datasets.load_extended_boston()\n",
    "X_train, X_test, y_train, y_test = train_test_split(X, y, random_state=0)\n",
    "\n",
    "X_train[:1], y_train[:1]"
   ]
  },
  {
   "cell_type": "markdown",
   "metadata": {},
   "source": [
    "#### Linear regression (Least Square Method)"
   ]
  },
  {
   "cell_type": "code",
   "execution_count": 91,
   "metadata": {},
   "outputs": [
    {
     "name": "stdout",
     "output_type": "stream",
     "text": [
      "LinearRegression(copy_X=True, fit_intercept=True, n_jobs=None, normalize=False)\n"
     ]
    },
    {
     "data": {
      "text/plain": [
       "(array([-4.12710947e+02, -5.22432068e+01, -1.31898815e+02, -1.20041365e+01,\n",
       "        -1.55107129e+01,  2.87163342e+01,  5.47040992e+01, -4.95346659e+01,\n",
       "         2.65823927e+01,  3.70620316e+01, -1.18281674e+01, -1.80581965e+01,\n",
       "        -1.95246830e+01,  1.22025403e+01,  2.98078144e+03,  1.50084257e+03,\n",
       "         1.14187325e+02, -1.69700520e+01,  4.09613691e+01, -2.42636646e+01,\n",
       "         5.76157466e+01,  1.27812142e+03, -2.23986944e+03,  2.22825472e+02,\n",
       "        -2.18201083e+00,  4.29960320e+01, -1.33981515e+01, -1.93893485e+01,\n",
       "        -2.57541277e+00, -8.10130128e+01,  9.66019367e+00,  4.91423718e+00,\n",
       "        -8.12114800e-01, -7.64694179e+00,  3.37837099e+01, -1.14464390e+01,\n",
       "         6.85083979e+01, -1.73753604e+01,  4.28128204e+01,  1.13988209e+00,\n",
       "        -7.72696840e-01,  5.68255921e+01,  1.42875996e+01,  5.39551110e+01,\n",
       "        -3.21709644e+01,  1.92709675e+01, -1.38852338e+01,  6.06343266e+01,\n",
       "        -1.23153942e+01, -1.20041365e+01, -1.77243899e+01, -3.39868183e+01,\n",
       "         7.08999816e+00, -9.22538241e+00,  1.71980268e+01, -1.27718431e+01,\n",
       "        -1.19727581e+01,  5.73871915e+01, -1.75331865e+01,  4.10103194e+00,\n",
       "         2.93666477e+01, -1.76611772e+01,  7.84049424e+01, -3.19098015e+01,\n",
       "         4.81752461e+01, -3.95344813e+01,  5.22959055e+00,  2.19982410e+01,\n",
       "         2.56483934e+01, -4.99982035e+01,  2.91457545e+01,  8.94267456e+00,\n",
       "        -7.16599297e+01, -2.28147862e+01,  8.40660981e+00, -5.37905422e+00,\n",
       "         1.20137322e+00, -5.20877186e+00,  4.11452351e+01, -3.78250760e+01,\n",
       "        -2.67163851e+00, -2.55217108e+01, -3.33982030e+01,  4.62272693e+01,\n",
       "        -2.41509169e+01, -1.77532970e+01, -1.39723701e+01, -2.35522208e+01,\n",
       "         3.68353800e+01, -9.46890859e+01,  1.44302810e+02, -1.51158659e+01,\n",
       "        -1.49513436e+01, -2.87729579e+01, -3.17673192e+01,  2.49551594e+01,\n",
       "        -1.84384534e+01,  3.65073948e+00,  1.73101122e+00,  3.53617137e+01,\n",
       "         1.19553429e+01,  6.77025947e-01,  2.73452009e+00,  3.03720012e+01]),\n",
       " 30.93456367364365)"
      ]
     },
     "execution_count": 91,
     "metadata": {},
     "output_type": "execute_result"
    }
   ],
   "source": [
    "lr = LinearRegression().fit(X_train, y_train)\n",
    "print(lr)\n",
    "lr.coef_, lr.intercept_"
   ]
  },
  {
   "cell_type": "code",
   "execution_count": 92,
   "metadata": {},
   "outputs": [
    {
     "name": "stdout",
     "output_type": "stream",
     "text": [
      "훈련 세트 점수 : 0.95\n",
      "테스트 세트 점수 : 0.61\n"
     ]
    }
   ],
   "source": [
    "print(f'훈련 세트 점수 : {lr.score(X_train, y_train):.2f}')\n",
    "print(f'테스트 세트 점수 : {lr.score(X_test, y_test):.2f}')"
   ]
  },
  {
   "cell_type": "markdown",
   "metadata": {},
   "source": [
    "#### Ridge regression"
   ]
  },
  {
   "cell_type": "code",
   "execution_count": 93,
   "metadata": {},
   "outputs": [
    {
     "name": "stdout",
     "output_type": "stream",
     "text": [
      "훈련 세트 점수 : 0.89\n",
      "테스트 세트 점수 : 0.75\n"
     ]
    }
   ],
   "source": [
    "from sklearn.linear_model import Ridge\n",
    "\n",
    "ridge = Ridge().fit(X_train, y_train)  # default alpha = 1.0\n",
    "print(f'훈련 세트 점수 : {ridge.score(X_train, y_train):.2f}')\n",
    "print(f'테스트 세트 점수 : {ridge.score(X_test, y_test):.2f}')"
   ]
  },
  {
   "cell_type": "code",
   "execution_count": 94,
   "metadata": {},
   "outputs": [
    {
     "name": "stdout",
     "output_type": "stream",
     "text": [
      "훈련 세트 점수 : 0.79\n",
      "테스트 세트 점수 : 0.64\n"
     ]
    }
   ],
   "source": [
    "ridge10 = Ridge(alpha=10).fit(X_train, y_train)\n",
    "print(f'훈련 세트 점수 : {ridge10.score(X_train, y_train):.2f}')\n",
    "print(f'테스트 세트 점수 : {ridge10.score(X_test, y_test):.2f}')"
   ]
  },
  {
   "cell_type": "code",
   "execution_count": 95,
   "metadata": {},
   "outputs": [
    {
     "name": "stdout",
     "output_type": "stream",
     "text": [
      "훈련 세트 점수 : 0.93\n",
      "테스트 세트 점수 : 0.77\n"
     ]
    }
   ],
   "source": [
    "ridge01 = Ridge(alpha=0.1).fit(X_train, y_train)\n",
    "print(f'훈련 세트 점수 : {ridge01.score(X_train, y_train):.2f}')\n",
    "print(f'테스트 세트 점수 : {ridge01.score(X_test, y_test):.2f}')"
   ]
  },
  {
   "cell_type": "code",
   "execution_count": 43,
   "metadata": {},
   "outputs": [
    {
     "data": {
      "text/plain": [
       "<matplotlib.legend.Legend at 0x22af9f28a48>"
      ]
     },
     "execution_count": 43,
     "metadata": {},
     "output_type": "execute_result"
    },
    {
     "data": {
      "image/png": "[encoded data removed]",
      "text/plain": [
       "<Figure size 432x288 with 1 Axes>"
      ]
     },
     "metadata": {
      "needs_background": "light"
     },
     "output_type": "display_data"
    }
   ],
   "source": [
    "# 각 모델 간의 coefficient 비교 시각화\n",
    "plt.plot(ridge10.coef_, '^', label=\"Ridge alpha=10\")\n",
    "plt.plot(ridge.coef_, 's', label=\"Ridge alpha=1\")\n",
    "plt.plot(ridge01.coef_, 'v', label=\"Ridge alpha=0.1\")\n",
    "\n",
    "plt.plot(lr.coef_, 'o', label=\"LinearRegression\")\n",
    "plt.xlabel(\"계수 목록\")\n",
    "plt.ylabel(\"계수 크기\")\n",
    "xlims = plt.xlim()\n",
    "plt.hlines(0, xlims[0], xlims[1])\n",
    "plt.xlim(xlims)\n",
    "plt.ylim(-25, 25)\n",
    "plt.legend()"
   ]
  },
  {
   "cell_type": "markdown",
   "metadata": {},
   "source": [
    "#### Lasso regression"
   ]
  },
  {
   "cell_type": "code",
   "execution_count": 96,
   "metadata": {},
   "outputs": [
    {
     "data": {
      "text/plain": [
       "Lasso(alpha=1.0, copy_X=True, fit_intercept=True, max_iter=1000,\n",
       "      normalize=False, positive=False, precompute=False, random_state=None,\n",
       "      selection='cyclic', tol=0.0001, warm_start=False)"
      ]
     },
     "execution_count": 96,
     "metadata": {},
     "output_type": "execute_result"
    }
   ],
   "source": [
    "from sklearn.linear_model import Lasso\n",
    "\n",
    "lasso = Lasso().fit(X_train, y_train)\n",
    "lasso"
   ]
  },
  {
   "cell_type": "code",
   "execution_count": 97,
   "metadata": {},
   "outputs": [
    {
     "name": "stdout",
     "output_type": "stream",
     "text": [
      "훈련 세트 점수 : 0.29\n",
      "훈련 세트 점수 : 0.21\n",
      "사용한 특성의 개수 : 4\n"
     ]
    }
   ],
   "source": [
    "print(f\"훈련 세트 점수 : {lasso.score(X_train, y_train):.2f}\")\n",
    "print(f\"훈련 세트 점수 : {lasso.score(X_test, y_test):.2f}\")\n",
    "print(f\"사용한 특성의 개수 : {np.sum(lasso.coef_ != 0)}\")"
   ]
  },
  {
   "cell_type": "code",
   "execution_count": 98,
   "metadata": {},
   "outputs": [
    {
     "name": "stdout",
     "output_type": "stream",
     "text": [
      "훈련 세트 점수 : 0.00\n",
      "테스트 세트 점수 : -0.00\n",
      "사용한 특성의 개수 : 0\n"
     ]
    }
   ],
   "source": [
    "lasso10 = Lasso(alpha=10).fit(X_train, y_train)\n",
    "\n",
    "print(f'훈련 세트 점수 : {lasso10.score(X_train, y_train):.2f}')\n",
    "print(f'테스트 세트 점수 : {lasso10.score(X_test, y_test):.2f}')\n",
    "print(f'사용한 특성의 개수 : {np.sum(lasso10.coef_ != 0)}')"
   ]
  },
  {
   "cell_type": "code",
   "execution_count": 99,
   "metadata": {},
   "outputs": [
    {
     "name": "stdout",
     "output_type": "stream",
     "text": [
      "훈련 세트 점수 : 0.77\n",
      "테스트 세트 점수 : 0.63\n",
      "사용한 특성의 개수 : 8\n"
     ]
    }
   ],
   "source": [
    "lasso001 = Lasso(alpha = 0.1).fit(X_train, y_train)\n",
    "\n",
    "print(f'훈련 세트 점수 : {lasso001.score(X_train, y_train):.2f}')\n",
    "print(f'테스트 세트 점수 : {lasso001.score(X_test, y_test):.2f}')\n",
    "print(f'사용한 특성의 개수 : {np.sum(lasso001.coef_ != 0)}')"
   ]
  },
  {
   "cell_type": "code",
   "execution_count": 100,
   "metadata": {},
   "outputs": [
    {
     "name": "stdout",
     "output_type": "stream",
     "text": [
      "훈련 세트 점수 : 0.90\n",
      "테스트 세트 점수 : 0.77\n",
      "사용한 특성의 개수 : 33\n"
     ]
    }
   ],
   "source": [
    "lasso001 = Lasso(alpha = 0.01, max_iter=100000).fit(X_train, y_train)\n",
    "print(f'훈련 세트 점수 : {lasso001.score(X_train, y_train):.2f}')\n",
    "print(f'테스트 세트 점수 : {lasso001.score(X_test, y_test):.2f}')\n",
    "print(f'사용한 특성의 개수 : {np.sum(lasso001.coef_ != 0)}')"
   ]
  },
  {
   "cell_type": "code",
   "execution_count": 101,
   "metadata": {},
   "outputs": [
    {
     "name": "stdout",
     "output_type": "stream",
     "text": [
      "훈련 세트 점수 : 0.95\n",
      "테스트 세트 점수 : 0.64\n",
      "사용한 특성의 개수 : 96\n"
     ]
    }
   ],
   "source": [
    "lasso00001 = Lasso(alpha = 0.0001, max_iter=100000).fit(X_train, y_train)\n",
    "\n",
    "print(f'훈련 세트 점수 : {lasso00001.score(X_train, y_train):.2f}')\n",
    "print(f'테스트 세트 점수 : {lasso00001.score(X_test, y_test):.2f}')\n",
    "print(f'사용한 특성의 개수 : {np.sum(lasso00001.coef_ != 0)}')"
   ]
  },
  {
   "cell_type": "markdown",
   "metadata": {},
   "source": [
    "#### 분류용 선형모델 (Linear classifiers)"
   ]
  },
  {
   "cell_type": "code",
   "execution_count": 48,
   "metadata": {},
   "outputs": [
    {
     "data": {
      "text/plain": [
       "(array([[ 9.96346605,  4.59676542],\n",
       "        [11.0329545 , -0.16816717],\n",
       "        [11.54155807,  5.21116083],\n",
       "        [ 8.69289001,  1.54322016],\n",
       "        [ 8.1062269 ,  4.28695977]]), array([1, 0, 1, 0, 0]))"
      ]
     },
     "execution_count": 48,
     "metadata": {},
     "output_type": "execute_result"
    }
   ],
   "source": [
    "from sklearn.linear_model import LogisticRegression\n",
    "from sklearn.svm import LinearSVC\n",
    "\n",
    "X, y = mglearn.datasets.make_forge()  # load forge data set\n",
    "X[:5], y[:5]"
   ]
  },
  {
   "cell_type": "code",
   "execution_count": 58,
   "metadata": {},
   "outputs": [
    {
     "name": "stderr",
     "output_type": "stream",
     "text": [
      "C:\\Users\\student\\Anaconda3\\lib\\site-packages\\sklearn\\svm\\base.py:929: ConvergenceWarning: Liblinear failed to converge, increase the number of iterations.\n",
      "  \"the number of iterations.\", ConvergenceWarning)\n",
      "C:\\Users\\student\\Anaconda3\\lib\\site-packages\\sklearn\\linear_model\\logistic.py:432: FutureWarning: Default solver will be changed to 'lbfgs' in 0.22. Specify a solver to silence this warning.\n",
      "  FutureWarning)\n"
     ]
    },
    {
     "data": {
      "text/plain": [
       "<matplotlib.legend.Legend at 0x22afb2307c8>"
      ]
     },
     "execution_count": 58,
     "metadata": {},
     "output_type": "execute_result"
    },
    {
     "data": {
      "image/png": "[encoded data removed]",
      "text/plain": [
       "<Figure size 864x288 with 2 Axes>"
      ]
     },
     "metadata": {},
     "output_type": "display_data"
    }
   ],
   "source": [
    "fig, axes = plt.subplots(1, 2, figsize=(12, 4))\n",
    "\n",
    "for model, ax in zip([LinearSVC(), LogisticRegression()], axes):\n",
    "    clf = model.fit(X, y)\n",
    "    \n",
    "    mglearn.plots.plot_2d_separator(clf, X, fill=False, eps=0.5,\n",
    "                                    ax=ax, alpha=.7)\n",
    "    mglearn.discrete_scatter(X[:, 0], X[:, 1], y, ax=ax)\n",
    "    \n",
    "    ax.set_title(clf.__class__.__name__)\n",
    "    ax.set_xlabel(\"특성 0\")\n",
    "    ax.set_ylabel(\"특성 1\")\n",
    "axes[0].legend()"
   ]
  },
  {
   "cell_type": "code",
   "execution_count": 59,
   "metadata": {},
   "outputs": [],
   "source": []
  },
  {
   "cell_type": "code",
   "execution_count": null,
   "metadata": {},
   "outputs": [],
   "source": []
  },
  {
   "cell_type": "code",
   "execution_count": null,
   "metadata": {},
   "outputs": [],
   "source": []
  },
  {
   "cell_type": "code",
   "execution_count": null,
   "metadata": {},
   "outputs": [],
   "source": []
  },
  {
   "cell_type": "code",
   "execution_count": null,
   "metadata": {},
   "outputs": [],
   "source": []
  }
 ],
 "metadata": {
  "kernelspec": {
   "display_name": "Python 3",
   "language": "python",
   "name": "python3"
  },
  "language_info": {
   "codemirror_mode": {
    "name": "ipython",
    "version": 3
   },
   "file_extension": ".py",
   "mimetype": "text/x-python",
   "name": "python",
   "nbconvert_exporter": "python",
   "pygments_lexer": "ipython3",
   "version": "3.7.4"
  }
 },
 "nbformat": 4,
 "nbformat_minor": 2
}

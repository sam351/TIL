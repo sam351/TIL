{
 "cells": [
  {
   "cell_type": "code",
   "execution_count": 1,
   "metadata": {},
   "outputs": [],
   "source": [
    "from sklearn import svm, metrics"
   ]
  },
  {
   "cell_type": "code",
   "execution_count": 2,
   "metadata": {},
   "outputs": [],
   "source": [
    "# load and preprocess csv\n",
    "def load_csv(fname):\n",
    "    labels = []  # labels\n",
    "    images = []  # features\n",
    "    \n",
    "    with open(fname, 'r') as f:\n",
    "        for line in f:\n",
    "            cols = line.split(',')\n",
    "            if len(cols) < 2:\n",
    "                continue\n",
    "            \n",
    "            labels.append( int(cols.pop(0)) )\n",
    "            vals = list(map( lambda n : int(n)/256, cols ))\n",
    "            images.append( vals )\n",
    "    \n",
    "    return {'labels':labels, 'images':images}\n",
    "            \n",
    "    \n",
    "    pass\n",
    "\n",
    "train = load_csv('./mnist/train.csv')\n",
    "test = load_csv('./mnist/t10k.csv')"
   ]
  },
  {
   "cell_type": "code",
   "execution_count": 3,
   "metadata": {},
   "outputs": [
    {
     "data": {
      "text/plain": [
       "SVC(C=1.0, cache_size=200, class_weight=None, coef0=0.0,\n",
       "  decision_function_shape='ovr', degree=3, gamma='auto', kernel='rbf',\n",
       "  max_iter=-1, probability=False, random_state=None, shrinking=True,\n",
       "  tol=0.001, verbose=False)"
      ]
     },
     "execution_count": 3,
     "metadata": {},
     "output_type": "execute_result"
    }
   ],
   "source": [
    "# train model with train ds\n",
    "clf = svm.SVC()\n",
    "clf.fit(train['images'], train['labels'])"
   ]
  },
  {
   "cell_type": "code",
   "execution_count": 4,
   "metadata": {},
   "outputs": [
    {
     "name": "stdout",
     "output_type": "stream",
     "text": [
      "ac_score : 0.7884231536926147\n",
      "cl_report : \n",
      "              precision    recall  f1-score   support\n",
      "\n",
      "          0       0.87      0.93      0.90        42\n",
      "          1       0.81      1.00      0.89        67\n",
      "          2       0.84      0.69      0.76        55\n",
      "          3       0.87      0.57      0.68        46\n",
      "          4       0.76      0.75      0.75        55\n",
      "          5       0.63      0.80      0.71        50\n",
      "          6       0.97      0.67      0.79        43\n",
      "          7       0.74      0.86      0.79        49\n",
      "          8       0.91      0.72      0.81        40\n",
      "          9       0.71      0.81      0.76        54\n",
      "\n",
      "avg / total       0.80      0.79      0.79       501\n",
      "\n"
     ]
    }
   ],
   "source": [
    "# validate the model with test ds\n",
    "pred = clf.predict(test['images'])\n",
    "ac_score = metrics.accuracy_score(test['labels'], pred)\n",
    "cl_report = metrics.classification_report(test['labels'], pred)\n",
    "\n",
    "print('ac_score :', ac_score)\n",
    "print('cl_report : \\n', cl_report)"
   ]
  }
 ],
 "metadata": {
  "kernelspec": {
   "display_name": "Python 3",
   "language": "python",
   "name": "python3"
  },
  "language_info": {
   "codemirror_mode": {
    "name": "ipython",
    "version": 3
   },
   "file_extension": ".py",
   "mimetype": "text/x-python",
   "name": "python",
   "nbconvert_exporter": "python",
   "pygments_lexer": "ipython3",
   "version": "3.6.6"
  }
 },
 "nbformat": 4,
 "nbformat_minor": 2
}

{
 "cells": [
  {
   "cell_type": "code",
   "execution_count": 1,
   "metadata": {},
   "outputs": [],
   "source": [
    "from selenium import webdriver\n",
    "import time\n",
    "from tqdm import tqdm_notebook\n",
    "import pandas as pd\n",
    "import glob as gb"
   ]
  },
  {
   "cell_type": "markdown",
   "metadata": {},
   "source": [
    "## Crawl data"
   ]
  },
  {
   "cell_type": "code",
   "execution_count": 2,
   "metadata": {},
   "outputs": [],
   "source": [
    "# generate Webdriver object - Chrome version 79.0.3945.130 (64 bit)\n",
    "driver = webdriver.Chrome('driver/chromedriver.exe')  # webdriver.Chrome('directory')"
   ]
  },
  {
   "cell_type": "code",
   "execution_count": 3,
   "metadata": {},
   "outputs": [],
   "source": [
    "driver.get('http://www.opinet.co.kr')  # get('url')\n",
    "driver.implicitly_wait(1)\n",
    "driver.get('http://www.opinet.co.kr/searRgSelect.do')\n",
    "driver.implicitly_wait(1)"
   ]
  },
  {
   "cell_type": "code",
   "execution_count": 4,
   "metadata": {},
   "outputs": [
    {
     "name": "stdout",
     "output_type": "stream",
     "text": [
      "25\n",
      "['강남구', '강동구', '강북구', '강서구', '관악구', '광진구', '구로구', '금천구', '노원구', '도봉구', '동대문구', '동작구', '마포구', '서대문구', '서초구', '성동구', '성북구', '송파구', '양천구', '영등포구', '용산구', '은평구', '종로구', '중구', '중랑구']\n"
     ]
    }
   ],
   "source": [
    "# save option names list using id, <select> tag, attribute name\n",
    "elem_sido = driver.find_element_by_id('SIDO_NM0')\n",
    "elem_sido.send_keys('서울')\n",
    "driver.implicitly_wait(1)\n",
    "\n",
    "elem_sigungu = driver.find_element_by_id('SIGUNGU_NM0')  # find_element\n",
    "gu_list = elem_sigungu.find_elements_by_tag_name('option')  # find_elements\n",
    "\n",
    "gu_names = []\n",
    "for gu in gu_list:\n",
    "    tmp_val = gu.get_attribute('value')  # get_attribute( 'attr_name' )\n",
    "    if tmp_val:  # if not null, append to list\n",
    "        gu_names.append( tmp_val )\n",
    "print(len(gu_names))\n",
    "print(gu_names)"
   ]
  },
  {
   "cell_type": "code",
   "execution_count": 5,
   "metadata": {},
   "outputs": [],
   "source": [
    "# download only oil stations in Gang-nam gu (first elem in gu_list)\n",
    "elem_sigungu.send_keys(gu_names[0])\n",
    "driver.implicitly_wait(1)\n",
    "\n",
    "driver.find_element_by_xpath('//*[@id=\"searRgSelect\"]/span').click()\n",
    "driver.implicitly_wait(7)\n",
    "driver.find_element_by_xpath('//*[@id=\"glopopd_excel\"]/span').click()"
   ]
  },
  {
   "cell_type": "code",
   "execution_count": 6,
   "metadata": {},
   "outputs": [
    {
     "data": {
      "application/vnd.jupyter.widget-view+json": {
       "model_id": "2ebee4a5ed1642feb6d97050203b6b20",
       "version_major": 2,
       "version_minor": 0
      },
      "text/plain": [
       "HBox(children=(IntProgress(value=0, max=25), HTML(value='')))"
      ]
     },
     "metadata": {},
     "output_type": "display_data"
    },
    {
     "name": "stdout",
     "output_type": "stream",
     "text": [
      "\n"
     ]
    }
   ],
   "source": [
    "# download oil stations of each gu in gu_list\n",
    "for name in tqdm_notebook(gu_names):\n",
    "    elem_sigungu = driver.find_element_by_id('SIGUNGU_NM0')\n",
    "    elem_sigungu.send_keys(name)\n",
    "    driver.implicitly_wait(0.5)\n",
    "    \n",
    "    driver.find_element_by_xpath('//*[@id=\"searRgSelect\"]/span').click()\n",
    "    time.sleep(2)  # used time.sleep instead, due to errors\n",
    "    driver.find_element_by_xpath('//*[@id=\"glopopd_excel\"]/span').click()\n",
    "    pass"
   ]
  },
  {
   "cell_type": "markdown",
   "metadata": {},
   "source": [
    "## Check the crawled data"
   ]
  },
  {
   "cell_type": "code",
   "execution_count": 7,
   "metadata": {},
   "outputs": [
    {
     "name": "stdout",
     "output_type": "stream",
     "text": [
      "26\n"
     ]
    }
   ],
   "source": [
    "filnames = gb.glob('data/지역*.xls')\n",
    "print(len(filnames))  # crawled 26 when expected 25 (1 file redundant) → manually found 1 redundant file (using file size)"
   ]
  },
  {
   "cell_type": "code",
   "execution_count": 8,
   "metadata": {},
   "outputs": [
    {
     "name": "stdout",
     "output_type": "stream",
     "text": [
      "25\n"
     ]
    }
   ],
   "source": [
    "filnames = gb.glob('data/지역*[0-9]).xls')\n",
    "print(len(gb.glob('data/지역*[0-9]).xls')))"
   ]
  },
  {
   "cell_type": "code",
   "execution_count": 9,
   "metadata": {},
   "outputs": [
    {
     "name": "stdout",
     "output_type": "stream",
     "text": [
      "(501, 10)\n"
     ]
    },
    {
     "data": {
      "text/html": [
       "<div>\n",
       "<style scoped>\n",
       "    .dataframe tbody tr th:only-of-type {\n",
       "        vertical-align: middle;\n",
       "    }\n",
       "\n",
       "    .dataframe tbody tr th {\n",
       "        vertical-align: top;\n",
       "    }\n",
       "\n",
       "    .dataframe thead th {\n",
       "        text-align: right;\n",
       "    }\n",
       "</style>\n",
       "<table border=\"1\" class=\"dataframe\">\n",
       "  <thead>\n",
       "    <tr style=\"text-align: right;\">\n",
       "      <th></th>\n",
       "      <th>지역</th>\n",
       "      <th>상호</th>\n",
       "      <th>주소</th>\n",
       "      <th>상표</th>\n",
       "      <th>전화번호</th>\n",
       "      <th>셀프여부</th>\n",
       "      <th>고급휘발유</th>\n",
       "      <th>휘발유</th>\n",
       "      <th>경유</th>\n",
       "      <th>실내등유</th>\n",
       "    </tr>\n",
       "  </thead>\n",
       "  <tbody>\n",
       "    <tr>\n",
       "      <th>496</th>\n",
       "      <td>서울특별시</td>\n",
       "      <td>노원주유소</td>\n",
       "      <td>서울 노원구  동일로 1008 (공릉동)</td>\n",
       "      <td>GS칼텍스</td>\n",
       "      <td>02-949-5151</td>\n",
       "      <td>N</td>\n",
       "      <td>-</td>\n",
       "      <td>1639</td>\n",
       "      <td>1489</td>\n",
       "      <td>1100</td>\n",
       "    </tr>\n",
       "    <tr>\n",
       "      <th>497</th>\n",
       "      <td>서울특별시</td>\n",
       "      <td>하계삼호주유소</td>\n",
       "      <td>서울 노원구 공릉로 294 (하계동)</td>\n",
       "      <td>GS칼텍스</td>\n",
       "      <td>02-974-8818</td>\n",
       "      <td>N</td>\n",
       "      <td>-</td>\n",
       "      <td>1660</td>\n",
       "      <td>1470</td>\n",
       "      <td>-</td>\n",
       "    </tr>\n",
       "    <tr>\n",
       "      <th>498</th>\n",
       "      <td>서울특별시</td>\n",
       "      <td>상계동주유소</td>\n",
       "      <td>서울 노원구 노원로26길 191 (상계동)</td>\n",
       "      <td>현대오일뱅크</td>\n",
       "      <td>02-936-5035</td>\n",
       "      <td>N</td>\n",
       "      <td>-</td>\n",
       "      <td>1680</td>\n",
       "      <td>1540</td>\n",
       "      <td>1300</td>\n",
       "    </tr>\n",
       "    <tr>\n",
       "      <th>499</th>\n",
       "      <td>서울특별시</td>\n",
       "      <td>sk네트웍스(주)직영 하계주유소</td>\n",
       "      <td>서울 노원구 노원로17길 29 (하계동)</td>\n",
       "      <td>SK에너지</td>\n",
       "      <td>02-975-1386</td>\n",
       "      <td>N</td>\n",
       "      <td>1995</td>\n",
       "      <td>1755</td>\n",
       "      <td>1599</td>\n",
       "      <td>1179</td>\n",
       "    </tr>\n",
       "    <tr>\n",
       "      <th>500</th>\n",
       "      <td>서울특별시</td>\n",
       "      <td>양지진흥개발(주)상계주유소</td>\n",
       "      <td>서울 노원구 노해로 527 (상계동)</td>\n",
       "      <td>SK에너지</td>\n",
       "      <td>02-930-0111</td>\n",
       "      <td>N</td>\n",
       "      <td>-</td>\n",
       "      <td>1758</td>\n",
       "      <td>1598</td>\n",
       "      <td>1347</td>\n",
       "    </tr>\n",
       "  </tbody>\n",
       "</table>\n",
       "</div>"
      ],
      "text/plain": [
       "        지역                 상호                       주소      상표         전화번호  \\\n",
       "496  서울특별시              노원주유소   서울 노원구  동일로 1008 (공릉동)   GS칼텍스  02-949-5151   \n",
       "497  서울특별시            하계삼호주유소     서울 노원구 공릉로 294 (하계동)   GS칼텍스  02-974-8818   \n",
       "498  서울특별시             상계동주유소  서울 노원구 노원로26길 191 (상계동)  현대오일뱅크  02-936-5035   \n",
       "499  서울특별시  sk네트웍스(주)직영 하계주유소   서울 노원구 노원로17길 29 (하계동)   SK에너지  02-975-1386   \n",
       "500  서울특별시     양지진흥개발(주)상계주유소     서울 노원구 노해로 527 (상계동)   SK에너지  02-930-0111   \n",
       "\n",
       "    셀프여부 고급휘발유   휘발유    경유  실내등유  \n",
       "496    N     -  1639  1489  1100  \n",
       "497    N     -  1660  1470     -  \n",
       "498    N     -  1680  1540  1300  \n",
       "499    N  1995  1755  1599  1179  \n",
       "500    N     -  1758  1598  1347  "
      ]
     },
     "execution_count": 9,
     "metadata": {},
     "output_type": "execute_result"
    }
   ],
   "source": [
    "df_list = []\n",
    "\n",
    "for name in filnames:\n",
    "    tmp_df = pd.read_excel(name, skiprows=2)\n",
    "    df_list.append(tmp_df)\n",
    "    pass\n",
    "\n",
    "stations_raw = pd.concat(df_list, ignore_index=True)\n",
    "print(stations_raw.shape)\n",
    "stations_raw.tail()"
   ]
  },
  {
   "cell_type": "code",
   "execution_count": 10,
   "metadata": {},
   "outputs": [
    {
     "name": "stdout",
     "output_type": "stream",
     "text": [
      "(501, 5)\n"
     ]
    },
    {
     "data": {
      "text/html": [
       "<div>\n",
       "<style scoped>\n",
       "    .dataframe tbody tr th:only-of-type {\n",
       "        vertical-align: middle;\n",
       "    }\n",
       "\n",
       "    .dataframe tbody tr th {\n",
       "        vertical-align: top;\n",
       "    }\n",
       "\n",
       "    .dataframe thead th {\n",
       "        text-align: right;\n",
       "    }\n",
       "</style>\n",
       "<table border=\"1\" class=\"dataframe\">\n",
       "  <thead>\n",
       "    <tr style=\"text-align: right;\">\n",
       "      <th></th>\n",
       "      <th>name</th>\n",
       "      <th>address</th>\n",
       "      <th>brand</th>\n",
       "      <th>self_YN</th>\n",
       "      <th>gas_price</th>\n",
       "    </tr>\n",
       "  </thead>\n",
       "  <tbody>\n",
       "    <tr>\n",
       "      <th>496</th>\n",
       "      <td>노원주유소</td>\n",
       "      <td>서울 노원구  동일로 1008 (공릉동)</td>\n",
       "      <td>GS칼텍스</td>\n",
       "      <td>N</td>\n",
       "      <td>1639</td>\n",
       "    </tr>\n",
       "    <tr>\n",
       "      <th>497</th>\n",
       "      <td>하계삼호주유소</td>\n",
       "      <td>서울 노원구 공릉로 294 (하계동)</td>\n",
       "      <td>GS칼텍스</td>\n",
       "      <td>N</td>\n",
       "      <td>1660</td>\n",
       "    </tr>\n",
       "    <tr>\n",
       "      <th>498</th>\n",
       "      <td>상계동주유소</td>\n",
       "      <td>서울 노원구 노원로26길 191 (상계동)</td>\n",
       "      <td>현대오일뱅크</td>\n",
       "      <td>N</td>\n",
       "      <td>1680</td>\n",
       "    </tr>\n",
       "    <tr>\n",
       "      <th>499</th>\n",
       "      <td>sk네트웍스(주)직영 하계주유소</td>\n",
       "      <td>서울 노원구 노원로17길 29 (하계동)</td>\n",
       "      <td>SK에너지</td>\n",
       "      <td>N</td>\n",
       "      <td>1755</td>\n",
       "    </tr>\n",
       "    <tr>\n",
       "      <th>500</th>\n",
       "      <td>양지진흥개발(주)상계주유소</td>\n",
       "      <td>서울 노원구 노해로 527 (상계동)</td>\n",
       "      <td>SK에너지</td>\n",
       "      <td>N</td>\n",
       "      <td>1758</td>\n",
       "    </tr>\n",
       "  </tbody>\n",
       "</table>\n",
       "</div>"
      ],
      "text/plain": [
       "                  name                  address   brand self_YN gas_price\n",
       "496              노원주유소   서울 노원구  동일로 1008 (공릉동)   GS칼텍스       N      1639\n",
       "497            하계삼호주유소     서울 노원구 공릉로 294 (하계동)   GS칼텍스       N      1660\n",
       "498             상계동주유소  서울 노원구 노원로26길 191 (상계동)  현대오일뱅크       N      1680\n",
       "499  sk네트웍스(주)직영 하계주유소   서울 노원구 노원로17길 29 (하계동)   SK에너지       N      1755\n",
       "500     양지진흥개발(주)상계주유소     서울 노원구 노해로 527 (상계동)   SK에너지       N      1758"
      ]
     },
     "execution_count": 10,
     "metadata": {},
     "output_type": "execute_result"
    }
   ],
   "source": [
    "stations = pd.DataFrame({\n",
    "    'name' : stations_raw['상호'],\n",
    "    'address' : stations_raw['주소'],\n",
    "    'brand' : stations_raw['상표'],\n",
    "    'self_YN' : stations_raw['셀프여부'],\n",
    "    'gas_price' : stations_raw['휘발유']\n",
    "})\n",
    "\n",
    "print(stations.shape)\n",
    "stations.head()\n",
    "stations.tail()"
   ]
  }
 ],
 "metadata": {
  "kernelspec": {
   "display_name": "Python 3",
   "language": "python",
   "name": "python3"
  },
  "language_info": {
   "codemirror_mode": {
    "name": "ipython",
    "version": 3
   },
   "file_extension": ".py",
   "mimetype": "text/x-python",
   "name": "python",
   "nbconvert_exporter": "python",
   "pygments_lexer": "ipython3",
   "version": "3.7.3"
  }
 },
 "nbformat": 4,
 "nbformat_minor": 2
}

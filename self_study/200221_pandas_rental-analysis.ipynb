{
 "cells": [
  {
   "cell_type": "code",
   "execution_count": 1,
   "metadata": {},
   "outputs": [],
   "source": [
    "import pandas as pd"
   ]
  },
  {
   "cell_type": "code",
   "execution_count": 2,
   "metadata": {},
   "outputs": [
    {
     "name": "stdout",
     "output_type": "stream",
     "text": [
      "(378, 16)\n"
     ]
    },
    {
     "data": {
      "text/html": [
       "<div>\n",
       "<style scoped>\n",
       "    .dataframe tbody tr th:only-of-type {\n",
       "        vertical-align: middle;\n",
       "    }\n",
       "\n",
       "    .dataframe tbody tr th {\n",
       "        vertical-align: top;\n",
       "    }\n",
       "\n",
       "    .dataframe thead th {\n",
       "        text-align: right;\n",
       "    }\n",
       "</style>\n",
       "<table border=\"1\" class=\"dataframe\">\n",
       "  <thead>\n",
       "    <tr style=\"text-align: right;\">\n",
       "      <th></th>\n",
       "      <th>순번</th>\n",
       "      <th>매입형\\n/건축형</th>\n",
       "      <th>지역본부</th>\n",
       "      <th>관리부서</th>\n",
       "      <th>명</th>\n",
       "      <th>주소</th>\n",
       "      <th>호수</th>\n",
       "      <th>전용\\n면적(㎡)</th>\n",
       "      <th>주거공용\\n면적(㎡)</th>\n",
       "      <th>면적계(㎡)</th>\n",
       "      <th>공급형</th>\n",
       "      <th>성별전용</th>\n",
       "      <th>임대보증금(원)</th>\n",
       "      <th>월임대료(원)</th>\n",
       "      <th>주택열람일정</th>\n",
       "      <th>관리비</th>\n",
       "    </tr>\n",
       "  </thead>\n",
       "  <tbody>\n",
       "    <tr>\n",
       "      <td>0</td>\n",
       "      <td>1</td>\n",
       "      <td>매입형</td>\n",
       "      <td>서울지역본부</td>\n",
       "      <td>서울중부권주거복지지사</td>\n",
       "      <td>매입다가구(서울중구)</td>\n",
       "      <td>서울특별시 중구 마른내로 106(오장동)</td>\n",
       "      <td>202</td>\n",
       "      <td>20.81</td>\n",
       "      <td>17.42</td>\n",
       "      <td>38.23</td>\n",
       "      <td>단독(1인)</td>\n",
       "      <td>남여공용</td>\n",
       "      <td>산정중</td>\n",
       "      <td>산정중</td>\n",
       "      <td>열람불가(계약전 주택개방)</td>\n",
       "      <td>NaN</td>\n",
       "    </tr>\n",
       "  </tbody>\n",
       "</table>\n",
       "</div>"
      ],
      "text/plain": [
       "   순번 매입형\\n/건축형    지역본부         관리부서            명                       주소  \\\n",
       "0   1       매입형  서울지역본부  서울중부권주거복지지사  매입다가구(서울중구)  서울특별시 중구 마른내로 106(오장동)    \n",
       "\n",
       "    호수  전용\\n면적(㎡)  주거공용\\n면적(㎡)  면적계(㎡)     공급형  성별전용  임대보증금(원)   월임대료(원)   \\\n",
       "0  202      20.81        17.42   38.23  단독(1인)  남여공용        산정중       산정중   \n",
       "\n",
       "           주택열람일정  관리비  \n",
       "0  열람불가(계약전 주택개방)  NaN  "
      ]
     },
     "execution_count": 2,
     "metadata": {},
     "output_type": "execute_result"
    }
   ],
   "source": [
    "data = pd.read_csv('data/20년1차_청년매입임대_주택내역(정정)_수정편집.csv', encoding='cp949')\n",
    "data = data[data['지역본부']== '서울지역본부']\n",
    "print(data.shape)\n",
    "data.head(1)"
   ]
  },
  {
   "cell_type": "code",
   "execution_count": 3,
   "metadata": {},
   "outputs": [
    {
     "name": "stdout",
     "output_type": "stream",
     "text": [
      "\n",
      "85 = 동대문구 이문로 17(회기동) \n",
      "58 = 노원구 동일로174길 38(공릉동) 플라체76\n",
      "50 = 중구 마른내로 106(오장동) \n",
      "26 = 영등포구 영등포로49길 9-14(영등포동2가) 101동\n",
      "22 = 광진구 능동로39길 5(중곡동) 와이위드미\n",
      "14 = 중랑구 사가정로 374(면목동,킴스타워) 637-2외 4필지\n",
      "13 = 강서구 양천로26길 33-8(방화동) 마곡스카이 A단지 101동\n",
      " 9 = 광진구 자양번영로7길 12(자양동) 위너시원\n",
      " 8 = 광진구 동일로80길 37(중곡동) 더 메인즈빌\n",
      " 8 = 강북구 삼양로138길 54(수유동) 스카이드림타운\n",
      " 6 = 양천구 목동중앙서로11길 51(목동) 형지리버빌\n",
      " 4 = 양천구 목동중앙남로16다길 32-7(목동) 엘림하우스\n",
      " 4 = 강북구 덕릉로30길 49(미아동,청운美家) 101동\n",
      " 4 = 강북구 삼양로163길 27(우이동) \n",
      " 4 = 강북구 덕릉로30길 49(미아동,청운美家) 103동\n",
      " 4 = 강북구 삼양로114길 3(수유동,은행빌라) 은행빌라\n",
      " 4 = 금천구 독산로64다길 14(독산동) 오성드림빌102동\n",
      " 4 = 강북구 덕릉로30길 49(미아동,청운美家) 102동\n",
      " 4 = 영등포구 영등포로49길 9-14(영등포동2가) 102동\n",
      " 3 = 노원구 동일로237나길 19(상계동,시온4동) 미소4동\n",
      " 3 = 서초구 서초동 1584-6,11,12 \n",
      " 3 = 구로구 경인로35길 16-8(개봉동) 오성드림빌 103동\n",
      " 3 = 성북구 돌곶이로9가길 26-7(석관동) 다우아트빌\n",
      " 3 = 노원구 동일로237나길 17(상계동,시온3동) 해밀2동\n",
      " 3 = 서대문구 증가로19길 7(북가좌동) 지우팰리스\n",
      " 3 = 강북구 삼양로38나길 7(미아동,프랑지파니 B동) 프랑지파니 B동\n",
      " 3 = 성북구 보국문로8가길 7(정릉동) 반석영우빌\n",
      " 2 = 구로구 구로동로7길 25(가리봉동) 103동\n",
      " 2 = 은평구 은평로13길 11-14(녹번동) 나린하우징5차 가동\n",
      " 2 = 금천구 독산로64다길 14(독산동) 오성드림빌104동\n",
      " 2 = 은평구 역말로6길 6-14(역촌동) 동산주택홈타운\n",
      " 2 = 금천구 독산로64다길 14(독산동) 오성드림빌101동 외 3동\n",
      " 2 = 구로구 경인로33바길 24(개봉동) 진성홈타운 102동\n",
      " 1 = 노원구 동일로237다길 17(상계동) \n",
      " 1 = 성북구 장월로6길 11(장위동) 하이빌 제비동\n",
      " 1 = 도봉구 도봉로117길 51-14(쌍문동) 스마트힐\n",
      " 1 = 성북구 종암로24가길 36(종암동) 미소가\n",
      " 1 = 성북구 화랑로33가길 29(장위동) \n",
      " 1 = 구로구 개봉로1길 106(개봉동) 오성드림 B동\n",
      " 1 = 구로구 경인로35길 16-8(개봉동) 오성드림빌 101동\n",
      " 1 = 금천구 시흥대로48길 31(시흥동) 엘림하우스-1\n",
      " 1 = 강북구 인수봉로81길 28-7(수유동) 위너스빌B동\n",
      " 1 = 금천구 독산로64다길 14(독산동) 오성드림빌103동\n",
      " 1 = 강북구 삼양로169길 34-28(우이동) 다솜힐하우스 103동\n"
     ]
    }
   ],
   "source": [
    "addr_count = data['주소'].value_counts()\n",
    "print()\n",
    "for addr, count in zip(addr_count.index, addr_count.values):\n",
    "    print(f'{count:>2} = {addr[6:]}')"
   ]
  },
  {
   "cell_type": "code",
   "execution_count": null,
   "metadata": {},
   "outputs": [],
   "source": []
  },
  {
   "cell_type": "code",
   "execution_count": null,
   "metadata": {},
   "outputs": [],
   "source": []
  },
  {
   "cell_type": "code",
   "execution_count": null,
   "metadata": {},
   "outputs": [],
   "source": []
  },
  {
   "cell_type": "code",
   "execution_count": null,
   "metadata": {},
   "outputs": [],
   "source": []
  },
  {
   "cell_type": "code",
   "execution_count": null,
   "metadata": {},
   "outputs": [],
   "source": []
  }
 ],
 "metadata": {
  "kernelspec": {
   "display_name": "Python 3",
   "language": "python",
   "name": "python3"
  },
  "language_info": {
   "codemirror_mode": {
    "name": "ipython",
    "version": 3
   },
   "file_extension": ".py",
   "mimetype": "text/x-python",
   "name": "python",
   "nbconvert_exporter": "python",
   "pygments_lexer": "ipython3",
   "version": "3.7.4"
  }
 },
 "nbformat": 4,
 "nbformat_minor": 4
}

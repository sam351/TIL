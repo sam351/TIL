{
 "cells": [
  {
   "cell_type": "code",
   "execution_count": 1,
   "metadata": {},
   "outputs": [],
   "source": [
    "import pandas as pd\n",
    "import googlemaps\n",
    "import json\n",
    "\n",
    "import sys\n",
    "sys.path.append('..')\n",
    "from secret import google_api_key"
   ]
  },
  {
   "cell_type": "markdown",
   "metadata": {},
   "source": [
    "## Table Analysis"
   ]
  },
  {
   "cell_type": "code",
   "execution_count": 2,
   "metadata": {},
   "outputs": [
    {
     "name": "stdout",
     "output_type": "stream",
     "text": [
      "(1161, 16) -> (361, 13)\n"
     ]
    },
    {
     "data": {
      "text/html": [
       "<div>\n",
       "<style scoped>\n",
       "    .dataframe tbody tr th:only-of-type {\n",
       "        vertical-align: middle;\n",
       "    }\n",
       "\n",
       "    .dataframe tbody tr th {\n",
       "        vertical-align: top;\n",
       "    }\n",
       "\n",
       "    .dataframe thead th {\n",
       "        text-align: right;\n",
       "    }\n",
       "</style>\n",
       "<table border=\"1\" class=\"dataframe\">\n",
       "  <thead>\n",
       "    <tr style=\"text-align: right;\">\n",
       "      <th></th>\n",
       "      <th>관리부서</th>\n",
       "      <th>명</th>\n",
       "      <th>주소</th>\n",
       "      <th>호수</th>\n",
       "      <th>전용\\r\\n면적(㎡)</th>\n",
       "      <th>주거공용\\r\\n면적(㎡)</th>\n",
       "      <th>면적계(㎡)</th>\n",
       "      <th>공급형</th>\n",
       "      <th>성별전용</th>\n",
       "      <th>임대보증금(원)</th>\n",
       "      <th>월임대료(원)</th>\n",
       "      <th>주택열람일정</th>\n",
       "      <th>관리비</th>\n",
       "    </tr>\n",
       "  </thead>\n",
       "  <tbody>\n",
       "    <tr>\n",
       "      <th>0</th>\n",
       "      <td>서울중부권주거복지지사</td>\n",
       "      <td>매입다가구(서울중구)</td>\n",
       "      <td>서울특별시 중구 마른내로 106(오장동)</td>\n",
       "      <td>202</td>\n",
       "      <td>20.81</td>\n",
       "      <td>17.42</td>\n",
       "      <td>38.23</td>\n",
       "      <td>단독(1인)</td>\n",
       "      <td>남여공용</td>\n",
       "      <td>산정중</td>\n",
       "      <td>산정중</td>\n",
       "      <td>열람불가(계약전 주택개방)</td>\n",
       "      <td>NaN</td>\n",
       "    </tr>\n",
       "    <tr>\n",
       "      <th>1</th>\n",
       "      <td>서울중부권주거복지지사</td>\n",
       "      <td>매입다가구(서울중구)</td>\n",
       "      <td>서울특별시 중구 마른내로 106(오장동)</td>\n",
       "      <td>203</td>\n",
       "      <td>21.17</td>\n",
       "      <td>17.75</td>\n",
       "      <td>38.92</td>\n",
       "      <td>단독(1인)</td>\n",
       "      <td>남여공용</td>\n",
       "      <td>산정중</td>\n",
       "      <td>산정중</td>\n",
       "      <td>열람불가(계약전 주택개방)</td>\n",
       "      <td>NaN</td>\n",
       "    </tr>\n",
       "    <tr>\n",
       "      <th>2</th>\n",
       "      <td>서울중부권주거복지지사</td>\n",
       "      <td>매입다가구(서울중구)</td>\n",
       "      <td>서울특별시 중구 마른내로 106(오장동)</td>\n",
       "      <td>204</td>\n",
       "      <td>20.81</td>\n",
       "      <td>17.42</td>\n",
       "      <td>38.23</td>\n",
       "      <td>단독(1인)</td>\n",
       "      <td>남여공용</td>\n",
       "      <td>산정중</td>\n",
       "      <td>산정중</td>\n",
       "      <td>열람불가(계약전 주택개방)</td>\n",
       "      <td>NaN</td>\n",
       "    </tr>\n",
       "  </tbody>\n",
       "</table>\n",
       "</div>"
      ],
      "text/plain": [
       "          관리부서            명                       주소   호수  전용\\r\\n면적(㎡)  \\\n",
       "0  서울중부권주거복지지사  매입다가구(서울중구)  서울특별시 중구 마른내로 106(오장동)   202        20.81   \n",
       "1  서울중부권주거복지지사  매입다가구(서울중구)  서울특별시 중구 마른내로 106(오장동)   203        21.17   \n",
       "2  서울중부권주거복지지사  매입다가구(서울중구)  서울특별시 중구 마른내로 106(오장동)   204        20.81   \n",
       "\n",
       "   주거공용\\r\\n면적(㎡)  면적계(㎡)     공급형  성별전용  임대보증금(원)   월임대료(원)           주택열람일정  \\\n",
       "0          17.42   38.23  단독(1인)  남여공용        산정중       산정중  열람불가(계약전 주택개방)   \n",
       "1          17.75   38.92  단독(1인)  남여공용        산정중       산정중  열람불가(계약전 주택개방)   \n",
       "2          17.42   38.23  단독(1인)  남여공용        산정중       산정중  열람불가(계약전 주택개방)   \n",
       "\n",
       "   관리비  \n",
       "0  NaN  \n",
       "1  NaN  \n",
       "2  NaN  "
      ]
     },
     "execution_count": 2,
     "metadata": {},
     "output_type": "execute_result"
    }
   ],
   "source": [
    "data = pd.read_csv('data/20년1차_청년매입임대_주택내역(정정)_수정편집.csv', encoding='cp949')\n",
    "print(data.shape, end=' -> ')\n",
    "data = data[data['지역본부']== '서울지역본부']\n",
    "data = data[data['성별전용']!= '여성전용']\n",
    "data = data[data['공급형']== '단독(1인)']\n",
    "data = data.iloc[:, 3:]\n",
    "print(data.shape)\n",
    "data.head(3)"
   ]
  },
  {
   "cell_type": "code",
   "execution_count": 3,
   "metadata": {},
   "outputs": [
    {
     "name": "stdout",
     "output_type": "stream",
     "text": [
      "\n",
      "# of unique locations : 35\n",
      "\n",
      "85 = 동대문구 이문로 17 회기동 \n",
      "58 = 노원구 동일로174길 38 공릉동 플라체76\n",
      "50 = 중구 마른내로 106 오장동 \n",
      "26 = 영등포구 영등포로49길 9-14 영등포동2가 101동\n",
      "22 = 광진구 능동로39길 5 중곡동 와이위드미\n",
      "14 = 중랑구 사가정로 374 면목동,킴스타워 637-2외 4필지\n",
      "13 = 강서구 양천로26길 33-8 방화동 마곡스카이 A단지 101동\n",
      " 9 = 광진구 자양번영로7길 12 자양동 위너시원\n",
      " 8 = 광진구 동일로80길 37 중곡동 더 메인즈빌\n",
      " 8 = 강북구 삼양로138길 54 수유동 스카이드림타운\n",
      " 6 = 양천구 목동중앙서로11길 51 목동 형지리버빌\n",
      " 4 = 양천구 목동중앙남로16다길 32-7 목동 엘림하우스\n",
      " 4 = 강북구 삼양로163길 27 우이동 \n",
      " 4 = 영등포구 영등포로49길 9-14 영등포동2가 102동\n",
      " 4 = 강북구 삼양로114길 3 수유동,은행빌라 은행빌라\n",
      " 4 = 강북구 덕릉로30길 49 미아동,청운미가 102동\n",
      " 4 = 강북구 덕릉로30길 49 미아동,청운미가 103동\n",
      " 4 = 강북구 덕릉로30길 49 미아동,청운미가 101동\n",
      " 3 = 강북구 삼양로38나길 7 미아동,프랑지파니 B동 프랑지파니 B동\n",
      " 3 = 노원구 동일로237나길 19 상계동,시온4동 미소4동\n",
      " 3 = 성북구 보국문로8가길 7 정릉동 반석영우빌\n",
      " 3 = 서대문구 증가로19길 7 북가좌동 지우팰리스\n",
      " 3 = 서초구 서초동 1584-6,11,12 \n",
      " 3 = 성북구 돌곶이로9가길 26-7 석관동 다우아트빌\n",
      " 3 = 노원구 동일로237나길 17 상계동,시온3동 해밀2동\n",
      " 2 = 구로구 구로동로7길 25 가리봉동 103동\n",
      " 2 = 은평구 은평로13길 11-14 녹번동 나린하우징5차 가동\n",
      " 2 = 은평구 역말로6길 6-14 역촌동 동산주택홈타운\n",
      " 1 = 도봉구 도봉로117길 51-14 쌍문동 스마트힐\n",
      " 1 = 성북구 화랑로33가길 29 장위동 \n",
      " 1 = 성북구 장월로6길 11 장위동 하이빌 제비동\n",
      " 1 = 성북구 종암로24가길 36 종암동 미소가\n",
      " 1 = 강북구 삼양로169길 34-28 우이동 다솜힐하우스 103동\n",
      " 1 = 강북구 인수봉로81길 28-7 수유동 위너스빌B동\n",
      " 1 = 노원구 동일로237다길 17 상계동 \n"
     ]
    }
   ],
   "source": [
    "addr_count = data['주소'].value_counts()\n",
    "addr_list = [item.replace('美家','미가').replace('(',' ').replace(')','')[6:] for item in addr_count.index]\n",
    "print()\n",
    "print(f'# of unique locations : {len(addr_count.index)}\\n')\n",
    "\n",
    "for count, addr in zip(addr_count.values, addr_list):\n",
    "    print(f'{count:>2} = {addr}')"
   ]
  },
  {
   "cell_type": "markdown",
   "metadata": {},
   "source": [
    "## Geocoding by googlemaps"
   ]
  },
  {
   "cell_type": "code",
   "execution_count": 4,
   "metadata": {},
   "outputs": [
    {
     "data": {
      "text/plain": [
       "<googlemaps.client.Client at 0x524de48>"
      ]
     },
     "execution_count": 4,
     "metadata": {},
     "output_type": "execute_result"
    }
   ],
   "source": [
    "gmaps = googlemaps.Client(key=google_api_key)\n",
    "gmaps"
   ]
  },
  {
   "cell_type": "code",
   "execution_count": 5,
   "metadata": {},
   "outputs": [
    {
     "data": {
      "text/plain": [
       "{'address_components': [{'long_name': '１４−３５',\n",
       "   'short_name': '１４−３５',\n",
       "   'types': ['premise']},\n",
       "  {'long_name': '여의도동',\n",
       "   'short_name': '여의도동',\n",
       "   'types': ['political', 'sublocality', 'sublocality_level_2']},\n",
       "  {'long_name': '영등포구',\n",
       "   'short_name': '영등포구',\n",
       "   'types': ['political', 'sublocality', 'sublocality_level_1']},\n",
       "  {'long_name': '서울특별시',\n",
       "   'short_name': '서울특별시',\n",
       "   'types': ['administrative_area_level_1', 'political']},\n",
       "  {'long_name': '대한민국', 'short_name': 'KR', 'types': ['country', 'political']},\n",
       "  {'long_name': '150-010', 'short_name': '150-010', 'types': ['postal_code']}],\n",
       " 'formatted_address': '대한민국 서울특별시 영등포구 여의도동 14-35',\n",
       " 'geometry': {'location': {'lat': 37.5285662, 'lng': 126.9206151},\n",
       "  'location_type': 'ROOFTOP',\n",
       "  'viewport': {'northeast': {'lat': 37.5299151802915,\n",
       "    'lng': 126.9219640802915},\n",
       "   'southwest': {'lat': 37.5272172197085, 'lng': 126.9192661197085}}},\n",
       " 'place_id': 'ChIJ60ZLwCSffDURVzGbMD-vD7U',\n",
       " 'plus_code': {'compound_code': 'GWHC+C6 대한민국 서울특별시',\n",
       "  'global_code': '8Q98GWHC+C6'},\n",
       " 'types': ['establishment', 'point_of_interest'],\n",
       " 'original_addr': '영등포구 여의도동 14-35 금강빌딩'}"
      ]
     },
     "execution_count": 5,
     "metadata": {},
     "output_type": "execute_result"
    }
   ],
   "source": [
    "geocode_list = [gmaps.geocode(item, language='ko')[0] for item in addr_list]\n",
    "for tmp_dict, tmp_addr in zip(geocode_list, addr_list):\n",
    "    tmp_dict['original_addr'] = tmp_addr\n",
    "\n",
    "addr_company = '영등포구 여의도동 14-35 금강빌딩'\n",
    "geocode_company = gmaps.geocode(addr_company, language='ko')[0]\n",
    "geocode_company['original_addr'] = addr_company\n",
    "geocode_company"
   ]
  },
  {
   "cell_type": "code",
   "execution_count": 6,
   "metadata": {},
   "outputs": [],
   "source": [
    "geocode_list.insert(0, geocode_company)\n",
    "r_json = json.dumps(geocode_list, indent=4)\n",
    "\n",
    "with open('seoul_rental_houses.json', 'w') as fp:\n",
    "    fp.write(r_json)"
   ]
  }
 ],
 "metadata": {
  "kernelspec": {
   "display_name": "Python 3",
   "language": "python",
   "name": "python3"
  },
  "language_info": {
   "codemirror_mode": {
    "name": "ipython",
    "version": 3
   },
   "file_extension": ".py",
   "mimetype": "text/x-python",
   "name": "python",
   "nbconvert_exporter": "python",
   "pygments_lexer": "ipython3",
   "version": "3.7.6"
  }
 },
 "nbformat": 4,
 "nbformat_minor": 4
}

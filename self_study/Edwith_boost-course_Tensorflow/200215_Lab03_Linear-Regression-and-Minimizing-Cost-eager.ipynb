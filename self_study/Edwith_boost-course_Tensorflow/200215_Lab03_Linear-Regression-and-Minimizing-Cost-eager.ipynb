{
 "cells": [
  {
   "cell_type": "code",
   "execution_count": 8,
   "metadata": {},
   "outputs": [
    {
     "name": "stdout",
     "output_type": "stream",
     "text": [
      "2.0.0\n"
     ]
    }
   ],
   "source": [
    "import tensorflow as tf\n",
    "import numpy as np\n",
    "import matplotlib.pyplot as plt\n",
    "\n",
    "print(tf.__version__)"
   ]
  },
  {
   "cell_type": "markdown",
   "metadata": {},
   "source": [
    "## Cost function in pure Python"
   ]
  },
  {
   "cell_type": "code",
   "execution_count": 9,
   "metadata": {},
   "outputs": [
    {
     "name": "stdout",
     "output_type": "stream",
     "text": [
      " -3.00000  |  74.66667\n",
      " -2.42857  |  54.85714\n",
      " -1.85714  |  38.09524\n",
      " -1.28571  |  24.38095\n",
      " -0.71429  |  13.71429\n",
      " -0.14286  |   6.09524\n",
      "  0.42857  |   1.52381\n",
      "  1.00000  |   0.00000\n",
      "  1.57143  |   1.52381\n",
      "  2.14286  |   6.09524\n",
      "  2.71429  |  13.71429\n",
      "  3.28571  |  24.38095\n",
      "  3.85714  |  38.09524\n",
      "  4.42857  |  54.85714\n",
      "  5.00000  |  74.66667\n"
     ]
    }
   ],
   "source": [
    "X = np.array([1,2,3])\n",
    "Y = np.array([1,2,3])\n",
    "\n",
    "def cost_func(W, X, Y):\n",
    "    cost = 0\n",
    "    for tmp_x, tmp_y in zip(X, Y):\n",
    "        cost += ( W * tmp_x - tmp_y )**2\n",
    "    return cost/len(X)\n",
    "\n",
    "for feed_W in np.linspace(-3, 5, 15):\n",
    "    curr_cost = cost_func(feed_W, X, Y)\n",
    "    print( f' {feed_W:8.5f}  |  {curr_cost:8.5f}' )"
   ]
  },
  {
   "cell_type": "code",
   "execution_count": 10,
   "metadata": {
    "scrolled": true
   },
   "outputs": [
    {
     "data": {
      "image/png": "[encoded data removed]",
      "text/plain": [
       "<Figure size 432x288 with 1 Axes>"
      ]
     },
     "metadata": {},
     "output_type": "display_data"
    }
   ],
   "source": [
    "feed_W_arr = np.linspace(-3, 5, 15)\n",
    "\n",
    "plt.style.use('ggplot')\n",
    "plt.rcParams[\"figure.figsize\"] = (6,4)\n",
    "\n",
    "plt.plot(feed_W_arr, cost_func(feed_W_arr, X, Y), 'b')\n",
    "plt.xlabel('W')\n",
    "plt.ylabel('cost(W)')\n",
    "plt.show()"
   ]
  },
  {
   "cell_type": "markdown",
   "metadata": {},
   "source": [
    "## Cost function in Tensorflow"
   ]
  },
  {
   "cell_type": "code",
   "execution_count": 11,
   "metadata": {},
   "outputs": [
    {
     "name": "stdout",
     "output_type": "stream",
     "text": [
      " -3.00000  |  74.66667\n",
      " -2.42857  |  54.85714\n",
      " -1.85714  |  38.09524\n",
      " -1.28571  |  24.38095\n",
      " -0.71429  |  13.71429\n",
      " -0.14286  |   6.09524\n",
      "  0.42857  |   1.52381\n",
      "  1.00000  |   0.00000\n",
      "  1.57143  |   1.52381\n",
      "  2.14286  |   6.09524\n",
      "  2.71429  |  13.71429\n",
      "  3.28571  |  24.38095\n",
      "  3.85714  |  38.09524\n",
      "  4.42857  |  54.85714\n",
      "  5.00000  |  74.66667\n"
     ]
    }
   ],
   "source": [
    "X = np.array([1,2,3])\n",
    "Y = np.array([1,2,3])\n",
    "\n",
    "def cost_func(W, X, Y):\n",
    "    hypothesis = W*X\n",
    "    cost = tf.reduce_mean( tf.square( tf.subtract( hypothesis, Y )))\n",
    "    return cost\n",
    "\n",
    "W_values = np.linspace(-3, 5, 15)\n",
    "cost_values = []\n",
    "\n",
    "for feed_W in W_values:\n",
    "    curr_cost = cost_func(feed_W, X, Y)\n",
    "    cost_values.append(curr_cost)\n",
    "    print( f' {feed_W:8.5f}  |  {curr_cost:8.5f}' )"
   ]
  },
  {
   "cell_type": "markdown",
   "metadata": {},
   "source": [
    "## Gradient descent 구현"
   ]
  },
  {
   "cell_type": "code",
   "execution_count": 12,
   "metadata": {},
   "outputs": [
    {
     "name": "stdout",
     "output_type": "stream",
     "text": [
      "epoch :   1  |  weight :  51.106  |  cost :  18332.219\n",
      "epoch :  31  |  weight :   6.435  |  cost :    170.663\n",
      "epoch :  61  |  weight :   2.126  |  cost :      1.752\n",
      "epoch :  91  |  weight :   1.711  |  cost :      0.181\n",
      "epoch : 121  |  weight :   1.671  |  cost :      0.167\n",
      "epoch : 151  |  weight :   1.667  |  cost :      0.167\n",
      "epoch : 181  |  weight :   1.667  |  cost :      0.167\n",
      "epoch : 211  |  weight :   1.667  |  cost :      0.167\n",
      "epoch : 241  |  weight :   1.667  |  cost :      0.167\n",
      "epoch : 271  |  weight :   1.667  |  cost :      0.167\n"
     ]
    }
   ],
   "source": [
    "tf.random.set_seed(0)\n",
    "\n",
    "x_data = [1 , 2 , 3 , 4]\n",
    "y_data = [1 , 3 , 5 , 7]\n",
    "\n",
    "W = tf.Variable(tf.random.normal((1,), -100, 100))\n",
    "\n",
    "alpha = 0.01\n",
    "for step in range(300):\n",
    "    hypothesis = tf.multiply(W, x_data)\n",
    "    cost = tf.reduce_mean( tf.square( tf.subtract( hypothesis, y_data )))\n",
    "    \n",
    "    if step % 30 == 0 :\n",
    "        print(f'epoch : {step+1:>3}  |  weight : {W.numpy()[0]:7.3f}  |  cost : {cost.numpy():10.3f}')\n",
    "    \n",
    "    gradient = tf.reduce_mean( tf.multiply( tf.subtract( hypothesis, y_data ), x_data ) )\n",
    "    descent = tf.subtract(W, tf.multiply( alpha, gradient ))\n",
    "    W.assign(descent)\n",
    "    pass"
   ]
  },
  {
   "cell_type": "code",
   "execution_count": 13,
   "metadata": {},
   "outputs": [
    {
     "name": "stdout",
     "output_type": "stream",
     "text": [
      "step :   1  |  weight :   5.000  |  cost :     83.500\n",
      "step :  31  |  weight :   1.988  |  cost :      0.942\n",
      "step :  61  |  weight :   1.698  |  cost :      0.174\n",
      "step :  91  |  weight :   1.670  |  cost :      0.167\n",
      "step : 121  |  weight :   1.667  |  cost :      0.167\n",
      "step : 151  |  weight :   1.667  |  cost :      0.167\n",
      "step : 181  |  weight :   1.667  |  cost :      0.167\n",
      "step : 211  |  weight :   1.667  |  cost :      0.167\n",
      "step : 241  |  weight :   1.667  |  cost :      0.167\n",
      "step : 271  |  weight :   1.667  |  cost :      0.167\n"
     ]
    }
   ],
   "source": [
    "tf.random.set_seed(0)\n",
    "\n",
    "x_data = [1,2,3,4]\n",
    "y_data = [1,3,5,7]\n",
    "\n",
    "W = tf.Variable( [5.] )\n",
    "\n",
    "alpha = 0.01\n",
    "for step in range(300):\n",
    "    hypothesis = tf.multiply(W, x_data)\n",
    "    cost = tf.reduce_mean( tf.square( tf.subtract(hypothesis, y_data)))\n",
    "    \n",
    "    if step % 30 == 0:\n",
    "        print(f'step : {step+1:3}  |  weight : {W.numpy()[0]:7.3f}  |  cost : {cost:10.3f}')\n",
    "    \n",
    "    gradient = tf.reduce_mean(tf.multiply(tf.subtract(hypothesis, y_data), x_data))\n",
    "    descent = W - tf.multiply(alpha, gradient)\n",
    "    W.assign(descent)\n",
    "    pass\n"
   ]
  },
  {
   "cell_type": "code",
   "execution_count": 14,
   "metadata": {},
   "outputs": [
    {
     "name": "stdout",
     "output_type": "stream",
     "text": [
      "tf.Tensor([6.66667], shape=(1,), dtype=float32)\n",
      "tf.Tensor([8.333338], shape=(1,), dtype=float32)\n"
     ]
    }
   ],
   "source": [
    "print(tf.multiply(W, 4))\n",
    "print(tf.multiply(W, 5))"
   ]
  }
 ],
 "metadata": {
  "kernelspec": {
   "display_name": "Python 3",
   "language": "python",
   "name": "python3"
  },
  "language_info": {
   "codemirror_mode": {
    "name": "ipython",
    "version": 3
   },
   "file_extension": ".py",
   "mimetype": "text/x-python",
   "name": "python",
   "nbconvert_exporter": "python",
   "pygments_lexer": "ipython3",
   "version": "3.7.6"
  }
 },
 "nbformat": 4,
 "nbformat_minor": 2
}

{
 "cells": [
  {
   "cell_type": "code",
   "execution_count": 1,
   "metadata": {},
   "outputs": [
    {
     "name": "stdout",
     "output_type": "stream",
     "text": [
      "2.0.0\n",
      "2.2.4-tf\n"
     ]
    }
   ],
   "source": [
    "import tensorflow as tf\n",
    "from tensorflow import keras\n",
    "from tensorflow.keras.utils import to_categorical\n",
    "import numpy as np\n",
    "import matplotlib.pyplot as plt\n",
    "import os\n",
    "\n",
    "print(tf.__version__)\n",
    "print(keras.__version__)"
   ]
  },
  {
   "cell_type": "markdown",
   "metadata": {},
   "source": [
    "## 1. Set hyper parameters"
   ]
  },
  {
   "cell_type": "code",
   "execution_count": 2,
   "metadata": {},
   "outputs": [],
   "source": [
    "learning_rate = 0.001\n",
    "training_epochs = 15\n",
    "batch_size = 100\n",
    "\n",
    "tf.random.set_seed(777)"
   ]
  },
  {
   "cell_type": "markdown",
   "metadata": {},
   "source": [
    "#### Create checkpoint directory"
   ]
  },
  {
   "cell_type": "code",
   "execution_count": 3,
   "metadata": {},
   "outputs": [],
   "source": [
    "cur_dir = os.getcwd()\n",
    "ckpt_dir_name = 'checkpoints'\n",
    "model_dir_name = 'mnist_cnn_seq'\n",
    "\n",
    "checkpoint_dir = os.path.join(cur_dir, ckpt_dir_name, model_dir_name)\n",
    "os.makedirs(checkpoint_dir, exist_ok=True)"
   ]
  },
  {
   "cell_type": "markdown",
   "metadata": {},
   "source": [
    "## 2. Make a data pipelining"
   ]
  },
  {
   "cell_type": "code",
   "execution_count": 4,
   "metadata": {},
   "outputs": [
    {
     "data": {
      "text/plain": [
       "['0', '1', '2', '3', '4', '5', '6', '7', '8', '9']"
      ]
     },
     "execution_count": 4,
     "metadata": {},
     "output_type": "execute_result"
    }
   ],
   "source": [
    "mnist = keras.datasets.mnist\n",
    "class_names = [str(i) for i in range(10)]\n",
    "class_names"
   ]
  },
  {
   "cell_type": "code",
   "execution_count": 5,
   "metadata": {},
   "outputs": [
    {
     "name": "stdout",
     "output_type": "stream",
     "text": [
      "X shape : (28, 28)\n"
     ]
    },
    {
     "data": {
      "image/png": "[encoded data removed]",
      "text/plain": [
       "<Figure size 432x288 with 1 Axes>"
      ]
     },
     "metadata": {
      "needs_background": "light"
     },
     "output_type": "display_data"
    },
    {
     "name": "stdout",
     "output_type": "stream",
     "text": [
      "y label : 5\n"
     ]
    }
   ],
   "source": [
    "(X_train, y_train), (X_test, y_test) = mnist.load_data()\n",
    "\n",
    "print(f'X shape : {X_train[0].shape}')\n",
    "plt.imshow(X_train[0].reshape(28,28), cmap='gray')\n",
    "plt.show()\n",
    "print(f'y label : {y_train[0]}')"
   ]
  },
  {
   "cell_type": "code",
   "execution_count": 6,
   "metadata": {},
   "outputs": [
    {
     "name": "stdout",
     "output_type": "stream",
     "text": [
      "X shape : (28, 28, 1)\n"
     ]
    },
    {
     "data": {
      "image/png": "[encoded data removed]",
      "text/plain": [
       "<Figure size 432x288 with 1 Axes>"
      ]
     },
     "metadata": {
      "needs_background": "light"
     },
     "output_type": "display_data"
    },
    {
     "name": "stdout",
     "output_type": "stream",
     "text": [
      "y label : [0. 0. 0. 0. 0. 1. 0. 0. 0. 0.]\n"
     ]
    }
   ],
   "source": [
    "X_train = X_train.astype(np.float32)/255.\n",
    "X_test = X_test.astype(np.float32)/255.\n",
    "\n",
    "X_train = np.expand_dims(X_train, axis=-1)\n",
    "X_test = np.expand_dims(X_test, axis=-1)\n",
    "\n",
    "y_train = to_categorical(y_train, 10)  # One-hot Encoding\n",
    "y_test = to_categorical(y_test, 10)  # One-hot Encoding\n",
    "\n",
    "train_dataset = tf.data.Dataset.from_tensor_slices((X_train, y_train)).shuffle(buffer_size = 100000).batch(batch_size)\n",
    "test_dataset = tf.data.Dataset.from_tensor_slices((X_test, y_test)).batch(batch_size)\n",
    "\n",
    "\n",
    "print(f'X shape : {X_train[0].shape}')\n",
    "plt.imshow(X_train[0].reshape(28,28), cmap='gray')\n",
    "plt.show()\n",
    "print(f'y label : {y_train[0]}')"
   ]
  },
  {
   "cell_type": "markdown",
   "metadata": {},
   "source": [
    "## 3. Build a neural network model - Sequential API"
   ]
  },
  {
   "cell_type": "code",
   "execution_count": 7,
   "metadata": {
    "scrolled": false
   },
   "outputs": [
    {
     "name": "stdout",
     "output_type": "stream",
     "text": [
      "Model: \"sequential\"\n",
      "_________________________________________________________________\n",
      "Layer (type)                 Output Shape              Param #   \n",
      "=================================================================\n",
      "conv2d (Conv2D)              (None, 28, 28, 32)        320       \n",
      "_________________________________________________________________\n",
      "max_pooling2d (MaxPooling2D) (None, 14, 14, 32)        0         \n",
      "_________________________________________________________________\n",
      "conv2d_1 (Conv2D)            (None, 14, 14, 64)        18496     \n",
      "_________________________________________________________________\n",
      "max_pooling2d_1 (MaxPooling2 (None, 7, 7, 64)          0         \n",
      "_________________________________________________________________\n",
      "conv2d_2 (Conv2D)            (None, 7, 7, 128)         73856     \n",
      "_________________________________________________________________\n",
      "max_pooling2d_2 (MaxPooling2 (None, 4, 4, 128)         0         \n",
      "_________________________________________________________________\n",
      "flatten (Flatten)            (None, 2048)              0         \n",
      "_________________________________________________________________\n",
      "dense (Dense)                (None, 256)               524544    \n",
      "_________________________________________________________________\n",
      "dropout (Dropout)            (None, 256)               0         \n",
      "_________________________________________________________________\n",
      "dense_1 (Dense)              (None, 10)                2570      \n",
      "=================================================================\n",
      "Total params: 619,786\n",
      "Trainable params: 619,786\n",
      "Non-trainable params: 0\n",
      "_________________________________________________________________\n"
     ]
    }
   ],
   "source": [
    "def create_model():\n",
    "    model = keras.Sequential()\n",
    "    \n",
    "    model.add(keras.layers.Conv2D( filters=32, kernel_size=3, \n",
    "                                   activation=tf.nn.relu,\n",
    "                                   padding='same',\n",
    "                                   input_shape=(28,28,1) ))\n",
    "    model.add(keras.layers.MaxPool2D( padding='same' ))\n",
    "    model.add(keras.layers.Conv2D( filters=64, kernel_size=3, \n",
    "                                   activation=tf.nn.relu, \n",
    "                                   padding='same' ))\n",
    "    model.add(keras.layers.MaxPool2D( padding='same' ))\n",
    "    model.add(keras.layers.Conv2D( filters=128, kernel_size=3, \n",
    "                                   activation=tf.nn.relu,\n",
    "                                   padding='same' ))\n",
    "    model.add(keras.layers.MaxPool2D( padding='same' ))\n",
    "    \n",
    "    model.add(keras.layers.Flatten())\n",
    "    model.add(keras.layers.Dense(256, activation=tf.nn.relu))\n",
    "    model.add(keras.layers.Dropout(0.4))\n",
    "    model.add(keras.layers.Dense(10))\n",
    "    return model\n",
    "\n",
    "model = create_model()\n",
    "model.summary()"
   ]
  },
  {
   "cell_type": "markdown",
   "metadata": {},
   "source": [
    "## 4. Define a Loss Function"
   ]
  },
  {
   "cell_type": "code",
   "execution_count": 8,
   "metadata": {},
   "outputs": [],
   "source": [
    "@tf.function\n",
    "def loss_fn(model, images, labels):\n",
    "    logits = model(images, training=True)\n",
    "    loss = tf.reduce_mean(\n",
    "                tf.keras.losses.categorical_crossentropy(\n",
    "                    y_pred=logits, y_true=labels, from_logits=True))\n",
    "    return loss"
   ]
  },
  {
   "cell_type": "markdown",
   "metadata": {},
   "source": [
    "## 5.Calculate a Gradient"
   ]
  },
  {
   "cell_type": "code",
   "execution_count": 9,
   "metadata": {},
   "outputs": [],
   "source": [
    "@tf.function\n",
    "def grad(model, images, labels):\n",
    "    with tf.GradientTape() as tape:\n",
    "        loss = loss_fn( model, images, labels )\n",
    "    return tape.gradient(loss, model.variables)"
   ]
  },
  {
   "cell_type": "markdown",
   "metadata": {},
   "source": [
    "## 6. Select an Optimizer"
   ]
  },
  {
   "cell_type": "code",
   "execution_count": 10,
   "metadata": {},
   "outputs": [],
   "source": [
    "optimizer = tf.keras.optimizers.Adam(learning_rate=learning_rate)"
   ]
  },
  {
   "cell_type": "markdown",
   "metadata": {},
   "source": [
    "## 7. Define a Metric for model's performance"
   ]
  },
  {
   "cell_type": "code",
   "execution_count": 11,
   "metadata": {},
   "outputs": [],
   "source": [
    "@tf.function\n",
    "def evaluate(model, images, labels):\n",
    "    logits = model(images, training=False)\n",
    "    correct_prediction = tf.equal(tf.argmax(logits, 1),\n",
    "                                  tf.argmax(labels, 1))\n",
    "    accuracy = tf.reduce_mean(tf.cast(correct_prediction, tf.float32))\n",
    "    return accuracy"
   ]
  },
  {
   "cell_type": "markdown",
   "metadata": {},
   "source": [
    "## 8. Make a Checkpoint for saving"
   ]
  },
  {
   "cell_type": "code",
   "execution_count": 12,
   "metadata": {},
   "outputs": [],
   "source": [
    "checkpoint = tf.train.Checkpoint(cnn = model)"
   ]
  },
  {
   "cell_type": "markdown",
   "metadata": {},
   "source": [
    "## 9. Train and Validate a neural network model"
   ]
  },
  {
   "cell_type": "code",
   "execution_count": 13,
   "metadata": {},
   "outputs": [
    {
     "name": "stdout",
     "output_type": "stream",
     "text": [
      "Learning started. It takes sometime.\n",
      "Epoch : 1  |  loss = 0.16493475  |  train accuracy = 0.9580  |  test accuracy = 0.9851\n",
      "Epoch : 2  |  loss = 0.04003141  |  train accuracy = 0.9902  |  test accuracy = 0.9904\n",
      "Epoch : 3  |  loss = 0.02631592  |  train accuracy = 0.9935  |  test accuracy = 0.9931\n",
      "Epoch : 4  |  loss = 0.01910933  |  train accuracy = 0.9953  |  test accuracy = 0.9919\n",
      "Epoch : 5  |  loss = 0.01445978  |  train accuracy = 0.9965  |  test accuracy = 0.9921\n",
      "Epoch : 6  |  loss = 0.01182489  |  train accuracy = 0.9975  |  test accuracy = 0.9933\n",
      "Epoch : 7  |  loss = 0.00936022  |  train accuracy = 0.9980  |  test accuracy = 0.9918\n",
      "Epoch : 8  |  loss = 0.00760872  |  train accuracy = 0.9984  |  test accuracy = 0.9924\n",
      "Epoch : 9  |  loss = 0.00660610  |  train accuracy = 0.9987  |  test accuracy = 0.9894\n",
      "Epoch : 10  |  loss = 0.00450421  |  train accuracy = 0.9991  |  test accuracy = 0.9916\n",
      "Epoch : 11  |  loss = 0.00342321  |  train accuracy = 0.9993  |  test accuracy = 0.9929\n",
      "Epoch : 12  |  loss = 0.00371692  |  train accuracy = 0.9992  |  test accuracy = 0.9940\n",
      "Epoch : 13  |  loss = 0.00309519  |  train accuracy = 0.9993  |  test accuracy = 0.9931\n",
      "Epoch : 14  |  loss = 0.00306672  |  train accuracy = 0.9994  |  test accuracy = 0.9930\n",
      "Epoch : 15  |  loss = 0.00241706  |  train accuracy = 0.9995  |  test accuracy = 0.9929\n",
      "Learning Finished !\n"
     ]
    }
   ],
   "source": [
    "@tf.function\n",
    "def train(model, images, labels):\n",
    "    grads = grad(model, images, labels)\n",
    "    optimizer.apply_gradients(zip(grads, model.trainable_variables))\n",
    "\n",
    "\n",
    "print('Learning started. It takes sometime.')\n",
    "for epoch in range(training_epochs):\n",
    "    avg_loss = 0.\n",
    "    avg_train_acc = 0.\n",
    "    avg_test_acc = 0.\n",
    "    train_step = 0\n",
    "    test_step = 0\n",
    "    \n",
    "    for images, labels in train_dataset:\n",
    "        train(model, images, labels)\n",
    "        loss = loss_fn(model, images, labels)\n",
    "        acc = evaluate(model, images, labels)\n",
    "        \n",
    "        avg_loss = avg_loss + loss\n",
    "        avg_train_acc = avg_train_acc + acc\n",
    "        train_step += 1\n",
    "    \n",
    "    avg_loss = avg_loss / train_step\n",
    "    avg_train_acc = avg_train_acc / train_step\n",
    "    \n",
    "    for images, labels in test_dataset:\n",
    "        acc = evaluate(model, images, labels)\n",
    "        \n",
    "        avg_test_acc = avg_test_acc + acc\n",
    "        test_step += 1\n",
    "    \n",
    "    avg_test_acc = avg_test_acc / test_step\n",
    "    \n",
    "    print(f'Epoch : {epoch + 1}  |  loss = {avg_loss:.8f}  |  ' +\n",
    "          f'train accuracy = {avg_train_acc:.4f}  |  '+\n",
    "          f'test accuracy = {avg_test_acc:.4f}')\n",
    "    checkpoint.save(file_prefix=checkpoint_dir)\n",
    "    \n",
    "print('Learning Finished !')"
   ]
  }
 ],
 "metadata": {
  "kernelspec": {
   "display_name": "Python 3",
   "language": "python",
   "name": "python3"
  },
  "language_info": {
   "codemirror_mode": {
    "name": "ipython",
    "version": 3
   },
   "file_extension": ".py",
   "mimetype": "text/x-python",
   "name": "python",
   "nbconvert_exporter": "python",
   "pygments_lexer": "ipython3",
   "version": "3.7.6"
  }
 },
 "nbformat": 4,
 "nbformat_minor": 4
}

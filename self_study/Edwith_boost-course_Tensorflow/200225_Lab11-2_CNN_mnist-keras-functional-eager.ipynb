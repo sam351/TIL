{
 "cells": [
  {
   "cell_type": "code",
   "execution_count": 1,
   "metadata": {},
   "outputs": [
    {
     "name": "stdout",
     "output_type": "stream",
     "text": [
      "2.1.0\n",
      "2.2.4-tf\n"
     ]
    }
   ],
   "source": [
    "import tensorflow as tf\n",
    "from tensorflow import keras\n",
    "from tensorflow.keras.utils import to_categorical\n",
    "\n",
    "import numpy as np\n",
    "import matplotlib.pyplot as plt\n",
    "import os\n",
    "\n",
    "print(tf.__version__)\n",
    "print(keras.__version__)"
   ]
  },
  {
   "cell_type": "markdown",
   "metadata": {},
   "source": [
    "## 1. Set hyper parameters"
   ]
  },
  {
   "cell_type": "code",
   "execution_count": 2,
   "metadata": {},
   "outputs": [],
   "source": [
    "learning_rate = 0.001\n",
    "training_epochs = 15\n",
    "batch_size = 100\n",
    "\n",
    "tf.random.set_seed(777)"
   ]
  },
  {
   "cell_type": "markdown",
   "metadata": {},
   "source": [
    "#### + Creating a checkpoint directory"
   ]
  },
  {
   "cell_type": "code",
   "execution_count": 3,
   "metadata": {},
   "outputs": [],
   "source": [
    "cur_dir = os.getcwd()\n",
    "ckpt_dir_name = 'checkpoints'\n",
    "model_dir_name = 'mnist_cnn_func'\n",
    "\n",
    "checkpoint_dir = os.path.join(cur_dir, ckpt_dir_name, model_dir_name)\n",
    "os.makedirs(checkpoint_dir, exist_ok=True)\n",
    "\n",
    "checkpoint_prefix = os.path.join(ckpt_dir_name, model_dir_name)"
   ]
  },
  {
   "cell_type": "markdown",
   "metadata": {},
   "source": [
    "## 2. Make a data pipelining"
   ]
  },
  {
   "cell_type": "code",
   "execution_count": 4,
   "metadata": {},
   "outputs": [],
   "source": [
    "mnist = keras.datasets.mnist\n",
    "(X_train, y_train), (X_test, y_test) = mnist.load_data()\n",
    "\n",
    "train_images = X_train.astype(np.float32) / 255.\n",
    "test_images = X_test.astype(np.float32) / 255.\n",
    "\n",
    "train_images = np.expand_dims(train_images, axis=-1)\n",
    "test_images = np.expand_dims(test_images, axis=-1)\n",
    "\n",
    "train_labels = to_categorical(y_train, num_classes=10)\n",
    "test_labels = to_categorical(y_test, num_classes=10)\n",
    "\n",
    "train_dataset = tf.data.Dataset.from_tensor_slices(\n",
    "                    (train_images, train_labels)).\\\n",
    "                    shuffle(buffer_size=100000).batch(batch_size)\n",
    "test_dataset = tf.data.Dataset.from_tensor_slices(\n",
    "                    (test_images, test_labels)).\\\n",
    "                    batch(batch_size)"
   ]
  },
  {
   "cell_type": "markdown",
   "metadata": {},
   "source": [
    "## 3. Build a neural network model"
   ]
  },
  {
   "cell_type": "code",
   "execution_count": 5,
   "metadata": {},
   "outputs": [
    {
     "name": "stdout",
     "output_type": "stream",
     "text": [
      "Model: \"model\"\n",
      "_________________________________________________________________\n",
      "Layer (type)                 Output Shape              Param #   \n",
      "=================================================================\n",
      "input_1 (InputLayer)         [(None, 28, 28, 1)]       0         \n",
      "_________________________________________________________________\n",
      "conv2d (Conv2D)              (None, 28, 28, 32)        320       \n",
      "_________________________________________________________________\n",
      "max_pooling2d (MaxPooling2D) (None, 14, 14, 32)        0         \n",
      "_________________________________________________________________\n",
      "conv2d_1 (Conv2D)            (None, 14, 14, 64)        18496     \n",
      "_________________________________________________________________\n",
      "max_pooling2d_1 (MaxPooling2 (None, 7, 7, 64)          0         \n",
      "_________________________________________________________________\n",
      "conv2d_2 (Conv2D)            (None, 7, 7, 128)         73856     \n",
      "_________________________________________________________________\n",
      "max_pooling2d_2 (MaxPooling2 (None, 4, 4, 128)         0         \n",
      "_________________________________________________________________\n",
      "flatten (Flatten)            (None, 2048)              0         \n",
      "_________________________________________________________________\n",
      "dense (Dense)                (None, 256)               524544    \n",
      "_________________________________________________________________\n",
      "dropout (Dropout)            (None, 256)               0         \n",
      "_________________________________________________________________\n",
      "dense_1 (Dense)              (None, 10)                2570      \n",
      "=================================================================\n",
      "Total params: 619,786\n",
      "Trainable params: 619,786\n",
      "Non-trainable params: 0\n",
      "_________________________________________________________________\n"
     ]
    }
   ],
   "source": [
    "def create_model():\n",
    "    inputs = keras.Input(shape=(28, 28, 1))\n",
    "    conv1 = keras.layers.Conv2D(filters=32, kernel_size=3,\n",
    "                                strides=1, padding='same',\n",
    "                                activation=tf.nn.relu)(inputs)\n",
    "    pool1 = keras.layers.MaxPool2D(pool_size=2, padding='same')(conv1)\n",
    "    conv2 = keras.layers.Conv2D(filters=64, kernel_size=3,\n",
    "                                strides=1, padding='same',\n",
    "                                activation=tf.nn.relu)(pool1)\n",
    "    pool2 = keras.layers.MaxPool2D(pool_size=2, padding='same')(conv2)\n",
    "    conv3 = keras.layers.Conv2D(filters=128, kernel_size=3,\n",
    "                                strides=1, padding='same',\n",
    "                                activation=tf.nn.relu)(pool2)\n",
    "    pool3 = keras.layers.MaxPool2D(pool_size=2, padding='same')(conv3)\n",
    "    \n",
    "    pool3_flat = keras.layers.Flatten()(pool3)\n",
    "    dense4 = keras.layers.Dense(units=256,\n",
    "                                activation=tf.nn.relu)(pool3_flat)\n",
    "    drop4 = keras.layers.Dropout(0.4)(dense4)\n",
    "    logits = keras.layers.Dense(units=10,\n",
    "                                activation=tf.nn.relu)(drop4)\n",
    "    return keras.Model(inputs=inputs, outputs=logits)\n",
    "\n",
    "model = create_model()\n",
    "model.summary()"
   ]
  },
  {
   "cell_type": "markdown",
   "metadata": {},
   "source": [
    "## 4. Define a loss function"
   ]
  },
  {
   "cell_type": "code",
   "execution_count": 6,
   "metadata": {},
   "outputs": [],
   "source": [
    "@tf.function\n",
    "def loss_fn(model, images, labels):\n",
    "    logits = model(images, training=True)\n",
    "    loss = tf.reduce_mean(\n",
    "                tf.keras.losses.categorical_crossentropy(\n",
    "                    y_true=labels, y_pred=logits, from_logits=True))\n",
    "    return loss"
   ]
  },
  {
   "cell_type": "markdown",
   "metadata": {},
   "source": [
    "## 5. Calculate a gradient"
   ]
  },
  {
   "cell_type": "code",
   "execution_count": 7,
   "metadata": {},
   "outputs": [],
   "source": [
    "@tf.function\n",
    "def grad(model, images, labels):\n",
    "    with tf.GradientTape() as tape:\n",
    "        loss = loss_fn(model, images, labels)\n",
    "    return tape.gradient(loss, model.variables)"
   ]
  },
  {
   "cell_type": "markdown",
   "metadata": {},
   "source": [
    "## 6. Select an optimizer"
   ]
  },
  {
   "cell_type": "code",
   "execution_count": 8,
   "metadata": {},
   "outputs": [],
   "source": [
    "optimizer = tf.keras.optimizers.Adam(learning_rate)"
   ]
  },
  {
   "cell_type": "markdown",
   "metadata": {},
   "source": [
    "## 7. Define a metric for model's performance"
   ]
  },
  {
   "cell_type": "code",
   "execution_count": 9,
   "metadata": {},
   "outputs": [],
   "source": [
    "@tf.function\n",
    "def evaluate(model, images, labels):\n",
    "    logits = model(images, training=False)\n",
    "    correct_prediction = tf.equal( tf.argmax(logits, axis=1), \n",
    "                                   tf.argmax(labels, axis=1) )\n",
    "    accuracy = tf.reduce_mean(tf.cast(correct_prediction,\n",
    "                                      dtype=tf.float32))\n",
    "    return accuracy"
   ]
  },
  {
   "cell_type": "markdown",
   "metadata": {},
   "source": [
    "## 8. Make a checkpoint for saving"
   ]
  },
  {
   "cell_type": "code",
   "execution_count": 10,
   "metadata": {},
   "outputs": [],
   "source": [
    "checkpoint = tf.train.Checkpoint(cnn=model)"
   ]
  },
  {
   "cell_type": "markdown",
   "metadata": {},
   "source": [
    "## 9. Train and Validate a neural network model"
   ]
  },
  {
   "cell_type": "code",
   "execution_count": 11,
   "metadata": {},
   "outputs": [
    {
     "name": "stdout",
     "output_type": "stream",
     "text": [
      "Learning started. It takes some time.\n",
      "Epoch:   1  |  loss = 0.17413007  |  train accuracy = 0.9554  |  test accuracy = 0.9870\n",
      "Epoch:   2  |  loss = 0.03872857  |  train accuracy = 0.9903  |  test accuracy = 0.9890\n",
      "Epoch:   3  |  loss = 0.02697025  |  train accuracy = 0.9934  |  test accuracy = 0.9927\n",
      "Epoch:   4  |  loss = 0.01885665  |  train accuracy = 0.9953  |  test accuracy = 0.9923\n",
      "Epoch:   5  |  loss = 0.01468997  |  train accuracy = 0.9964  |  test accuracy = 0.9921\n",
      "Epoch:   6  |  loss = 0.01185038  |  train accuracy = 0.9975  |  test accuracy = 0.9925\n",
      "Epoch:   7  |  loss = 0.00863728  |  train accuracy = 0.9981  |  test accuracy = 0.9940\n",
      "Epoch:   8  |  loss = 0.00786343  |  train accuracy = 0.9982  |  test accuracy = 0.9921\n",
      "Epoch:   9  |  loss = 0.00617698  |  train accuracy = 0.9988  |  test accuracy = 0.9903\n",
      "Epoch:  10  |  loss = 0.00511709  |  train accuracy = 0.9988  |  test accuracy = 0.9913\n",
      "Epoch:  11  |  loss = 0.00451507  |  train accuracy = 0.9990  |  test accuracy = 0.9923\n",
      "Epoch:  12  |  loss = 0.00347986  |  train accuracy = 0.9993  |  test accuracy = 0.9920\n",
      "Epoch:  13  |  loss = 0.00291257  |  train accuracy = 0.9994  |  test accuracy = 0.9925\n",
      "Epoch:  14  |  loss = 0.00292341  |  train accuracy = 0.9994  |  test accuracy = 0.9901\n",
      "Epoch:  15  |  loss = 0.00285375  |  train accuracy = 0.9995  |  test accuracy = 0.9932\n",
      "Learning Finished !\n"
     ]
    }
   ],
   "source": [
    "@tf.function\n",
    "def train(model, images, labels):\n",
    "    grads = grad(model, images, labels)\n",
    "    optimizer.apply_gradients(zip(grads, model.trainable_variables))\n",
    "\n",
    "\n",
    "print('Learning started. It takes some time.')\n",
    "for epoch in range(training_epochs):\n",
    "    avg_loss = 0. ; avg_train_acc = 0. ; avg_test_acc = 0.\n",
    "    train_step = 0 ; test_step = 0\n",
    "    \n",
    "    for images, labels in train_dataset:\n",
    "        train(model, images, labels)\n",
    "        \n",
    "        loss = loss_fn(model, images, labels)\n",
    "        avg_loss = avg_loss + loss\n",
    "        \n",
    "        acc = evaluate(model, images, labels)\n",
    "        avg_train_acc = avg_train_acc + acc\n",
    "        \n",
    "        train_step += 1\n",
    "        pass\n",
    "    avg_loss = avg_loss / train_step\n",
    "    avg_train_acc = avg_train_acc / train_step\n",
    "    \n",
    "    for images, labels in test_dataset:\n",
    "        acc = evaluate(model, images, labels)\n",
    "        avg_test_acc = avg_test_acc + acc\n",
    "        test_step += 1\n",
    "        pass\n",
    "    avg_test_acc = avg_test_acc / test_step\n",
    "    \n",
    "    print(f'Epoch: {epoch+1:3}  |  loss = {avg_loss:10.8f}  |  ' +\n",
    "          f'train accuracy = {avg_train_acc:6.4f}  |  ' +\n",
    "          f'test accuracy = {avg_test_acc:6.4f}')\n",
    "    checkpoint.save(file_prefix=checkpoint_prefix)\n",
    "    pass\n",
    "\n",
    "print('Learning Finished !')"
   ]
  }
 ],
 "metadata": {
  "kernelspec": {
   "display_name": "Python 3",
   "language": "python",
   "name": "python3"
  },
  "language_info": {
   "codemirror_mode": {
    "name": "ipython",
    "version": 3
   },
   "file_extension": ".py",
   "mimetype": "text/x-python",
   "name": "python",
   "nbconvert_exporter": "python",
   "pygments_lexer": "ipython3",
   "version": "3.7.6"
  }
 },
 "nbformat": 4,
 "nbformat_minor": 4
}

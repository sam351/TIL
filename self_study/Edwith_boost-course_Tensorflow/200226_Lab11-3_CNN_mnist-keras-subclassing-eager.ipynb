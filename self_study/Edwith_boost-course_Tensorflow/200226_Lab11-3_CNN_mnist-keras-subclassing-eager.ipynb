{
 "cells": [
  {
   "cell_type": "code",
   "execution_count": 1,
   "metadata": {},
   "outputs": [
    {
     "name": "stdout",
     "output_type": "stream",
     "text": [
      "2.1.0\n",
      "2.2.4-tf\n"
     ]
    }
   ],
   "source": [
    "import tensorflow as tf\n",
    "from tensorflow import keras\n",
    "from tensorflow.keras.utils import to_categorical\n",
    "\n",
    "import numpy as np\n",
    "import matplotlib.pyplot as plt\n",
    "import os\n",
    "\n",
    "print(tf.__version__)\n",
    "print(keras.__version__)"
   ]
  },
  {
   "cell_type": "markdown",
   "metadata": {},
   "source": [
    "## 1. Set hyper parameters"
   ]
  },
  {
   "cell_type": "code",
   "execution_count": 2,
   "metadata": {},
   "outputs": [],
   "source": [
    "lr = 0.001\n",
    "train_epoch = 15\n",
    "bsize = 100\n",
    "\n",
    "tf.random.set_seed(777)"
   ]
  },
  {
   "cell_type": "markdown",
   "metadata": {},
   "source": [
    "#### + Creating a checkpoint directory"
   ]
  },
  {
   "cell_type": "code",
   "execution_count": 3,
   "metadata": {},
   "outputs": [],
   "source": [
    "cur_dir = os.getcwd()\n",
    "ckpt_dir = 'checkpoints'\n",
    "model_dir = 'mnist_cnn_subclass'\n",
    "\n",
    "save_dir = os.path.join(cur_dir, ckpt_dir, model_dir)\n",
    "os.makedirs(save_dir, exist_ok=True)\n",
    "\n",
    "ckpt_prefix = os.path.join(ckpt_dir, model_dir)"
   ]
  },
  {
   "cell_type": "markdown",
   "metadata": {},
   "source": [
    "## 2. Make a data pipelining"
   ]
  },
  {
   "cell_type": "code",
   "execution_count": 4,
   "metadata": {},
   "outputs": [],
   "source": [
    "mnist = keras.datasets.mnist\n",
    "(X_train, y_train), (X_test, y_test) = mnist.load_data()"
   ]
  },
  {
   "cell_type": "code",
   "execution_count": 5,
   "metadata": {},
   "outputs": [],
   "source": [
    "X_train = X_train.astype(np.float32) / 255.\n",
    "X_train = np.expand_dims(X_train, axis=-1)\n",
    "\n",
    "y_train = to_categorical(y_train, num_classes=10)\n",
    "\n",
    "train_dataset = tf.data.Dataset.from_tensor_slices(\n",
    "                    (X_train, y_train)).\\\n",
    "                    shuffle(buffer_size=100000).batch(bsize)\n",
    "\n",
    "\n",
    "X_test = X_test.astype(np.float32) / 255.\n",
    "X_test = np.expand_dims(X_test, axis=-1)\n",
    "\n",
    "y_test = to_categorical(y_test, num_classes=10)\n",
    "\n",
    "test_dataset = tf.data.Dataset.from_tensor_slices(\n",
    "                    (X_test, y_test)).\\\n",
    "                    shuffle(buffer_size=100000).batch(bsize)"
   ]
  },
  {
   "cell_type": "markdown",
   "metadata": {},
   "source": [
    "## 3. Build a neural network model"
   ]
  },
  {
   "cell_type": "code",
   "execution_count": 6,
   "metadata": {},
   "outputs": [],
   "source": [
    "class MNISTModel(tf.keras.Model):\n",
    "    def __init__(self):\n",
    "        super(MNISTModel, self).__init__()\n",
    "        self.conv1 = keras.layers.Conv2D(filters=32, kernel_size=3,\n",
    "                                         strides=1, padding='same',\n",
    "                                         activation=tf.nn.relu)\n",
    "        self.pool1 = keras.layers.MaxPool2D(pool_size=2,\n",
    "                                            padding='same')\n",
    "        self.conv2 = keras.layers.Conv2D(filters=64, kernel_size=3,\n",
    "                                         strides=1, padding='same',\n",
    "                                         activation=tf.nn.relu)\n",
    "        self.pool2 = keras.layers.MaxPool2D(pool_size=2,\n",
    "                                            padding='same')\n",
    "        self.conv3 = keras.layers.Conv2D(filters=128, kernel_size=3,\n",
    "                                         strides=1, padding='same',\n",
    "                                         activation=tf.nn.relu)\n",
    "        self.pool3 = keras.layers.MaxPool2D(pool_size=2,\n",
    "                                            padding='same')        \n",
    "        self.pool3_flat = keras.layers.Flatten()\n",
    "        \n",
    "        self.dense4 = keras.layers.Dense(units=256,\n",
    "                                         activation=tf.nn.relu)\n",
    "        self.drop4 = keras.layers.Dropout(rate=0.4)        \n",
    "        self.dense5 = keras.layers.Dense(units=10)\n",
    "        pass\n",
    "    \n",
    "    def call(self, inputs, training=False):\n",
    "        net = self.conv1(inputs)\n",
    "        net = self.pool1(net)\n",
    "        net = self.conv2(net)\n",
    "        net = self.pool2(net)\n",
    "        net = self.conv3(net)\n",
    "        net = self.pool3(net)\n",
    "        net = self.pool3_flat(net)\n",
    "        net = self.dense4(net)\n",
    "        net = self.drop4(net)\n",
    "        net = self.dense5(net)\n",
    "        return net"
   ]
  },
  {
   "cell_type": "code",
   "execution_count": 7,
   "metadata": {},
   "outputs": [
    {
     "name": "stdout",
     "output_type": "stream",
     "text": [
      "Model: \"mnist_model\"\n",
      "_________________________________________________________________\n",
      "Layer (type)                 Output Shape              Param #   \n",
      "=================================================================\n",
      "conv2d (Conv2D)              (None, 28, 28, 32)        320       \n",
      "_________________________________________________________________\n",
      "max_pooling2d (MaxPooling2D) (None, 14, 14, 32)        0         \n",
      "_________________________________________________________________\n",
      "conv2d_1 (Conv2D)            (None, 14, 14, 64)        18496     \n",
      "_________________________________________________________________\n",
      "max_pooling2d_1 (MaxPooling2 (None, 7, 7, 64)          0         \n",
      "_________________________________________________________________\n",
      "conv2d_2 (Conv2D)            (None, 7, 7, 128)         73856     \n",
      "_________________________________________________________________\n",
      "max_pooling2d_2 (MaxPooling2 (None, 4, 4, 128)         0         \n",
      "_________________________________________________________________\n",
      "flatten (Flatten)            (None, 2048)              0         \n",
      "_________________________________________________________________\n",
      "dense (Dense)                (None, 256)               524544    \n",
      "_________________________________________________________________\n",
      "dropout (Dropout)            (None, 256)               0         \n",
      "_________________________________________________________________\n",
      "dense_1 (Dense)              (None, 10)                2570      \n",
      "=================================================================\n",
      "Total params: 619,786\n",
      "Trainable params: 619,786\n",
      "Non-trainable params: 0\n",
      "_________________________________________________________________\n"
     ]
    }
   ],
   "source": [
    "model = MNISTModel()\n",
    "temp_inputs = keras.Input(shape=(28, 28, 1))\n",
    "model(temp_inputs)\n",
    "model.summary()"
   ]
  },
  {
   "cell_type": "markdown",
   "metadata": {},
   "source": [
    "## 4. Define a loss function"
   ]
  },
  {
   "cell_type": "code",
   "execution_count": 8,
   "metadata": {},
   "outputs": [],
   "source": [
    "@tf.function\n",
    "def loss_fn(model, images, labels):\n",
    "    logits = model(images, training=True)\n",
    "    loss = tf.reduce_mean( \n",
    "                tf.keras.losses.categorical_crossentropy(\n",
    "                    y_true=labels, y_pred=logits, from_logits=True))\n",
    "    return loss"
   ]
  },
  {
   "cell_type": "markdown",
   "metadata": {},
   "source": [
    "## 5. Calculate a gradient"
   ]
  },
  {
   "cell_type": "code",
   "execution_count": 9,
   "metadata": {},
   "outputs": [],
   "source": [
    "@tf.function\n",
    "def grad(model, images, labels):\n",
    "    with tf.GradientTape() as tape:\n",
    "        loss = loss_fn(model, images, labels)\n",
    "    return tape.gradient(loss, model.variables)"
   ]
  },
  {
   "cell_type": "markdown",
   "metadata": {},
   "source": [
    "## 6. Select an optimizer"
   ]
  },
  {
   "cell_type": "code",
   "execution_count": 10,
   "metadata": {},
   "outputs": [],
   "source": [
    "optimizer = tf.optimizers.Adam(learning_rate=lr)"
   ]
  },
  {
   "cell_type": "markdown",
   "metadata": {},
   "source": [
    "## 7. Define a metric for model's performance"
   ]
  },
  {
   "cell_type": "code",
   "execution_count": 11,
   "metadata": {},
   "outputs": [],
   "source": [
    "@tf.function\n",
    "def evaluate(model, images, labels):\n",
    "    logits = model(images, training=False)\n",
    "    correct_prediction = tf.equal( tf.argmax(logits, axis=1),\n",
    "                                   tf.argmax(labels, axis=1) )\n",
    "    accuracy = tf.reduce_mean(tf.cast(correct_prediction, \n",
    "                                      dtype=tf.float32))\n",
    "    return accuracy"
   ]
  },
  {
   "cell_type": "markdown",
   "metadata": {},
   "source": [
    "## 8. Make a checkpoint for saving"
   ]
  },
  {
   "cell_type": "code",
   "execution_count": 12,
   "metadata": {},
   "outputs": [],
   "source": [
    "checkpoint = tf.train.Checkpoint(cnn=model)"
   ]
  },
  {
   "cell_type": "markdown",
   "metadata": {},
   "source": [
    "## 9. Train and Validate a neural network model"
   ]
  },
  {
   "cell_type": "code",
   "execution_count": 13,
   "metadata": {},
   "outputs": [
    {
     "name": "stdout",
     "output_type": "stream",
     "text": [
      "Epoch:   1  |  loss = 0.17375422  |  train_accuracy = 0.9564  |  test_accuracy = 0.9868\n",
      "Epoch:   2  |  loss = 0.04280969  |  train_accuracy = 0.9891  |  test_accuracy = 0.9897\n",
      "Epoch:   3  |  loss = 0.02930635  |  train_accuracy = 0.9929  |  test_accuracy = 0.9918\n",
      "Epoch:   4  |  loss = 0.02045051  |  train_accuracy = 0.9952  |  test_accuracy = 0.9926\n",
      "Epoch:   5  |  loss = 0.01594689  |  train_accuracy = 0.9968  |  test_accuracy = 0.9914\n",
      "Epoch:   6  |  loss = 0.01256046  |  train_accuracy = 0.9972  |  test_accuracy = 0.9901\n",
      "Epoch:   7  |  loss = 0.00999002  |  train_accuracy = 0.9977  |  test_accuracy = 0.9943\n",
      "Epoch:   8  |  loss = 0.00781305  |  train_accuracy = 0.9982  |  test_accuracy = 0.9920\n",
      "Epoch:   9  |  loss = 0.00661438  |  train_accuracy = 0.9987  |  test_accuracy = 0.9916\n",
      "Epoch:  10  |  loss = 0.00514866  |  train_accuracy = 0.9989  |  test_accuracy = 0.9940\n",
      "Epoch:  11  |  loss = 0.00431266  |  train_accuracy = 0.9992  |  test_accuracy = 0.9934\n",
      "Epoch:  12  |  loss = 0.00376989  |  train_accuracy = 0.9993  |  test_accuracy = 0.9932\n",
      "Epoch:  13  |  loss = 0.00340760  |  train_accuracy = 0.9992  |  test_accuracy = 0.9935\n",
      "Epoch:  14  |  loss = 0.00259800  |  train_accuracy = 0.9995  |  test_accuracy = 0.9910\n",
      "Epoch:  15  |  loss = 0.00240330  |  train_accuracy = 0.9994  |  test_accuracy = 0.9922\n",
      "\n",
      "Learning Finished !\n"
     ]
    }
   ],
   "source": [
    "@tf.function\n",
    "def train(model, images, labels):\n",
    "    grads = grad(model, images, labels)\n",
    "    optimizer.apply_gradients(\n",
    "        grads_and_vars=zip(grads, model.trainable_variables))\n",
    "    pass\n",
    "\n",
    "\n",
    "for epoch in range(train_epoch):\n",
    "    avg_loss = 0.; avg_train_acc = 0.; avg_test_acc = 0.\n",
    "    train_step = 0; test_step = 0\n",
    "    \n",
    "    for images, labels in train_dataset:\n",
    "        train(model, images, labels)\n",
    "        loss = loss_fn(model, images, labels)\n",
    "        avg_loss = avg_loss + loss\n",
    "        acc = evaluate(model, images, labels)\n",
    "        avg_train_acc = avg_train_acc + acc\n",
    "        train_step += 1\n",
    "    avg_loss = avg_loss / train_step\n",
    "    avg_train_acc = avg_train_acc / train_step\n",
    "    \n",
    "    for images, labels in test_dataset:\n",
    "        acc = evaluate(model, images, labels)\n",
    "        avg_test_acc = avg_test_acc + acc\n",
    "        test_step += 1\n",
    "    avg_test_acc = avg_test_acc / test_step\n",
    "    \n",
    "    print(f'Epoch: {epoch+1:3}  |  loss = {avg_loss:10.8f}  |  '+\n",
    "          f'train_accuracy = {avg_train_acc:6.4f}  |  '+\n",
    "          f'test_accuracy = {avg_test_acc:6.4f}')\n",
    "    checkpoint.save(file_prefix=ckpt_prefix)\n",
    "\n",
    "print()\n",
    "print('Learning Finished !')"
   ]
  }
 ],
 "metadata": {
  "kernelspec": {
   "display_name": "Python 3",
   "language": "python",
   "name": "python3"
  },
  "language_info": {
   "codemirror_mode": {
    "name": "ipython",
    "version": 3
   },
   "file_extension": ".py",
   "mimetype": "text/x-python",
   "name": "python",
   "nbconvert_exporter": "python",
   "pygments_lexer": "ipython3",
   "version": "3.7.6"
  }
 },
 "nbformat": 4,
 "nbformat_minor": 4
}

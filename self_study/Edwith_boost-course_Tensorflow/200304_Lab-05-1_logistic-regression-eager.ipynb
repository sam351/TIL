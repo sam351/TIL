{
 "cells": [
  {
   "cell_type": "code",
   "execution_count": 1,
   "metadata": {},
   "outputs": [
    {
     "data": {
      "text/plain": [
       "'2.0.0'"
      ]
     },
     "execution_count": 1,
     "metadata": {},
     "output_type": "execute_result"
    }
   ],
   "source": [
    "import numpy as np\n",
    "import matplotlib.pyplot as plt\n",
    "import tensorflow as tf\n",
    "\n",
    "tf.random.set_seed(777)\n",
    "tf.__version__"
   ]
  },
  {
   "cell_type": "markdown",
   "metadata": {},
   "source": [
    "## 1. Prepare dataset"
   ]
  },
  {
   "cell_type": "code",
   "execution_count": 2,
   "metadata": {},
   "outputs": [
    {
     "data": {
      "image/png": "[encoded data removed]",
      "text/plain": [
       "<Figure size 432x288 with 1 Axes>"
      ]
     },
     "metadata": {
      "needs_background": "light"
     },
     "output_type": "display_data"
    }
   ],
   "source": [
    "# Initialize dataset\n",
    "x_train = [\n",
    "    [1., 2.],\n",
    "    [2., 3.],\n",
    "    [3., 1.],\n",
    "    [4., 3.],\n",
    "    [5., 3.],\n",
    "    [6., 2.]\n",
    "]\n",
    "y_train = [\n",
    "    [0.],\n",
    "    [0.],\n",
    "    [0.],\n",
    "    [1.],\n",
    "    [1.],\n",
    "    [1.]\n",
    "]\n",
    "x_test = [[5., 2.]]\n",
    "y_test = [[1.]]\n",
    "\n",
    "# Visualize the dataset\n",
    "x1 = [ x[0] for x in x_train ]\n",
    "x2 = [ x[1] for x in x_train ]\n",
    "colors = [ y[0] for y in y_train ]\n",
    "\n",
    "plt.scatter( x1, x2, c=colors, marker='^' )\n",
    "plt.scatter( x_test[0][0], x_test[0][1], c='red' )\n",
    "plt.show()"
   ]
  },
  {
   "cell_type": "code",
   "execution_count": 3,
   "metadata": {},
   "outputs": [],
   "source": [
    "# Transform the dataset\n",
    "dataset = tf.data.Dataset.from_tensor_slices((x_train, y_train)).\\\n",
    "            batch(len(x_train))"
   ]
  },
  {
   "cell_type": "markdown",
   "metadata": {},
   "source": [
    "## 2. Initialize weights and bias"
   ]
  },
  {
   "cell_type": "code",
   "execution_count": 4,
   "metadata": {},
   "outputs": [],
   "source": [
    "W = tf.Variable(tf.zeros([2,1]), name='weight')\n",
    "b = tf.Variable(tf.zeros([1]), name='bias')"
   ]
  },
  {
   "cell_type": "markdown",
   "metadata": {},
   "source": [
    "## 3. Define hypothesis"
   ]
  },
  {
   "cell_type": "code",
   "execution_count": 5,
   "metadata": {},
   "outputs": [],
   "source": [
    "def logistic_regression(features):\n",
    "    hypothesis = tf.divide( 1., 1. + tf.exp(tf.matmul(features, W) + b))\n",
    "    return hypothesis"
   ]
  },
  {
   "cell_type": "markdown",
   "metadata": {},
   "source": [
    "## 4. Define loss function"
   ]
  },
  {
   "cell_type": "code",
   "execution_count": 6,
   "metadata": {},
   "outputs": [],
   "source": [
    "def loss_fn(hypothesis, labels):\n",
    "    loss = -tf.reduce_mean(    labels * tf.math.log(hypothesis) +\n",
    "                            (1-labels) * tf.math.log(1-hypothesis) )\n",
    "    return loss"
   ]
  },
  {
   "cell_type": "markdown",
   "metadata": {},
   "source": [
    "## 5. Select optimizer"
   ]
  },
  {
   "cell_type": "code",
   "execution_count": 7,
   "metadata": {},
   "outputs": [],
   "source": [
    "optimizer = tf.keras.optimizers.SGD(learning_rate=0.01)"
   ]
  },
  {
   "cell_type": "markdown",
   "metadata": {},
   "source": [
    "## 6. Define a metric for model's performance"
   ]
  },
  {
   "cell_type": "code",
   "execution_count": 8,
   "metadata": {},
   "outputs": [],
   "source": [
    "def accuracy_fn(hypothesis, labels):\n",
    "    predicted = tf.cast( hypothesis > 0.5, dtype=tf.float32 )\n",
    "    accuracy = tf.reduce_mean( tf.cast(tf.equal(predicted, labels),\n",
    "                                       dtype=tf.int32) )\n",
    "    return accuracy"
   ]
  },
  {
   "cell_type": "markdown",
   "metadata": {},
   "source": [
    "## 7. Calculate a gradient"
   ]
  },
  {
   "cell_type": "code",
   "execution_count": 9,
   "metadata": {},
   "outputs": [],
   "source": [
    "def grad(features, labels):\n",
    "    with tf.GradientTape() as tape:\n",
    "        loss = loss_fn( logistic_regression(features), labels )\n",
    "    return tape.gradient( loss, [W,b] )"
   ]
  },
  {
   "cell_type": "markdown",
   "metadata": {},
   "source": [
    "## 8. Train & Test the model"
   ]
  },
  {
   "cell_type": "code",
   "execution_count": 10,
   "metadata": {
    "scrolled": true
   },
   "outputs": [
    {
     "name": "stdout",
     "output_type": "stream",
     "text": [
      "Iter:     0  |  Loss: 0.6874\n",
      "Iter:   100  |  Loss: 0.5776\n",
      "Iter:   200  |  Loss: 0.5349\n",
      "Iter:   300  |  Loss: 0.5054\n",
      "Iter:   400  |  Loss: 0.4838\n",
      "Iter:   500  |  Loss: 0.4671\n",
      "Iter:   600  |  Loss: 0.4535\n",
      "Iter:   700  |  Loss: 0.4420\n",
      "Iter:   800  |  Loss: 0.4319\n",
      "Iter:   900  |  Loss: 0.4228\n",
      "Iter:  1000  |  Loss: 0.4144\n",
      "\n",
      "Test set accuracy: 1.0000\n"
     ]
    }
   ],
   "source": [
    "Epochs = 1001\n",
    "\n",
    "for step in range(Epochs):\n",
    "    for features, labels in dataset:\n",
    "        grads = grad(features, labels)\n",
    "        optimizer.apply_gradients( grads_and_vars=zip(grads, [W,b]) )\n",
    "        \n",
    "        if step % 100 == 0:\n",
    "            print(f'Iter: {step:5}  |  ' +\n",
    "                  f'Loss: {loss_fn(logistic_regression(features), labels):.4f}')\n",
    "print()\n",
    "test_acc = accuracy_fn(logistic_regression(x_test), y_test)\n",
    "print(f'Test set accuracy: {test_acc:.4f}')"
   ]
  }
 ],
 "metadata": {
  "kernelspec": {
   "display_name": "Python 3",
   "language": "python",
   "name": "python3"
  },
  "language_info": {
   "codemirror_mode": {
    "name": "ipython",
    "version": 3
   },
   "file_extension": ".py",
   "mimetype": "text/x-python",
   "name": "python",
   "nbconvert_exporter": "python",
   "pygments_lexer": "ipython3",
   "version": "3.7.6"
  }
 },
 "nbformat": 4,
 "nbformat_minor": 4
}

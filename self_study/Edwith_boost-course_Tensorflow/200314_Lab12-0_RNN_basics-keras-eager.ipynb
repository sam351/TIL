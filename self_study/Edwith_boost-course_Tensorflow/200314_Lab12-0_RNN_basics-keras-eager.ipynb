{
  "nbformat": 4,
  "nbformat_minor": 0,
  "metadata": {
    "colab": {
      "name": "200314_Lab12-0_RNN_basics-keras-eager.ipynb",
      "provenance": [],
      "collapsed_sections": []
    },
    "kernelspec": {
      "name": "python3",
      "display_name": "Python 3"
    },
    "accelerator": "GPU"
  },
  "cells": [
    {
      "cell_type": "code",
      "metadata": {
        "id": "8hkuOF8wi5on",
        "colab_type": "code",
        "colab": {
          "base_uri": "https://localhost:8080/",
          "height": 34
        },
        "outputId": "681b2a8d-41ef-4236-e46b-d235113538e4"
      },
      "source": [
        "# !pip install tensorflow --upgrade\n",
        "\n",
        "import numpy as np\n",
        "import tensorflow as tf\n",
        "from tensorflow import keras\n",
        "\n",
        "tf.__version__"
      ],
      "execution_count": 1,
      "outputs": [
        {
          "output_type": "execute_result",
          "data": {
            "text/plain": [
              "'2.1.0'"
            ]
          },
          "metadata": {
            "tags": []
          },
          "execution_count": 1
        }
      ]
    },
    {
      "cell_type": "markdown",
      "metadata": {
        "id": "zDMJr9Uhj_nI",
        "colab_type": "text"
      },
      "source": [
        "## Preparing dataset"
      ]
    },
    {
      "cell_type": "code",
      "metadata": {
        "id": "_AwDrYZcjo5U",
        "colab_type": "code",
        "colab": {}
      },
      "source": [
        "# One hot encoding for each char in 'hello'\n",
        "h = [1, 0, 0, 0]\n",
        "e = [0, 1, 0, 0]\n",
        "l = [0, 0, 1, 0]\n",
        "o = [0, 0, 0, 1]"
      ],
      "execution_count": 0,
      "outputs": []
    },
    {
      "cell_type": "markdown",
      "metadata": {
        "id": "zpNbiIKUk3Rd",
        "colab_type": "text"
      },
      "source": [
        "## One cell: 4 (input_dim) in 2 (hidden_size)"
      ]
    },
    {
      "cell_type": "code",
      "metadata": {
        "id": "K9c8TRWBjo2u",
        "colab_type": "code",
        "colab": {
          "base_uri": "https://localhost:8080/",
          "height": 70
        },
        "outputId": "1f3e00bc-8cab-4ffe-de95-20e5826c8675"
      },
      "source": [
        "tf.random.set_seed(777)\n",
        "x_data = np.array([[h]], dtype=np.float32)  # size = [1, 1, 4]\n",
        "\n",
        "hidden_size = 2\n",
        "cell = keras.layers.SimpleRNNCell(units=hidden_size)\n",
        "rnn = keras.layers.RNN(cell=cell, return_sequences=True, return_state=True)\n",
        "outputs, states = rnn(x_data)\n",
        "\n",
        "print(f'x_data: {x_data}, shape: {x_data.shape}')\n",
        "print(f'outputs: {outputs}, shape: {outputs.shape}')\n",
        "print(f'states: {states}, shape: {states.shape}')"
      ],
      "execution_count": 3,
      "outputs": [
        {
          "output_type": "stream",
          "text": [
            "x_data: [[[1. 0. 0. 0.]]], shape: (1, 1, 4)\n",
            "outputs: [[[ 0.3680019  -0.56734836]]], shape: (1, 1, 2)\n",
            "states: [[ 0.3680019  -0.56734836]], shape: (1, 2)\n"
          ],
          "name": "stdout"
        }
      ]
    },
    {
      "cell_type": "code",
      "metadata": {
        "id": "gWZ-8uXsmLSf",
        "colab_type": "code",
        "colab": {
          "base_uri": "https://localhost:8080/",
          "height": 70
        },
        "outputId": "55282d12-588a-467f-8ad3-4d96de45f021"
      },
      "source": [
        "# equivalent to above code\n",
        "tf.random.set_seed(777)\n",
        "x_data = np.array([[h]], dtype=np.float32)  # size = [1, 1, 4]\n",
        "\n",
        "hidden_size = 2\n",
        "rnn = keras.layers.SimpleRNN(units=hidden_size, return_sequences=True, return_state=True)\n",
        "outputs, states = rnn(x_data)\n",
        "\n",
        "print(f'x_data: {x_data}, shape: {x_data.shape}')\n",
        "print(f'outputs: {outputs}, shape: {outputs.shape}')\n",
        "print(f'states: {states}, shape: {states.shape}')"
      ],
      "execution_count": 4,
      "outputs": [
        {
          "output_type": "stream",
          "text": [
            "x_data: [[[1. 0. 0. 0.]]], shape: (1, 1, 4)\n",
            "outputs: [[[ 0.3680019  -0.56734836]]], shape: (1, 1, 2)\n",
            "states: [[ 0.3680019  -0.56734836]], shape: (1, 2)\n"
          ],
          "name": "stdout"
        }
      ]
    },
    {
      "cell_type": "markdown",
      "metadata": {
        "id": "y1m3FOz4m-_H",
        "colab_type": "text"
      },
      "source": [
        "## Unfolding to n sequences"
      ]
    },
    {
      "cell_type": "code",
      "metadata": {
        "id": "Djj6Yojrjo0A",
        "colab_type": "code",
        "colab": {
          "base_uri": "https://localhost:8080/",
          "height": 318
        },
        "outputId": "2da197a0-1fa6-4ca4-a571-2b04bb7380c6"
      },
      "source": [
        "tf.random.set_seed(777)\n",
        "x_data = np.array([[h, e, l, l, o]], dtype=np.float32)\n",
        "\n",
        "hidden_size = 2\n",
        "rnn = keras.layers.SimpleRNN(units=hidden_size, return_sequences=True, return_state=True)\n",
        "outputs, states = rnn(x_data)\n",
        "\n",
        "print(f'x_data: {x_data}\\nshape: {x_data.shape}\\n')\n",
        "print(f'outputs: {outputs}\\nshape: {outputs.shape}\\n')\n",
        "print(f'states: {states}\\nshape: {states.shape}\\n')"
      ],
      "execution_count": 5,
      "outputs": [
        {
          "output_type": "stream",
          "text": [
            "x_data: [[[1. 0. 0. 0.]\n",
            "  [0. 1. 0. 0.]\n",
            "  [0. 0. 1. 0.]\n",
            "  [0. 0. 1. 0.]\n",
            "  [0. 0. 0. 1.]]]\n",
            "shape: (1, 5, 4)\n",
            "\n",
            "outputs: [[[ 0.3680019  -0.56734836]\n",
            "  [ 0.4114883   0.13965061]\n",
            "  [-0.68320704  0.8255957 ]\n",
            "  [ 0.41370615  0.88117987]\n",
            "  [ 0.7123188   0.53322625]]]\n",
            "shape: (1, 5, 2)\n",
            "\n",
            "states: [[0.7123188  0.53322625]]\n",
            "shape: (1, 2)\n",
            "\n"
          ],
          "name": "stdout"
        }
      ]
    },
    {
      "cell_type": "markdown",
      "metadata": {
        "id": "5lVHcWINoY02",
        "colab_type": "text"
      },
      "source": [
        "## Batching input"
      ]
    },
    {
      "cell_type": "code",
      "metadata": {
        "id": "o0fgyEiRjowr",
        "colab_type": "code",
        "colab": {
          "base_uri": "https://localhost:8080/",
          "height": 781
        },
        "outputId": "d00aeb49-c0ea-4915-f660-256ae29ea07f"
      },
      "source": [
        "tf.random.set_seed(777)\n",
        "x_data = np.array([[h, e, l, l, o],\n",
        "                   [e, o, l, l, l],\n",
        "                   [l, l, e, e, l]], dtype=np.float32)\n",
        "\n",
        "hidden_size = 2\n",
        "rnn = keras.layers.SimpleRNN(units=2, return_sequences=True, return_state=True)\n",
        "outputs, state = rnn(x_data)\n",
        "\n",
        "print(f'x_data: {x_data}\\nshape: {x_data.shape}\\n')\n",
        "print(f'outputs: {outputs}\\nshape: {outputs.shape}\\n')\n",
        "print(f'state: {state}\\nshape: {state.shape}\\n')"
      ],
      "execution_count": 6,
      "outputs": [
        {
          "output_type": "stream",
          "text": [
            "x_data: [[[1. 0. 0. 0.]\n",
            "  [0. 1. 0. 0.]\n",
            "  [0. 0. 1. 0.]\n",
            "  [0. 0. 1. 0.]\n",
            "  [0. 0. 0. 1.]]\n",
            "\n",
            " [[0. 1. 0. 0.]\n",
            "  [0. 0. 0. 1.]\n",
            "  [0. 0. 1. 0.]\n",
            "  [0. 0. 1. 0.]\n",
            "  [0. 0. 1. 0.]]\n",
            "\n",
            " [[0. 0. 1. 0.]\n",
            "  [0. 0. 1. 0.]\n",
            "  [0. 1. 0. 0.]\n",
            "  [0. 1. 0. 0.]\n",
            "  [0. 0. 1. 0.]]]\n",
            "shape: (3, 5, 4)\n",
            "\n",
            "outputs: [[[ 0.3680019  -0.56734836]\n",
            "  [ 0.4114883   0.13965058]\n",
            "  [-0.68320704  0.8255957 ]\n",
            "  [ 0.41370615  0.88117987]\n",
            "  [ 0.7123188   0.53322625]]\n",
            "\n",
            " [[ 0.7602807   0.47803095]\n",
            "  [ 0.3934883   0.3432451 ]\n",
            "  [-0.6288044   0.875172  ]\n",
            "  [ 0.38779333  0.89526427]\n",
            "  [-0.47752312  0.9527917 ]]\n",
            "\n",
            " [[-0.47007686  0.70922625]\n",
            "  [ 0.19591257  0.87559617]\n",
            "  [ 0.8198806   0.8860781 ]\n",
            "  [ 0.5266876   0.92959416]\n",
            "  [-0.5610914   0.9600702 ]]]\n",
            "shape: (3, 5, 2)\n",
            "\n",
            "state: [[ 0.7123188   0.53322625]\n",
            " [-0.47752312  0.9527917 ]\n",
            " [-0.5610914   0.9600702 ]]\n",
            "shape: (3, 2)\n",
            "\n"
          ],
          "name": "stdout"
        }
      ]
    },
    {
      "cell_type": "code",
      "metadata": {
        "id": "RIvJuxz4jn5j",
        "colab_type": "code",
        "colab": {}
      },
      "source": [
        ""
      ],
      "execution_count": 0,
      "outputs": []
    }
  ]
}
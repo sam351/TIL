{
  "nbformat": 4,
  "nbformat_minor": 0,
  "metadata": {
    "colab": {
      "name": "200315_Lab12-1_RNN_many-to-one-keras-eager.ipynb",
      "provenance": [],
      "collapsed_sections": []
    },
    "kernelspec": {
      "name": "python3",
      "display_name": "Python 3"
    }
  },
  "cells": [
    {
      "cell_type": "code",
      "metadata": {
        "id": "42-plsZp2C7w",
        "colab_type": "code",
        "colab": {
          "base_uri": "https://localhost:8080/",
          "height": 52
        },
        "outputId": "6530b866-2fc2-4c22-c001-3158e49ee5c4"
      },
      "source": [
        "# %tensorflow_version 2.x\n",
        "\n",
        "import numpy as np\n",
        "import tensorflow as tf\n",
        "import matplotlib.pyplot as plt\n",
        "from tensorflow import keras\n",
        "\n",
        "tf.random.set_seed(777)\n",
        "tf.__version__"
      ],
      "execution_count": 1,
      "outputs": [
        {
          "output_type": "stream",
          "text": [
            "TensorFlow 2.x selected.\n"
          ],
          "name": "stdout"
        },
        {
          "output_type": "execute_result",
          "data": {
            "text/plain": [
              "'2.1.0'"
            ]
          },
          "metadata": {
            "tags": []
          },
          "execution_count": 1
        }
      ]
    },
    {
      "cell_type": "markdown",
      "metadata": {
        "id": "6g9jGa3XNbua",
        "colab_type": "text"
      },
      "source": [
        "## Prepare dataset"
      ]
    },
    {
      "cell_type": "code",
      "metadata": {
        "id": "2Ekn8ZtGMhp2",
        "colab_type": "code",
        "colab": {
          "base_uri": "https://localhost:8080/",
          "height": 90
        },
        "outputId": "e8e518b6-f511-43e5-ac59-f6baf627bf38"
      },
      "source": [
        "words = ['good', 'bad', 'worse', 'so good']\n",
        "y_data = [1, 0, 0, 1]\n",
        "\n",
        "char_set = ['<pad>'] + sorted(list(set(''.join(words))))\n",
        "idx2char = { idx : char for idx, char in enumerate(char_set) }\n",
        "char2idx = { char : idx for idx, char in enumerate(char_set) }\n",
        "\n",
        "print(char_set)\n",
        "print(idx2char)\n",
        "print(char2idx)"
      ],
      "execution_count": 2,
      "outputs": [
        {
          "output_type": "stream",
          "text": [
            "['<pad>', ' ', 'a', 'b', 'd', 'e', 'g', 'o', 'r', 's', 'w']\n",
            "{0: '<pad>', 1: ' ', 2: 'a', 3: 'b', 4: 'd', 5: 'e', 6: 'g', 7: 'o', 8: 'r', 9: 's', 10: 'w'}\n",
            "{'<pad>': 0, ' ': 1, 'a': 2, 'b': 3, 'd': 4, 'e': 5, 'g': 6, 'o': 7, 'r': 8, 's': 9, 'w': 10}\n"
          ],
          "name": "stdout"
        }
      ]
    },
    {
      "cell_type": "code",
      "metadata": {
        "id": "RlsHj3PVOdOy",
        "colab_type": "code",
        "colab": {
          "base_uri": "https://localhost:8080/",
          "height": 52
        },
        "outputId": "4d021f5b-5560-491d-d7f6-08d3d22c45b2"
      },
      "source": [
        "# convert token sequence → indices sequence\n",
        "\n",
        "x_data = list( map(lambda word : [char2idx.get(char) for char in word], words) )\n",
        "# x_data = [ [ char2idx.get(char) for char in word ] for word in words ]\n",
        "\n",
        "x_data_len = list( map( lambda item : len(item), x_data ) )\n",
        "# x_data_len = [ len(item) for item in x_data ]\n",
        "\n",
        "\n",
        "print(x_data)\n",
        "print(x_data_len)"
      ],
      "execution_count": 3,
      "outputs": [
        {
          "output_type": "stream",
          "text": [
            "[[6, 7, 7, 4], [3, 2, 4], [10, 7, 8, 9, 5], [9, 7, 1, 6, 7, 7, 4]]\n",
            "[4, 3, 5, 7]\n"
          ],
          "name": "stdout"
        }
      ]
    },
    {
      "cell_type": "code",
      "metadata": {
        "id": "Wt-DGQMQOdDX",
        "colab_type": "code",
        "colab": {
          "base_uri": "https://localhost:8080/",
          "height": 123
        },
        "outputId": "d35a715a-a382-44a8-8add-f52cf3565da1"
      },
      "source": [
        "# add padding\n",
        "max_sequence = 10\n",
        "x_data = keras.preprocessing.sequence.pad_sequences(x_data, maxlen=max_sequence, padding='post', truncating='post')\n",
        "\n",
        "print(x_data)\n",
        "print(x_data_len)\n",
        "print(y_data)"
      ],
      "execution_count": 4,
      "outputs": [
        {
          "output_type": "stream",
          "text": [
            "[[ 6  7  7  4  0  0  0  0  0  0]\n",
            " [ 3  2  4  0  0  0  0  0  0  0]\n",
            " [10  7  8  9  5  0  0  0  0  0]\n",
            " [ 9  7  1  6  7  7  4  0  0  0]]\n",
            "[4, 3, 5, 7]\n",
            "[1, 0, 0, 1]\n"
          ],
          "name": "stdout"
        }
      ]
    },
    {
      "cell_type": "code",
      "metadata": {
        "id": "cAQK5QLnWd1V",
        "colab_type": "code",
        "colab": {
          "base_uri": "https://localhost:8080/",
          "height": 34
        },
        "outputId": "f8398ad9-db92-408c-c08a-bb5cb355fb0d"
      },
      "source": [
        "# generate data pipeline\n",
        "batch_size = 2\n",
        "tr_dataset = tf.data.Dataset.from_tensor_slices((x_data, y_data)).shuffle(buffer_size = 4).batch(batch_size)\n",
        "tr_dataset"
      ],
      "execution_count": 5,
      "outputs": [
        {
          "output_type": "execute_result",
          "data": {
            "text/plain": [
              "<BatchDataset shapes: ((None, 10), (None,)), types: (tf.int32, tf.int32)>"
            ]
          },
          "metadata": {
            "tags": []
          },
          "execution_count": 5
        }
      ]
    },
    {
      "cell_type": "markdown",
      "metadata": {
        "id": "3ffPzXp3OI7x",
        "colab_type": "text"
      },
      "source": [
        "## Create model"
      ]
    },
    {
      "cell_type": "code",
      "metadata": {
        "id": "bTvMNW5pOHJl",
        "colab_type": "code",
        "colab": {
          "base_uri": "https://localhost:8080/",
          "height": 265
        },
        "outputId": "7cc03529-e621-4f7e-8dea-2c21da5e00f3"
      },
      "source": [
        "input_dim = len(char2idx)\n",
        "output_dim = len(char2idx)\n",
        "one_hot = np.eye(len(char2idx))\n",
        "hidden_size = 10\n",
        "num_classes = 2\n",
        "\n",
        "model = keras.Sequential()\n",
        "model.add( keras.layers.Embedding(input_dim=input_dim, output_dim=output_dim, embeddings_initializer=keras.initializers.Constant(one_hot), trainable=False, mask_zero=True, input_length=max_sequence) )\n",
        "model.add( keras.layers.SimpleRNN(units=hidden_size) )\n",
        "model.add( keras.layers.Dense(units=num_classes) )\n",
        "\n",
        "model.summary()"
      ],
      "execution_count": 6,
      "outputs": [
        {
          "output_type": "stream",
          "text": [
            "Model: \"sequential\"\n",
            "_________________________________________________________________\n",
            "Layer (type)                 Output Shape              Param #   \n",
            "=================================================================\n",
            "embedding (Embedding)        (None, 10, 11)            121       \n",
            "_________________________________________________________________\n",
            "simple_rnn (SimpleRNN)       (None, 10)                220       \n",
            "_________________________________________________________________\n",
            "dense (Dense)                (None, 2)                 22        \n",
            "=================================================================\n",
            "Total params: 363\n",
            "Trainable params: 242\n",
            "Non-trainable params: 121\n",
            "_________________________________________________________________\n"
          ],
          "name": "stdout"
        }
      ]
    },
    {
      "cell_type": "markdown",
      "metadata": {
        "id": "jNw3Nj3wWFj8",
        "colab_type": "text"
      },
      "source": [
        "## Define loss function & Select optimizer"
      ]
    },
    {
      "cell_type": "code",
      "metadata": {
        "id": "vLsTascyWGG3",
        "colab_type": "code",
        "colab": {}
      },
      "source": [
        "def loss_fn( model, x, y ):\n",
        "  return tf.reduce_mean(keras.losses.sparse_categorical_crossentropy(y_true=y, y_pred=model(x), from_logits=True))\n",
        "\n",
        "lr = 0.01\n",
        "opt = keras.optimizers.Adam(learning_rate=lr)"
      ],
      "execution_count": 0,
      "outputs": []
    },
    {
      "cell_type": "markdown",
      "metadata": {
        "id": "DsBRfhoGVkd3",
        "colab_type": "text"
      },
      "source": [
        "## Train model"
      ]
    },
    {
      "cell_type": "code",
      "metadata": {
        "id": "ix8V_mQeVbqp",
        "colab_type": "code",
        "colab": {
          "base_uri": "https://localhost:8080/",
          "height": 123
        },
        "outputId": "d9f15f69-4bcd-435c-e485-bd4c8e30e26b"
      },
      "source": [
        "epochs = 30\n",
        "tr_loss_hist = []\n",
        "\n",
        "for epoch in range(epochs):\n",
        "  avg_tr_loss = 0\n",
        "  tr_step = 0\n",
        "\n",
        "  for x_mb, y_mb in tr_dataset:\n",
        "    with tf.GradientTape() as tape:\n",
        "      tr_loss = loss_fn(model, x_mb, y_mb)\n",
        "    grads = tape.gradient(target=tr_loss, sources=model.variables)\n",
        "    opt.apply_gradients(grads_and_vars=zip(grads, model.variables))\n",
        "\n",
        "    avg_tr_loss += tr_loss\n",
        "    tr_step += 1\n",
        "  else:\n",
        "    avg_tr_loss /= tr_step\n",
        "    tr_loss_hist.append(avg_tr_loss)\n",
        "  \n",
        "  if (epoch+1)%5 == 0:\n",
        "    print(f'epoch : {epoch+1:3}  |  tr_loss : {avg_tr_loss.numpy():.4f}')"
      ],
      "execution_count": 8,
      "outputs": [
        {
          "output_type": "stream",
          "text": [
            "epoch :   5  |  tr_loss : 0.2572\n",
            "epoch :  10  |  tr_loss : 0.0897\n",
            "epoch :  15  |  tr_loss : 0.0328\n",
            "epoch :  20  |  tr_loss : 0.0158\n",
            "epoch :  25  |  tr_loss : 0.0095\n",
            "epoch :  30  |  tr_loss : 0.0066\n"
          ],
          "name": "stdout"
        }
      ]
    },
    {
      "cell_type": "markdown",
      "metadata": {
        "id": "V_L_KtrkencC",
        "colab_type": "text"
      },
      "source": [
        "## Checking performance"
      ]
    },
    {
      "cell_type": "code",
      "metadata": {
        "id": "fpQl-aL7enJu",
        "colab_type": "code",
        "colab": {
          "base_uri": "https://localhost:8080/",
          "height": 335
        },
        "outputId": "0481c05c-6abb-4894-a919-90e66307f912"
      },
      "source": [
        "yhat = np.argmax( model.predict(x_data), axis=-1 )\n",
        "\n",
        "print(f'prediction : {yhat}\\n')\n",
        "print(f'accuracy : {np.mean( yhat==y_data ):.2%}\\n')\n",
        "\n",
        "plt.plot(tr_loss_hist)\n",
        "plt.show()"
      ],
      "execution_count": 9,
      "outputs": [
        {
          "output_type": "stream",
          "text": [
            "prediction : [1 0 0 1]\n",
            "\n",
            "accuracy : 100.00%\n",
            "\n"
          ],
          "name": "stdout"
        },
        {
          "output_type": "display_data",
          "data": {
            "image/png": "[encoded data removed]",
            "text/plain": [
              "<Figure size 432x288 with 1 Axes>"
            ]
          },
          "metadata": {
            "tags": []
          }
        }
      ]
    }
  ]
}
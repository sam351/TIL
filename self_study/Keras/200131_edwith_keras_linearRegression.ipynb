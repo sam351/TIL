{
 "cells": [
  {
   "cell_type": "code",
   "execution_count": 1,
   "metadata": {},
   "outputs": [
    {
     "name": "stderr",
     "output_type": "stream",
     "text": [
      "Using TensorFlow backend.\n"
     ]
    }
   ],
   "source": [
    "from keras.models import Sequential\n",
    "from keras.layers import Dense\n",
    "from keras import optimizers\n",
    "\n",
    "import numpy as np\n",
    "\n",
    "import matplotlib.pyplot as plt\n",
    "\n",
    "import warnings\n",
    "warnings.filterwarnings(action='ignore')"
   ]
  },
  {
   "cell_type": "markdown",
   "metadata": {},
   "source": [
    "### Linear regression model"
   ]
  },
  {
   "cell_type": "code",
   "execution_count": 3,
   "metadata": {
    "scrolled": false
   },
   "outputs": [
    {
     "name": "stdout",
     "output_type": "stream",
     "text": [
      "Epoch 1/10\n",
      "6/6 [==============================] - 1s 131ms/step - loss: 447.3494 - acc: 0.0000e+00\n",
      "Epoch 2/10\n",
      "6/6 [==============================] - 0s 7ms/step - loss: 1.9481 - acc: 0.1667\n",
      "Epoch 3/10\n",
      "6/6 [==============================] - 0s 6ms/step - loss: 1.2842 - acc: 0.1667\n",
      "Epoch 4/10\n",
      "6/6 [==============================] - 0s 9ms/step - loss: 1.2730 - acc: 0.1667\n",
      "Epoch 5/10\n",
      "6/6 [==============================] - 0s 7ms/step - loss: 1.2178 - acc: 0.1667\n",
      "Epoch 6/10\n",
      "6/6 [==============================] - 0s 7ms/step - loss: 1.1623 - acc: 0.1667\n",
      "Epoch 7/10\n",
      "6/6 [==============================] - 0s 6ms/step - loss: 1.1091 - acc: 0.1667\n",
      "Epoch 8/10\n",
      "6/6 [==============================] - 0s 5ms/step - loss: 1.0584 - acc: 0.1667\n",
      "Epoch 9/10\n",
      "6/6 [==============================] - 0s 6ms/step - loss: 1.0100 - acc: 0.1667\n",
      "Epoch 10/10\n",
      "6/6 [==============================] - 0s 6ms/step - loss: 0.9638 - acc: 0.1667\n",
      "x_test_input : 8 // y_prediction : [[79.06331]] // y_calculation : 80\n"
     ]
    }
   ],
   "source": [
    "np.random.seed(0)\n",
    "std_time = np.arange(1,7)\n",
    "score = np.arange(10, 70, 10)\n",
    "\n",
    "model = Sequential()\n",
    "model.add(Dense(1, input_dim=1, activation='linear'))\n",
    "\n",
    "sgd = optimizers.SGD(lr=0.01)\n",
    "\n",
    "model.compile(optimizer=sgd, loss='mse', metrics=['accuracy'])\n",
    "model.fit(std_time, score, batch_size=1, epochs=10, shuffle=False)\n",
    "\n",
    "pred = model.predict([8])\n",
    "print(f'x_test_input : 8 // y_prediction : {pred} // y_calculation : {8*10}')"
   ]
  },
  {
   "cell_type": "markdown",
   "metadata": {},
   "source": [
    "### Multiple linear regression model"
   ]
  },
  {
   "cell_type": "code",
   "execution_count": 4,
   "metadata": {},
   "outputs": [
    {
     "data": {
      "image/png": "[encoded data removed]",
      "text/plain": [
       "<Figure size 432x288 with 1 Axes>"
      ]
     },
     "metadata": {
      "needs_background": "light"
     },
     "output_type": "display_data"
    },
    {
     "name": "stdout",
     "output_type": "stream",
     "text": [
      "X_test_start : 98 // y_prediction : 196  //  y_calculation : 167\n"
     ]
    }
   ],
   "source": [
    "np.random.seed(0)\n",
    "scores1 = np.random.randint(30, 100, size=5)\n",
    "scores2 = np.random.randint(30, 100, size=5)\n",
    "\n",
    "X = np.array(\n",
    "    [[score, int(score*1.2), int(score*1.2*1.5) ] for score in scores1] +\\\n",
    "    [[score, int(score*0.9), int(score*0.9*1.9) ] for score in scores2]\n",
    ")\n",
    "y = np.array(\n",
    "    [int(score*1.2*1.5*0.95) for score in scores1] +\\\n",
    "    [int(score*0.9*1.9*1.3) for score in scores2]\n",
    ")\n",
    "\n",
    "X_test = np.array([[98, int(98*1.2), int(98*1.2*1.5)]])\n",
    "\n",
    "\n",
    "model = Sequential()\n",
    "model.add( Dense(1, input_dim = 3, activation='linear') )\n",
    "\n",
    "sgd = optimizers.SGD(lr=0.00001)\n",
    "\n",
    "model.compile(optimizer=sgd, loss='mse', metrics=['mse'])\n",
    "\n",
    "hist = model.fit(X, y, batch_size = 1, epochs = 100, shuffle = False, verbose=0)\n",
    "# print(hist.history['loss'])\n",
    "plt.plot(hist.history['loss'], 'y', label='train loss')\n",
    "plt.show()\n",
    "\n",
    "pred = int(model.predict(X_test))\n",
    "cal = int(98*1.2*1.5*0.95)\n",
    "print(f'X_test_start : 98 // y_prediction : {pred}  //  y_calculation : {cal}')"
   ]
  }
 ],
 "metadata": {
  "kernelspec": {
   "display_name": "Python 3",
   "language": "python",
   "name": "python3"
  },
  "language_info": {
   "codemirror_mode": {
    "name": "ipython",
    "version": 3
   },
   "file_extension": ".py",
   "mimetype": "text/x-python",
   "name": "python",
   "nbconvert_exporter": "python",
   "pygments_lexer": "ipython3",
   "version": "3.7.6"
  }
 },
 "nbformat": 4,
 "nbformat_minor": 2
}

{
 "cells": [
  {
   "cell_type": "code",
   "execution_count": 1,
   "metadata": {},
   "outputs": [],
   "source": [
    "from selenium import webdriver\n",
    "import time\n",
    "from tqdm import tqdm_notebook\n",
    "\n",
    "from secret import KMOOC_id\n",
    "from secret import KMOOC_password"
   ]
  },
  {
   "cell_type": "code",
   "execution_count": 2,
   "metadata": {},
   "outputs": [],
   "source": [
    "# generate Webdriver object - Chrome version 79.0.3945.130 (64 bit)\n",
    "driver = webdriver.Chrome('driver/chromedriver.exe')  # webdriver.Chrome('directory')\n",
    "\n",
    "driver.get('https://www.kmooc.kr/login')  # get('url')\n",
    "# driver.implicitly_wait(1)"
   ]
  },
  {
   "cell_type": "code",
   "execution_count": 3,
   "metadata": {},
   "outputs": [],
   "source": [
    "tmp_elem = driver.find_element_by_xpath('//*[@id=\"login-email\"]')\n",
    "tmp_elem.send_keys(KMOOC_id)\n",
    "\n",
    "tmp_elem = driver.find_element_by_xpath('//*[@id=\"login-password\"]')\n",
    "tmp_elem.send_keys(KMOOC_password)\n",
    "\n",
    "tmp_btn = driver.find_element_by_xpath('//*[@id=\"login\"]/button')\n",
    "tmp_btn.click()\n",
    "driver.implicitly_wait(1)"
   ]
  },
  {
   "cell_type": "code",
   "execution_count": 5,
   "metadata": {},
   "outputs": [],
   "source": [
    "driver.get('http://www.kmooc.kr/courses/course-v1:SNUk+SNU212_204_1k+2019_T1/course/')\n",
    "driver.implicitly_wait(1)\n",
    "\n",
    "tmp_btn = driver.find_element_by_xpath('//*[@id=\"expand-collapse-outline-all-span\"]')\n",
    "tmp_btn.click()\n",
    "driver.implicitly_wait(1)"
   ]
  },
  {
   "cell_type": "code",
   "execution_count": null,
   "metadata": {},
   "outputs": [],
   "source": []
  }
 ],
 "metadata": {
  "kernelspec": {
   "display_name": "Python 3",
   "language": "python",
   "name": "python3"
  },
  "language_info": {
   "codemirror_mode": {
    "name": "ipython",
    "version": 3
   },
   "file_extension": ".py",
   "mimetype": "text/x-python",
   "name": "python",
   "nbconvert_exporter": "python",
   "pygments_lexer": "ipython3",
   "version": "3.6.6"
  }
 },
 "nbformat": 4,
 "nbformat_minor": 4
}
